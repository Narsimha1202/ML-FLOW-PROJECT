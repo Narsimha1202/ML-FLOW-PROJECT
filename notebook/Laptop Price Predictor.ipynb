{
 "cells": [
  {
   "cell_type": "code",
   "execution_count": 1,
   "id": "3b9b2005",
   "metadata": {},
   "outputs": [
    {
     "ename": "ModuleNotFoundError",
     "evalue": "No module named 'seaborn'",
     "output_type": "error",
     "traceback": [
      "\u001b[1;31m---------------------------------------------------------------------------\u001b[0m",
      "\u001b[1;31mModuleNotFoundError\u001b[0m                       Traceback (most recent call last)",
      "Cell \u001b[1;32mIn[1], line 6\u001b[0m\n\u001b[0;32m      4\u001b[0m \u001b[38;5;28;01mimport\u001b[39;00m \u001b[38;5;21;01mpandas\u001b[39;00m \u001b[38;5;28;01mas\u001b[39;00m \u001b[38;5;21;01mpd\u001b[39;00m\n\u001b[0;32m      5\u001b[0m \u001b[38;5;28;01mimport\u001b[39;00m \u001b[38;5;21;01mmatplotlib\u001b[39;00m\u001b[38;5;21;01m.\u001b[39;00m\u001b[38;5;21;01mpyplot\u001b[39;00m \u001b[38;5;28;01mas\u001b[39;00m \u001b[38;5;21;01mplt\u001b[39;00m\n\u001b[1;32m----> 6\u001b[0m \u001b[38;5;28;01mimport\u001b[39;00m \u001b[38;5;21;01mseaborn\u001b[39;00m \u001b[38;5;28;01mas\u001b[39;00m \u001b[38;5;21;01msns\u001b[39;00m\n\u001b[0;32m      8\u001b[0m \u001b[38;5;28;01mfrom\u001b[39;00m \u001b[38;5;21;01mscipy\u001b[39;00m \u001b[38;5;28;01mimport\u001b[39;00m stats\n\u001b[0;32m      9\u001b[0m \u001b[38;5;28;01mfrom\u001b[39;00m \u001b[38;5;21;01mscipy\u001b[39;00m\u001b[38;5;21;01m.\u001b[39;00m\u001b[38;5;21;01mstats\u001b[39;00m \u001b[38;5;28;01mimport\u001b[39;00m boxcox\n",
      "\u001b[1;31mModuleNotFoundError\u001b[0m: No module named 'seaborn'"
     ]
    }
   ],
   "source": [
    "# Importing Libraries\n",
    "\n",
    "import numpy as np\n",
    "import pandas as pd\n",
    "import matplotlib.pyplot as plt\n",
    "import seaborn as sns\n",
    "\n",
    "from scipy import stats\n",
    "from scipy.stats import boxcox\n",
    "\n",
    "import re\n",
    "\n",
    "import plotly.express as px\n",
    "\n",
    "from sklearn.model_selection import train_test_split\n",
    "from sklearn.compose import ColumnTransformer\n",
    "from sklearn.pipeline import Pipeline\n",
    "from sklearn.preprocessing import OneHotEncoder\n",
    "from sklearn.metrics import r2_score,mean_absolute_error\n",
    "\n",
    "from sklearn.linear_model import LinearRegression,Ridge,Lasso\n",
    "from sklearn.neighbors import KNeighborsRegressor\n",
    "from sklearn.tree import DecisionTreeRegressor\n",
    "from sklearn.ensemble import RandomForestRegressor,GradientBoostingRegressor,AdaBoostRegressor,ExtraTreesRegressor\n",
    "from sklearn.svm import SVR\n",
    "from xgboost import XGBRegressor\n",
    "\n",
    "import warnings\n",
    "warnings.filterwarnings(\"ignore\")"
   ]
  },
  {
   "cell_type": "code",
   "execution_count": 2,
   "id": "489271d4",
   "metadata": {},
   "outputs": [],
   "source": [
    "# Loading Dataset\n",
    "\n",
    "df = pd.read_csv(\"laptop_details.csv\")"
   ]
  },
  {
   "cell_type": "code",
   "execution_count": 3,
   "id": "17ba63de",
   "metadata": {},
   "outputs": [
    {
     "data": {
      "text/html": [
       "<div>\n",
       "<style scoped>\n",
       "    .dataframe tbody tr th:only-of-type {\n",
       "        vertical-align: middle;\n",
       "    }\n",
       "\n",
       "    .dataframe tbody tr th {\n",
       "        vertical-align: top;\n",
       "    }\n",
       "\n",
       "    .dataframe thead th {\n",
       "        text-align: right;\n",
       "    }\n",
       "</style>\n",
       "<table border=\"1\" class=\"dataframe\">\n",
       "  <thead>\n",
       "    <tr style=\"text-align: right;\">\n",
       "      <th></th>\n",
       "      <th>Product</th>\n",
       "      <th>Rating</th>\n",
       "      <th>MRP</th>\n",
       "      <th>Feature</th>\n",
       "    </tr>\n",
       "  </thead>\n",
       "  <tbody>\n",
       "    <tr>\n",
       "      <th>0</th>\n",
       "      <td>Lenovo IdeaPad 3 Core i3 11th Gen - (8 GB/256 ...</td>\n",
       "      <td>4.2</td>\n",
       "      <td>₹36,990</td>\n",
       "      <td>Intel Core i3 Processor (11th Gen)8 GB DDR4 RA...</td>\n",
       "    </tr>\n",
       "    <tr>\n",
       "      <th>1</th>\n",
       "      <td>Lenovo IdeaPad 3 Core i3 11th Gen - (8 GB/512 ...</td>\n",
       "      <td>4.2</td>\n",
       "      <td>₹39,990</td>\n",
       "      <td>Intel Core i3 Processor (11th Gen)8 GB DDR4 RA...</td>\n",
       "    </tr>\n",
       "    <tr>\n",
       "      <th>2</th>\n",
       "      <td>ASUS VivoBook 15 (2022) Core i3 10th Gen - (8 ...</td>\n",
       "      <td>4.3</td>\n",
       "      <td>₹32,990</td>\n",
       "      <td>Intel Core i3 Processor (10th Gen)8 GB DDR4 RA...</td>\n",
       "    </tr>\n",
       "    <tr>\n",
       "      <th>3</th>\n",
       "      <td>HP Pavilion Ryzen 5 Hexa Core AMD R5-5600H - (...</td>\n",
       "      <td>4.4</td>\n",
       "      <td>₹49,990</td>\n",
       "      <td>AMD Ryzen 5 Hexa Core Processor8 GB DDR4 RAM64...</td>\n",
       "    </tr>\n",
       "    <tr>\n",
       "      <th>4</th>\n",
       "      <td>ASUS TUF Gaming F15 Core i5 10th Gen - (8 GB/5...</td>\n",
       "      <td>4.4</td>\n",
       "      <td>₹49,990</td>\n",
       "      <td>Intel Core i5 Processor (10th Gen)8 GB DDR4 RA...</td>\n",
       "    </tr>\n",
       "  </tbody>\n",
       "</table>\n",
       "</div>"
      ],
      "text/plain": [
       "                                             Product  Rating      MRP  \\\n",
       "0  Lenovo IdeaPad 3 Core i3 11th Gen - (8 GB/256 ...     4.2  ₹36,990   \n",
       "1  Lenovo IdeaPad 3 Core i3 11th Gen - (8 GB/512 ...     4.2  ₹39,990   \n",
       "2  ASUS VivoBook 15 (2022) Core i3 10th Gen - (8 ...     4.3  ₹32,990   \n",
       "3  HP Pavilion Ryzen 5 Hexa Core AMD R5-5600H - (...     4.4  ₹49,990   \n",
       "4  ASUS TUF Gaming F15 Core i5 10th Gen - (8 GB/5...     4.4  ₹49,990   \n",
       "\n",
       "                                             Feature  \n",
       "0  Intel Core i3 Processor (11th Gen)8 GB DDR4 RA...  \n",
       "1  Intel Core i3 Processor (11th Gen)8 GB DDR4 RA...  \n",
       "2  Intel Core i3 Processor (10th Gen)8 GB DDR4 RA...  \n",
       "3  AMD Ryzen 5 Hexa Core Processor8 GB DDR4 RAM64...  \n",
       "4  Intel Core i5 Processor (10th Gen)8 GB DDR4 RA...  "
      ]
     },
     "execution_count": 3,
     "metadata": {},
     "output_type": "execute_result"
    }
   ],
   "source": [
    "# Printing Top 5 Rows\n",
    "\n",
    "df.head()"
   ]
  },
  {
   "cell_type": "code",
   "execution_count": 4,
   "id": "340a11b8",
   "metadata": {},
   "outputs": [
    {
     "data": {
      "text/html": [
       "<div>\n",
       "<style scoped>\n",
       "    .dataframe tbody tr th:only-of-type {\n",
       "        vertical-align: middle;\n",
       "    }\n",
       "\n",
       "    .dataframe tbody tr th {\n",
       "        vertical-align: top;\n",
       "    }\n",
       "\n",
       "    .dataframe thead th {\n",
       "        text-align: right;\n",
       "    }\n",
       "</style>\n",
       "<table border=\"1\" class=\"dataframe\">\n",
       "  <thead>\n",
       "    <tr style=\"text-align: right;\">\n",
       "      <th></th>\n",
       "      <th>Product</th>\n",
       "      <th>Rating</th>\n",
       "      <th>MRP</th>\n",
       "      <th>Feature</th>\n",
       "    </tr>\n",
       "  </thead>\n",
       "  <tbody>\n",
       "    <tr>\n",
       "      <th>715</th>\n",
       "      <td>ASUS Chromebook Flip Touch Celeron Dual Core -...</td>\n",
       "      <td>4.0</td>\n",
       "      <td>₹23,490</td>\n",
       "      <td>Intel Celeron Dual Core Processor4 GB LPDDR4 R...</td>\n",
       "    </tr>\n",
       "    <tr>\n",
       "      <th>716</th>\n",
       "      <td>Lenovo IdeaPad Gaming 3 Ryzen 7 Octa Core AMD ...</td>\n",
       "      <td>4.5</td>\n",
       "      <td>₹73,490</td>\n",
       "      <td>AMD Ryzen 7 Octa Core Processor8 GB DDR4 RAM64...</td>\n",
       "    </tr>\n",
       "    <tr>\n",
       "      <th>717</th>\n",
       "      <td>ASUS ROG Zephyrus G15 Ryzen 9 Octa Core 6900HS...</td>\n",
       "      <td>NaN</td>\n",
       "      <td>₹1,94,990</td>\n",
       "      <td>AMD Ryzen 9 Octa Core Processor16 GB DDR5 RAM6...</td>\n",
       "    </tr>\n",
       "    <tr>\n",
       "      <th>718</th>\n",
       "      <td>ASUS Zenbook Flip 14 OLED (2022) Touch Panel C...</td>\n",
       "      <td>3.0</td>\n",
       "      <td>₹1,25,990</td>\n",
       "      <td>Intel Core i7 Processor (12th Gen)16 GB LPDDR5...</td>\n",
       "    </tr>\n",
       "    <tr>\n",
       "      <th>719</th>\n",
       "      <td>Lenovo Ideapad Slim 3i Core i5 10th Gen - (8 G...</td>\n",
       "      <td>4.2</td>\n",
       "      <td>₹50,990</td>\n",
       "      <td>Intel Core i5 Processor (10th Gen)8 GB DDR4 RA...</td>\n",
       "    </tr>\n",
       "  </tbody>\n",
       "</table>\n",
       "</div>"
      ],
      "text/plain": [
       "                                               Product  Rating        MRP  \\\n",
       "715  ASUS Chromebook Flip Touch Celeron Dual Core -...     4.0    ₹23,490   \n",
       "716  Lenovo IdeaPad Gaming 3 Ryzen 7 Octa Core AMD ...     4.5    ₹73,490   \n",
       "717  ASUS ROG Zephyrus G15 Ryzen 9 Octa Core 6900HS...     NaN  ₹1,94,990   \n",
       "718  ASUS Zenbook Flip 14 OLED (2022) Touch Panel C...     3.0  ₹1,25,990   \n",
       "719  Lenovo Ideapad Slim 3i Core i5 10th Gen - (8 G...     4.2    ₹50,990   \n",
       "\n",
       "                                               Feature  \n",
       "715  Intel Celeron Dual Core Processor4 GB LPDDR4 R...  \n",
       "716  AMD Ryzen 7 Octa Core Processor8 GB DDR4 RAM64...  \n",
       "717  AMD Ryzen 9 Octa Core Processor16 GB DDR5 RAM6...  \n",
       "718  Intel Core i7 Processor (12th Gen)16 GB LPDDR5...  \n",
       "719  Intel Core i5 Processor (10th Gen)8 GB DDR4 RA...  "
      ]
     },
     "execution_count": 4,
     "metadata": {},
     "output_type": "execute_result"
    }
   ],
   "source": [
    "# Printing Last 5 Rows\n",
    "\n",
    "df.tail()"
   ]
  },
  {
   "cell_type": "code",
   "execution_count": 5,
   "id": "3e083c8a",
   "metadata": {},
   "outputs": [
    {
     "data": {
      "text/html": [
       "<div>\n",
       "<style scoped>\n",
       "    .dataframe tbody tr th:only-of-type {\n",
       "        vertical-align: middle;\n",
       "    }\n",
       "\n",
       "    .dataframe tbody tr th {\n",
       "        vertical-align: top;\n",
       "    }\n",
       "\n",
       "    .dataframe thead th {\n",
       "        text-align: right;\n",
       "    }\n",
       "</style>\n",
       "<table border=\"1\" class=\"dataframe\">\n",
       "  <thead>\n",
       "    <tr style=\"text-align: right;\">\n",
       "      <th></th>\n",
       "      <th>Product</th>\n",
       "      <th>Rating</th>\n",
       "      <th>MRP</th>\n",
       "      <th>Feature</th>\n",
       "    </tr>\n",
       "  </thead>\n",
       "  <tbody>\n",
       "    <tr>\n",
       "      <th>425</th>\n",
       "      <td>Lenovo Yoga Slim 7 Intel EVO Core i7 11th Gen ...</td>\n",
       "      <td>4.2</td>\n",
       "      <td>₹1,02,990</td>\n",
       "      <td>Intel Core i7 Processor (11th Gen)16 GB DDR4 R...</td>\n",
       "    </tr>\n",
       "    <tr>\n",
       "      <th>349</th>\n",
       "      <td>DELL Vostro Core i5 11th Gen - (8 GB/512 GB SS...</td>\n",
       "      <td>3.9</td>\n",
       "      <td>₹63,090</td>\n",
       "      <td>Processor: 11th Generation Intel Core i5-1135G...</td>\n",
       "    </tr>\n",
       "    <tr>\n",
       "      <th>718</th>\n",
       "      <td>ASUS Zenbook Flip 14 OLED (2022) Touch Panel C...</td>\n",
       "      <td>3.0</td>\n",
       "      <td>₹1,25,990</td>\n",
       "      <td>Intel Core i7 Processor (12th Gen)16 GB LPDDR5...</td>\n",
       "    </tr>\n",
       "    <tr>\n",
       "      <th>404</th>\n",
       "      <td>Nokia PureBook X14 Core i5 10th Gen - (8 GB/51...</td>\n",
       "      <td>4.4</td>\n",
       "      <td>₹50,490</td>\n",
       "      <td>Intel Core i5 Processor (10th Gen)8 GB DDR4 RA...</td>\n",
       "    </tr>\n",
       "    <tr>\n",
       "      <th>296</th>\n",
       "      <td>ASUS TUF Gaming F17 (2022) Core i7 12th Gen - ...</td>\n",
       "      <td>4.3</td>\n",
       "      <td>₹1,09,990</td>\n",
       "      <td>Intel Core i7 Processor (12th Gen)16 GB DDR5 R...</td>\n",
       "    </tr>\n",
       "    <tr>\n",
       "      <th>687</th>\n",
       "      <td>Lenovo IdeaPad 1 Ryzen 3 Dual Core 3250U - (8 ...</td>\n",
       "      <td>4.2</td>\n",
       "      <td>₹35,590</td>\n",
       "      <td>AMD Ryzen 3 Dual Core Processor8 GB DDR4 RAM64...</td>\n",
       "    </tr>\n",
       "    <tr>\n",
       "      <th>517</th>\n",
       "      <td>Lenovo IdeaPad 1 Ryzen 3 Dual Core 3250U - (8 ...</td>\n",
       "      <td>4.2</td>\n",
       "      <td>₹35,590</td>\n",
       "      <td>AMD Ryzen 3 Dual Core Processor8 GB DDR4 RAM64...</td>\n",
       "    </tr>\n",
       "    <tr>\n",
       "      <th>233</th>\n",
       "      <td>APPLE 2022 MacBook Pro M2 - (8 GB/256 GB SSD/M...</td>\n",
       "      <td>4.6</td>\n",
       "      <td>₹1,21,990</td>\n",
       "      <td>Apple M2 Processor8 GB Unified Memory RAMMac O...</td>\n",
       "    </tr>\n",
       "    <tr>\n",
       "      <th>472</th>\n",
       "      <td>HP Pavilion Intel Core i5 12th Gen - (16 GB/51...</td>\n",
       "      <td>4.2</td>\n",
       "      <td>₹69,990</td>\n",
       "      <td>Intel Core i5 Processor (12th Gen)16 GB DDR4 R...</td>\n",
       "    </tr>\n",
       "    <tr>\n",
       "      <th>420</th>\n",
       "      <td>Lenovo IdeaPad 1 Ryzen 5 Quad Core 3500U - (8 ...</td>\n",
       "      <td>4.2</td>\n",
       "      <td>₹38,705</td>\n",
       "      <td>AMD Ryzen 5 Quad Core Processor8 GB DDR4 RAM64...</td>\n",
       "    </tr>\n",
       "  </tbody>\n",
       "</table>\n",
       "</div>"
      ],
      "text/plain": [
       "                                               Product  Rating        MRP  \\\n",
       "425  Lenovo Yoga Slim 7 Intel EVO Core i7 11th Gen ...     4.2  ₹1,02,990   \n",
       "349  DELL Vostro Core i5 11th Gen - (8 GB/512 GB SS...     3.9    ₹63,090   \n",
       "718  ASUS Zenbook Flip 14 OLED (2022) Touch Panel C...     3.0  ₹1,25,990   \n",
       "404  Nokia PureBook X14 Core i5 10th Gen - (8 GB/51...     4.4    ₹50,490   \n",
       "296  ASUS TUF Gaming F17 (2022) Core i7 12th Gen - ...     4.3  ₹1,09,990   \n",
       "687  Lenovo IdeaPad 1 Ryzen 3 Dual Core 3250U - (8 ...     4.2    ₹35,590   \n",
       "517  Lenovo IdeaPad 1 Ryzen 3 Dual Core 3250U - (8 ...     4.2    ₹35,590   \n",
       "233  APPLE 2022 MacBook Pro M2 - (8 GB/256 GB SSD/M...     4.6  ₹1,21,990   \n",
       "472  HP Pavilion Intel Core i5 12th Gen - (16 GB/51...     4.2    ₹69,990   \n",
       "420  Lenovo IdeaPad 1 Ryzen 5 Quad Core 3500U - (8 ...     4.2    ₹38,705   \n",
       "\n",
       "                                               Feature  \n",
       "425  Intel Core i7 Processor (11th Gen)16 GB DDR4 R...  \n",
       "349  Processor: 11th Generation Intel Core i5-1135G...  \n",
       "718  Intel Core i7 Processor (12th Gen)16 GB LPDDR5...  \n",
       "404  Intel Core i5 Processor (10th Gen)8 GB DDR4 RA...  \n",
       "296  Intel Core i7 Processor (12th Gen)16 GB DDR5 R...  \n",
       "687  AMD Ryzen 3 Dual Core Processor8 GB DDR4 RAM64...  \n",
       "517  AMD Ryzen 3 Dual Core Processor8 GB DDR4 RAM64...  \n",
       "233  Apple M2 Processor8 GB Unified Memory RAMMac O...  \n",
       "472  Intel Core i5 Processor (12th Gen)16 GB DDR4 R...  \n",
       "420  AMD Ryzen 5 Quad Core Processor8 GB DDR4 RAM64...  "
      ]
     },
     "execution_count": 5,
     "metadata": {},
     "output_type": "execute_result"
    }
   ],
   "source": [
    "# Printing Random 10 Rows\n",
    "\n",
    "df.sample(10)"
   ]
  },
  {
   "cell_type": "markdown",
   "id": "dd191f7c",
   "metadata": {},
   "source": [
    "**Initial Observations**\n",
    " - MRP column is a Target variable\n",
    " - Feature column is required a lot of Feature Engineering \n",
    " - Product column is also required a little bit of Feature Engineering \n",
    " - For our requirement Rating column won't be needed"
   ]
  },
  {
   "cell_type": "markdown",
   "id": "dac8d621",
   "metadata": {},
   "source": [
    "# Exploratory Data Analysis\n",
    "\n",
    "Exploratory data analysis (EDA) is used by data scientists to analyze and investigate datasets and summarize their main characteristics, often employing data visualization methods.\n"
   ]
  },
  {
   "cell_type": "code",
   "execution_count": 6,
   "id": "c8740a2e",
   "metadata": {},
   "outputs": [
    {
     "data": {
      "text/plain": [
       "(720, 4)"
      ]
     },
     "execution_count": 6,
     "metadata": {},
     "output_type": "execute_result"
    }
   ],
   "source": [
    "# Printing Total Number of Rows and Columns\n",
    "\n",
    "df.shape"
   ]
  },
  {
   "cell_type": "code",
   "execution_count": 7,
   "id": "2bada960",
   "metadata": {},
   "outputs": [
    {
     "name": "stdout",
     "output_type": "stream",
     "text": [
      "<class 'pandas.core.frame.DataFrame'>\n",
      "RangeIndex: 720 entries, 0 to 719\n",
      "Data columns (total 4 columns):\n",
      " #   Column   Non-Null Count  Dtype  \n",
      "---  ------   --------------  -----  \n",
      " 0   Product  720 non-null    object \n",
      " 1   Rating   581 non-null    float64\n",
      " 2   MRP      720 non-null    object \n",
      " 3   Feature  720 non-null    object \n",
      "dtypes: float64(1), object(3)\n",
      "memory usage: 22.6+ KB\n"
     ]
    }
   ],
   "source": [
    "# Printing Dataset Information\n",
    "\n",
    "df.info()"
   ]
  },
  {
   "cell_type": "code",
   "execution_count": 8,
   "id": "1360f234",
   "metadata": {},
   "outputs": [
    {
     "data": {
      "text/plain": [
       "Index(['Product', 'Rating', 'MRP', 'Feature'], dtype='object')"
      ]
     },
     "execution_count": 8,
     "metadata": {},
     "output_type": "execute_result"
    }
   ],
   "source": [
    "# Printing Columns Name\n",
    "\n",
    "df.columns"
   ]
  },
  {
   "cell_type": "code",
   "execution_count": 9,
   "id": "ac2c774f",
   "metadata": {},
   "outputs": [
    {
     "data": {
      "text/html": [
       "<div>\n",
       "<style scoped>\n",
       "    .dataframe tbody tr th:only-of-type {\n",
       "        vertical-align: middle;\n",
       "    }\n",
       "\n",
       "    .dataframe tbody tr th {\n",
       "        vertical-align: top;\n",
       "    }\n",
       "\n",
       "    .dataframe thead th {\n",
       "        text-align: right;\n",
       "    }\n",
       "</style>\n",
       "<table border=\"1\" class=\"dataframe\">\n",
       "  <thead>\n",
       "    <tr style=\"text-align: right;\">\n",
       "      <th></th>\n",
       "      <th>count</th>\n",
       "      <th>mean</th>\n",
       "      <th>std</th>\n",
       "      <th>min</th>\n",
       "      <th>25%</th>\n",
       "      <th>50%</th>\n",
       "      <th>75%</th>\n",
       "      <th>max</th>\n",
       "    </tr>\n",
       "  </thead>\n",
       "  <tbody>\n",
       "    <tr>\n",
       "      <th>Rating</th>\n",
       "      <td>581.0</td>\n",
       "      <td>4.32117</td>\n",
       "      <td>0.282872</td>\n",
       "      <td>3.0</td>\n",
       "      <td>4.2</td>\n",
       "      <td>4.3</td>\n",
       "      <td>4.5</td>\n",
       "      <td>5.0</td>\n",
       "    </tr>\n",
       "  </tbody>\n",
       "</table>\n",
       "</div>"
      ],
      "text/plain": [
       "        count     mean       std  min  25%  50%  75%  max\n",
       "Rating  581.0  4.32117  0.282872  3.0  4.2  4.3  4.5  5.0"
      ]
     },
     "execution_count": 9,
     "metadata": {},
     "output_type": "execute_result"
    }
   ],
   "source": [
    "# Printing Statistical Information Of Dataset\n",
    "\n",
    "df.describe().T"
   ]
  },
  {
   "cell_type": "code",
   "execution_count": 10,
   "id": "9ee4c9f6",
   "metadata": {},
   "outputs": [
    {
     "data": {
      "text/plain": [
       "Product      0\n",
       "Rating     139\n",
       "MRP          0\n",
       "Feature      0\n",
       "dtype: int64"
      ]
     },
     "execution_count": 10,
     "metadata": {},
     "output_type": "execute_result"
    }
   ],
   "source": [
    "# Checking Null Values\n",
    "\n",
    "df.isnull().sum()"
   ]
  },
  {
   "cell_type": "code",
   "execution_count": 11,
   "id": "a9347bd6",
   "metadata": {},
   "outputs": [
    {
     "data": {
      "text/plain": [
       "297"
      ]
     },
     "execution_count": 11,
     "metadata": {},
     "output_type": "execute_result"
    }
   ],
   "source": [
    "# Checking Duplicated Values\n",
    "\n",
    "df.duplicated().sum()"
   ]
  },
  {
   "cell_type": "markdown",
   "id": "9a2fb3e6",
   "metadata": {},
   "source": [
    "**Findings**\n",
    "\n",
    "- Data have 720 Rows and 4 Columns\n",
    "- MRP need treatment because it contain strings \n",
    "- Likewise we dont use Rating Columns so we dont need to take care of that column\n",
    "- We have limited amount of data so we don't to need drop the data in duplicated values or any others"
   ]
  },
  {
   "cell_type": "markdown",
   "id": "3169e5d5",
   "metadata": {},
   "source": [
    "# Data Preprocessing\n",
    "\n",
    "Data preprocessing is the process of transforming raw data into a format that can be easily understood and analyzed by a computer. This involves cleaning and transforming the data, integrating data from different sources, reducing the dataset size by eliminating irrelevant data, and discretizing continuous data. Data preprocessing is essential to ensure that the data is accurate, consistent, and in a format suitable for analysis."
   ]
  },
  {
   "cell_type": "markdown",
   "id": "613c5a9c",
   "metadata": {},
   "source": [
    "**Treating MRP Column**"
   ]
  },
  {
   "cell_type": "code",
   "execution_count": 12,
   "id": "6e0a56bf",
   "metadata": {},
   "outputs": [
    {
     "data": {
      "text/plain": [
       "0    ₹36,990\n",
       "1    ₹39,990\n",
       "2    ₹32,990\n",
       "3    ₹49,990\n",
       "4    ₹49,990\n",
       "Name: MRP, dtype: object"
      ]
     },
     "execution_count": 12,
     "metadata": {},
     "output_type": "execute_result"
    }
   ],
   "source": [
    "# MRP Column\n",
    "\n",
    "df.MRP.head()"
   ]
  },
  {
   "cell_type": "code",
   "execution_count": 13,
   "id": "b0785435",
   "metadata": {},
   "outputs": [],
   "source": [
    "# Removing Rupee Symbol\n",
    "\n",
    "df['MRP'] = df['MRP'].str.replace('₹','')"
   ]
  },
  {
   "cell_type": "code",
   "execution_count": 14,
   "id": "f27f1a39",
   "metadata": {},
   "outputs": [],
   "source": [
    "# Removing Coma and Convert into Integer\n",
    "\n",
    "df['MRP'] = df['MRP'].str.replace(',','').astype('float32')"
   ]
  },
  {
   "cell_type": "code",
   "execution_count": 15,
   "id": "c465d782",
   "metadata": {},
   "outputs": [
    {
     "data": {
      "text/plain": [
       "0       36990.0\n",
       "1       39990.0\n",
       "2       32990.0\n",
       "3       49990.0\n",
       "4       49990.0\n",
       "         ...   \n",
       "715     23490.0\n",
       "716     73490.0\n",
       "717    194990.0\n",
       "718    125990.0\n",
       "719     50990.0\n",
       "Name: MRP, Length: 720, dtype: float32"
      ]
     },
     "execution_count": 15,
     "metadata": {},
     "output_type": "execute_result"
    }
   ],
   "source": [
    "df.MRP"
   ]
  },
  {
   "cell_type": "code",
   "execution_count": 16,
   "id": "f50d922e",
   "metadata": {},
   "outputs": [
    {
     "name": "stdout",
     "output_type": "stream",
     "text": [
      "Minimum Value :  14990.0\n",
      "Maximum Value :  434830.0\n",
      "Mean Value :  81605.836\n",
      "Median Value :  59990.0\n"
     ]
    }
   ],
   "source": [
    "print(\"Minimum Value : \", df.MRP.min())\n",
    "print(\"Maximum Value : \", df.MRP.max())\n",
    "print(\"Mean Value : \",    df.MRP.mean())\n",
    "print(\"Median Value : \",  df.MRP.median())"
   ]
  },
  {
   "cell_type": "code",
   "execution_count": 17,
   "id": "36f2cc0f",
   "metadata": {},
   "outputs": [
    {
     "name": "stdout",
     "output_type": "stream",
     "text": [
      "25% Values :  38996.75\n",
      "75% Values :  95240.0\n"
     ]
    }
   ],
   "source": [
    "print(\"25% Values : \", df.MRP.quantile(0.25))\n",
    "print(\"75% Values : \", df.MRP.quantile(0.75))"
   ]
  },
  {
   "cell_type": "markdown",
   "id": "0056b978",
   "metadata": {},
   "source": [
    "**Findings**\n",
    "\n",
    "- Minimum Values of MRP Column is 14990\n",
    "- Maximum Values of MRP Column is 434830\n",
    "- Mean Values of MRP Column is 81605\n",
    "- Median Values of MRP Column is 59990\n",
    "- 25% Values of MRP Column is 38996\n",
    "- 75% Values of MRP Column is 95240\n",
    "\n",
    "#### Which means data have to many outlier"
   ]
  },
  {
   "cell_type": "code",
   "execution_count": 18,
   "id": "0a937b0b",
   "metadata": {},
   "outputs": [
    {
     "data": {
      "image/png": "[encoded data removed]",
      "text/plain": [
       "<Figure size 800x600 with 1 Axes>"
      ]
     },
     "metadata": {},
     "output_type": "display_data"
    }
   ],
   "source": [
    "# Visualizing Density PLot in MRP Column for checking the Distribution \n",
    "\n",
    "df.MRP.plot(kind='kde', figsize=(8,6))\n",
    "plt.show()"
   ]
  },
  {
   "cell_type": "code",
   "execution_count": 19,
   "id": "78cdfe33",
   "metadata": {},
   "outputs": [
    {
     "data": {
      "image/png": "[encoded data removed]",
      "text/plain": [
       "<Figure size 800x600 with 1 Axes>"
      ]
     },
     "metadata": {},
     "output_type": "display_data"
    }
   ],
   "source": [
    "# Visualizing BoxPLot in MRP Column for checking the Outlier \n",
    "\n",
    "df.MRP.plot(kind='box', figsize=(8,6))\n",
    "plt.show()"
   ]
  },
  {
   "cell_type": "markdown",
   "id": "1458c326",
   "metadata": {},
   "source": [
    "**Findings**\n",
    "\n",
    "- Like i previously mension we have too many Outliers\n",
    "- Instead of removing values we have to use Data transformation to handle Outliers"
   ]
  },
  {
   "cell_type": "markdown",
   "id": "e4540e11",
   "metadata": {},
   "source": [
    "### Data transformation\n",
    "\n",
    "Data transformation is the process of converting data from one format or scale to another to make it suitable for analysis. It can involve changing the distribution of data, scaling or normalizing values, converting categorical data to numerical data, and more."
   ]
  },
  {
   "cell_type": "markdown",
   "id": "bf755bd0",
   "metadata": {},
   "source": [
    "**Log transformation** converting data to a logarithmic scale to reduce the magnitude of extreme values and make the distribution more symmetric.\n",
    "\n"
   ]
  },
  {
   "cell_type": "code",
   "execution_count": 20,
   "id": "a055a8fc",
   "metadata": {},
   "outputs": [
    {
     "data": {
      "image/png": "[encoded data removed]",
      "text/plain": [
       "<Figure size 640x480 with 1 Axes>"
      ]
     },
     "metadata": {},
     "output_type": "display_data"
    }
   ],
   "source": [
    "log = df.MRP.apply(np.log1p)\n",
    "sns.distplot(log)\n",
    "plt.show()"
   ]
  },
  {
   "cell_type": "code",
   "execution_count": 21,
   "id": "269debe5",
   "metadata": {},
   "outputs": [
    {
     "data": {
      "image/png": "[encoded data removed]",
      "text/plain": [
       "<Figure size 640x480 with 1 Axes>"
      ]
     },
     "metadata": {},
     "output_type": "display_data"
    }
   ],
   "source": [
    "log.plot(kind='box')\n",
    "plt.show()"
   ]
  },
  {
   "cell_type": "markdown",
   "id": "371eff8b",
   "metadata": {},
   "source": [
    "**Reciprocal** transformation involves taking the reciprocal of each value in a dataset to reduce the effect of extreme values and make the distribution of the data more symmetric. It is particularly useful when the data has a positive skew, but has limitations and should be used with caution."
   ]
  },
  {
   "cell_type": "code",
   "execution_count": 22,
   "id": "49ea5494",
   "metadata": {},
   "outputs": [
    {
     "data": {
      "image/png": "[encoded data removed]",
      "text/plain": [
       "<Figure size 640x480 with 1 Axes>"
      ]
     },
     "metadata": {},
     "output_type": "display_data"
    }
   ],
   "source": [
    "reci = df.MRP.apply(np.reciprocal)\n",
    "sns.distplot(reci)\n",
    "plt.show()"
   ]
  },
  {
   "cell_type": "code",
   "execution_count": 23,
   "id": "8bd808a0",
   "metadata": {},
   "outputs": [
    {
     "data": {
      "image/png": "[encoded data removed]",
      "text/plain": [
       "<Figure size 640x480 with 1 Axes>"
      ]
     },
     "metadata": {},
     "output_type": "display_data"
    }
   ],
   "source": [
    "reci.plot(kind='box')\n",
    "plt.show()"
   ]
  },
  {
   "cell_type": "markdown",
   "id": "acbf66f8",
   "metadata": {},
   "source": [
    "**Square root transformation** involves taking the square root of each value in a dataset to reduce the effect of extreme values and make the distribution of the data more symmetric. It is often used when the data has a positive skew, but its effectiveness depends on the specific dataset and analysis goals."
   ]
  },
  {
   "cell_type": "code",
   "execution_count": 24,
   "id": "f3052a03",
   "metadata": {},
   "outputs": [
    {
     "data": {
      "image/png": "[encoded data removed]",
      "text/plain": [
       "<Figure size 640x480 with 1 Axes>"
      ]
     },
     "metadata": {},
     "output_type": "display_data"
    }
   ],
   "source": [
    "squ = df.MRP.apply(np.square)\n",
    "sns.distplot(squ)\n",
    "plt.show()"
   ]
  },
  {
   "cell_type": "code",
   "execution_count": 25,
   "id": "9d81b161",
   "metadata": {},
   "outputs": [
    {
     "data": {
      "image/png": "[encoded data removed]",
      "text/plain": [
       "<Figure size 640x480 with 1 Axes>"
      ]
     },
     "metadata": {},
     "output_type": "display_data"
    }
   ],
   "source": [
    "squ.plot(kind='box')\n",
    "plt.show()"
   ]
  },
  {
   "cell_type": "markdown",
   "id": "61052fc0",
   "metadata": {},
   "source": [
    "**Power transformation** - raising data to a power to adjust the distribution and reduce the impact of outliers."
   ]
  },
  {
   "cell_type": "code",
   "execution_count": 26,
   "id": "9000364a",
   "metadata": {},
   "outputs": [
    {
     "data": {
      "text/plain": [
       "<AxesSubplot:ylabel='Density'>"
      ]
     },
     "execution_count": 26,
     "metadata": {},
     "output_type": "execute_result"
    },
    {
     "data": {
      "image/png": "[encoded data removed]",
      "text/plain": [
       "<Figure size 640x480 with 1 Axes>"
      ]
     },
     "metadata": {},
     "output_type": "display_data"
    }
   ],
   "source": [
    "power = 0.00001\n",
    "\n",
    "# apply the power transformation\n",
    "transformed_data = np.power(df.MRP, power)\n",
    "transformed_data.plot(kind='kde')"
   ]
  },
  {
   "cell_type": "code",
   "execution_count": 27,
   "id": "0f9de665",
   "metadata": {},
   "outputs": [
    {
     "data": {
      "image/png": "[encoded data removed]",
      "text/plain": [
       "<Figure size 640x480 with 1 Axes>"
      ]
     },
     "metadata": {},
     "output_type": "display_data"
    }
   ],
   "source": [
    "transformed_data.plot(kind='box')\n",
    "plt.show()"
   ]
  },
  {
   "cell_type": "markdown",
   "id": "271c0bac",
   "metadata": {},
   "source": [
    "**Findings**\n",
    "\n",
    "- After applying few data transformation log and power will perform better\n",
    "- I did some parameter tuning in power transformation to make it better\n",
    "- Conclusion i choose Log Transformation for my MRP Column"
   ]
  },
  {
   "cell_type": "code",
   "execution_count": 28,
   "id": "a13f9673",
   "metadata": {},
   "outputs": [],
   "source": [
    "df['MRP'] = log"
   ]
  },
  {
   "cell_type": "code",
   "execution_count": 29,
   "id": "fdb61d72",
   "metadata": {},
   "outputs": [
    {
     "data": {
      "image/png": "[encoded data removed]",
      "text/plain": [
       "<Figure size 800x500 with 1 Axes>"
      ]
     },
     "metadata": {},
     "output_type": "display_data"
    }
   ],
   "source": [
    "plt.figure(figsize=(8,5))\n",
    "sns.boxplot(df.MRP)\n",
    "plt.show()"
   ]
  },
  {
   "cell_type": "code",
   "execution_count": 30,
   "id": "b3b8681c",
   "metadata": {},
   "outputs": [
    {
     "data": {
      "image/png": "[encoded data removed]",
      "text/plain": [
       "<Figure size 800x500 with 1 Axes>"
      ]
     },
     "metadata": {},
     "output_type": "display_data"
    }
   ],
   "source": [
    "plt.figure(figsize=(8,5))\n",
    "sns.distplot(df.MRP)\n",
    "plt.show()"
   ]
  },
  {
   "cell_type": "markdown",
   "id": "40759bdc",
   "metadata": {},
   "source": [
    "**Outlier**\n",
    "\n",
    "An outlier is an observation or data point that is significantly different from other observations in a dataset. In other words, an outlier is a value that is either much larger or much smaller than the other values in the dataset.\n",
    "\n",
    "Outliers can occur for various reasons, such as measurement errors, data entry mistakes, or they may represent true extreme values in the population. However, outliers can have a significant impact on statistical analyses, as they can distort the results, affecting measures of central tendency, variability, and correlation.\n",
    "\n",
    "Therefore, it is important to identify and handle outliers appropriately in data analysis. Some common techniques for handling outliers include capping or trimming outliers, imputing missing values, or using robust statistical methods that are less sensitive to outliers. Ultimately, the choice of technique will depend on the nature of the data and the objectives of the analysis."
   ]
  },
  {
   "cell_type": "code",
   "execution_count": 31,
   "id": "0344354b",
   "metadata": {},
   "outputs": [
    {
     "data": {
      "text/html": [
       "<div>\n",
       "<style scoped>\n",
       "    .dataframe tbody tr th:only-of-type {\n",
       "        vertical-align: middle;\n",
       "    }\n",
       "\n",
       "    .dataframe tbody tr th {\n",
       "        vertical-align: top;\n",
       "    }\n",
       "\n",
       "    .dataframe thead th {\n",
       "        text-align: right;\n",
       "    }\n",
       "</style>\n",
       "<table border=\"1\" class=\"dataframe\">\n",
       "  <thead>\n",
       "    <tr style=\"text-align: right;\">\n",
       "      <th></th>\n",
       "      <th>Product</th>\n",
       "      <th>Rating</th>\n",
       "      <th>MRP</th>\n",
       "      <th>Feature</th>\n",
       "    </tr>\n",
       "  </thead>\n",
       "  <tbody>\n",
       "    <tr>\n",
       "      <th>0</th>\n",
       "      <td>Lenovo IdeaPad 3 Core i3 11th Gen - (8 GB/256 ...</td>\n",
       "      <td>4.2</td>\n",
       "      <td>10.518430</td>\n",
       "      <td>Intel Core i3 Processor (11th Gen)8 GB DDR4 RA...</td>\n",
       "    </tr>\n",
       "    <tr>\n",
       "      <th>1</th>\n",
       "      <td>Lenovo IdeaPad 3 Core i3 11th Gen - (8 GB/512 ...</td>\n",
       "      <td>4.2</td>\n",
       "      <td>10.596410</td>\n",
       "      <td>Intel Core i3 Processor (11th Gen)8 GB DDR4 RA...</td>\n",
       "    </tr>\n",
       "    <tr>\n",
       "      <th>2</th>\n",
       "      <td>ASUS VivoBook 15 (2022) Core i3 10th Gen - (8 ...</td>\n",
       "      <td>4.3</td>\n",
       "      <td>10.403990</td>\n",
       "      <td>Intel Core i3 Processor (10th Gen)8 GB DDR4 RA...</td>\n",
       "    </tr>\n",
       "    <tr>\n",
       "      <th>3</th>\n",
       "      <td>HP Pavilion Ryzen 5 Hexa Core AMD R5-5600H - (...</td>\n",
       "      <td>4.4</td>\n",
       "      <td>10.819598</td>\n",
       "      <td>AMD Ryzen 5 Hexa Core Processor8 GB DDR4 RAM64...</td>\n",
       "    </tr>\n",
       "    <tr>\n",
       "      <th>4</th>\n",
       "      <td>ASUS TUF Gaming F15 Core i5 10th Gen - (8 GB/5...</td>\n",
       "      <td>4.4</td>\n",
       "      <td>10.819598</td>\n",
       "      <td>Intel Core i5 Processor (10th Gen)8 GB DDR4 RA...</td>\n",
       "    </tr>\n",
       "  </tbody>\n",
       "</table>\n",
       "</div>"
      ],
      "text/plain": [
       "                                             Product  Rating        MRP  \\\n",
       "0  Lenovo IdeaPad 3 Core i3 11th Gen - (8 GB/256 ...     4.2  10.518430   \n",
       "1  Lenovo IdeaPad 3 Core i3 11th Gen - (8 GB/512 ...     4.2  10.596410   \n",
       "2  ASUS VivoBook 15 (2022) Core i3 10th Gen - (8 ...     4.3  10.403990   \n",
       "3  HP Pavilion Ryzen 5 Hexa Core AMD R5-5600H - (...     4.4  10.819598   \n",
       "4  ASUS TUF Gaming F15 Core i5 10th Gen - (8 GB/5...     4.4  10.819598   \n",
       "\n",
       "                                             Feature  \n",
       "0  Intel Core i3 Processor (11th Gen)8 GB DDR4 RA...  \n",
       "1  Intel Core i3 Processor (11th Gen)8 GB DDR4 RA...  \n",
       "2  Intel Core i3 Processor (10th Gen)8 GB DDR4 RA...  \n",
       "3  AMD Ryzen 5 Hexa Core Processor8 GB DDR4 RAM64...  \n",
       "4  Intel Core i5 Processor (10th Gen)8 GB DDR4 RA...  "
      ]
     },
     "execution_count": 31,
     "metadata": {},
     "output_type": "execute_result"
    }
   ],
   "source": [
    "df.head()"
   ]
  },
  {
   "cell_type": "markdown",
   "id": "20b87832",
   "metadata": {},
   "source": [
    "**Capping Outlier**\n",
    "\n",
    "Capping outliers means setting a limit to extreme values in a dataset. It helps to reduce the impact of outliers on the analysis and make the dataset more representative of the general population. However, caution should be exercised as it may mask important information in the data and may not be appropriate in all situations. Various methods are used to cap outliers, depending on the data and objectives of the analysis."
   ]
  },
  {
   "cell_type": "code",
   "execution_count": 32,
   "id": "a4cf823e",
   "metadata": {},
   "outputs": [],
   "source": [
    "# Finding the IQR\n",
    "\n",
    "percentile25 = df.MRP.quantile(0.25)\n",
    "percentile75 = df.MRP.quantile(0.75)"
   ]
  },
  {
   "cell_type": "code",
   "execution_count": 33,
   "id": "c5b9e54f",
   "metadata": {},
   "outputs": [
    {
     "data": {
      "text/plain": [
       "10.571259021759033"
      ]
     },
     "execution_count": 33,
     "metadata": {},
     "output_type": "execute_result"
    }
   ],
   "source": [
    "percentile25"
   ]
  },
  {
   "cell_type": "code",
   "execution_count": 34,
   "id": "a2a7508e",
   "metadata": {},
   "outputs": [
    {
     "data": {
      "text/plain": [
       "11.464155435562134"
      ]
     },
     "execution_count": 34,
     "metadata": {},
     "output_type": "execute_result"
    }
   ],
   "source": [
    "percentile75"
   ]
  },
  {
   "cell_type": "code",
   "execution_count": 35,
   "id": "8b6a27a1",
   "metadata": {},
   "outputs": [],
   "source": [
    "iqr = percentile75 - percentile25"
   ]
  },
  {
   "cell_type": "code",
   "execution_count": 36,
   "id": "10954615",
   "metadata": {},
   "outputs": [
    {
     "data": {
      "text/plain": [
       "0.8928964138031006"
      ]
     },
     "execution_count": 36,
     "metadata": {},
     "output_type": "execute_result"
    }
   ],
   "source": [
    "iqr"
   ]
  },
  {
   "cell_type": "code",
   "execution_count": 37,
   "id": "ff0ea606",
   "metadata": {},
   "outputs": [],
   "source": [
    "upper_limit = percentile75 + 1.5 * iqr\n",
    "lower_limit = percentile25 - 1.5 * iqr"
   ]
  },
  {
   "cell_type": "code",
   "execution_count": 38,
   "id": "7b48ff51",
   "metadata": {},
   "outputs": [
    {
     "name": "stdout",
     "output_type": "stream",
     "text": [
      "Upper limit 12.803500056266785\n",
      "Lower limit 9.231914401054382\n"
     ]
    }
   ],
   "source": [
    "print(\"Upper limit\",upper_limit)\n",
    "print(\"Lower limit\",lower_limit)"
   ]
  },
  {
   "cell_type": "code",
   "execution_count": 39,
   "id": "41312a14",
   "metadata": {},
   "outputs": [
    {
     "data": {
      "text/html": [
       "<div>\n",
       "<style scoped>\n",
       "    .dataframe tbody tr th:only-of-type {\n",
       "        vertical-align: middle;\n",
       "    }\n",
       "\n",
       "    .dataframe tbody tr th {\n",
       "        vertical-align: top;\n",
       "    }\n",
       "\n",
       "    .dataframe thead th {\n",
       "        text-align: right;\n",
       "    }\n",
       "</style>\n",
       "<table border=\"1\" class=\"dataframe\">\n",
       "  <thead>\n",
       "    <tr style=\"text-align: right;\">\n",
       "      <th></th>\n",
       "      <th>Product</th>\n",
       "      <th>Rating</th>\n",
       "      <th>MRP</th>\n",
       "      <th>Feature</th>\n",
       "    </tr>\n",
       "  </thead>\n",
       "  <tbody>\n",
       "    <tr>\n",
       "      <th>464</th>\n",
       "      <td>MSI Core i9 12th Gen - (32 GB/2 TB SSD/Windows...</td>\n",
       "      <td>NaN</td>\n",
       "      <td>12.873878</td>\n",
       "      <td>Intel Core i9 Processor (12th Gen)32 GB DDR5 R...</td>\n",
       "    </tr>\n",
       "    <tr>\n",
       "      <th>625</th>\n",
       "      <td>DELL Allienware Core i9 11th Gen - (32 GB/1 TB...</td>\n",
       "      <td>NaN</td>\n",
       "      <td>12.982713</td>\n",
       "      <td>Intel Core i9 Processor (11th Gen)32 GB DDR4 R...</td>\n",
       "    </tr>\n",
       "  </tbody>\n",
       "</table>\n",
       "</div>"
      ],
      "text/plain": [
       "                                               Product  Rating        MRP  \\\n",
       "464  MSI Core i9 12th Gen - (32 GB/2 TB SSD/Windows...     NaN  12.873878   \n",
       "625  DELL Allienware Core i9 11th Gen - (32 GB/1 TB...     NaN  12.982713   \n",
       "\n",
       "                                               Feature  \n",
       "464  Intel Core i9 Processor (12th Gen)32 GB DDR5 R...  \n",
       "625  Intel Core i9 Processor (11th Gen)32 GB DDR4 R...  "
      ]
     },
     "execution_count": 39,
     "metadata": {},
     "output_type": "execute_result"
    }
   ],
   "source": [
    "# Finding Outlier\n",
    "\n",
    "df[df['MRP'] > upper_limit]"
   ]
  },
  {
   "cell_type": "code",
   "execution_count": 40,
   "id": "436ce69c",
   "metadata": {},
   "outputs": [
    {
     "data": {
      "text/html": [
       "<div>\n",
       "<style scoped>\n",
       "    .dataframe tbody tr th:only-of-type {\n",
       "        vertical-align: middle;\n",
       "    }\n",
       "\n",
       "    .dataframe tbody tr th {\n",
       "        vertical-align: top;\n",
       "    }\n",
       "\n",
       "    .dataframe thead th {\n",
       "        text-align: right;\n",
       "    }\n",
       "</style>\n",
       "<table border=\"1\" class=\"dataframe\">\n",
       "  <thead>\n",
       "    <tr style=\"text-align: right;\">\n",
       "      <th></th>\n",
       "      <th>Product</th>\n",
       "      <th>Rating</th>\n",
       "      <th>MRP</th>\n",
       "      <th>Feature</th>\n",
       "    </tr>\n",
       "  </thead>\n",
       "  <tbody>\n",
       "  </tbody>\n",
       "</table>\n",
       "</div>"
      ],
      "text/plain": [
       "Empty DataFrame\n",
       "Columns: [Product, Rating, MRP, Feature]\n",
       "Index: []"
      ]
     },
     "execution_count": 40,
     "metadata": {},
     "output_type": "execute_result"
    }
   ],
   "source": [
    "df[df['MRP'] < lower_limit]"
   ]
  },
  {
   "cell_type": "code",
   "execution_count": 41,
   "id": "a64c2683",
   "metadata": {},
   "outputs": [],
   "source": [
    "new_df_cap = df.copy()\n",
    "\n",
    "new_df_cap['MRP'] = np.where(\n",
    "    new_df_cap['MRP'] > upper_limit,\n",
    "    upper_limit,\n",
    "    np.where(\n",
    "        new_df_cap['MRP'] < lower_limit,\n",
    "        lower_limit,\n",
    "        new_df_cap['MRP']\n",
    "    )\n",
    ")"
   ]
  },
  {
   "cell_type": "code",
   "execution_count": 42,
   "id": "95f13c14",
   "metadata": {},
   "outputs": [
    {
     "data": {
      "text/plain": [
       "(720, 4)"
      ]
     },
     "execution_count": 42,
     "metadata": {},
     "output_type": "execute_result"
    }
   ],
   "source": [
    "new_df_cap.shape"
   ]
  },
  {
   "cell_type": "code",
   "execution_count": 43,
   "id": "cce5247e",
   "metadata": {},
   "outputs": [
    {
     "data": {
      "image/png": "[encoded data removed]",
      "text/plain": [
       "<Figure size 1600x800 with 4 Axes>"
      ]
     },
     "metadata": {},
     "output_type": "display_data"
    }
   ],
   "source": [
    "# Comparing\n",
    "\n",
    "plt.figure(figsize=(16,8))\n",
    "plt.subplot(2,2,1)\n",
    "sns.distplot(df['MRP'])\n",
    "\n",
    "plt.subplot(2,2,2)\n",
    "sns.boxplot(df['MRP'])\n",
    "\n",
    "plt.subplot(2,2,3)\n",
    "sns.distplot(new_df_cap['MRP'])\n",
    "\n",
    "plt.subplot(2,2,4)\n",
    "sns.boxplot(new_df_cap['MRP'])\n",
    "\n",
    "plt.show()"
   ]
  },
  {
   "cell_type": "code",
   "execution_count": 44,
   "id": "4634a071",
   "metadata": {},
   "outputs": [
    {
     "data": {
      "text/plain": [
       "<AxesSubplot:>"
      ]
     },
     "execution_count": 44,
     "metadata": {},
     "output_type": "execute_result"
    },
    {
     "data": {
      "image/png": "[encoded data removed]",
      "text/plain": [
       "<Figure size 640x480 with 1 Axes>"
      ]
     },
     "metadata": {},
     "output_type": "display_data"
    }
   ],
   "source": [
    "new_df_cap.MRP.plot(kind='box')"
   ]
  },
  {
   "cell_type": "markdown",
   "id": "d910582d",
   "metadata": {},
   "source": [
    "### Trimming\n",
    "\n",
    "Trimming outliers means removing extreme values from a dataset by setting a threshold value and deleting any values that exceed this limit. It helps to remove the impact of outliers on the analysis and make the dataset more representative of the general population. However, caution should be exercised as it may also mask important information in the data and may not be appropriate in all situations. Various methods are used to trim outliers, depending on the data and objectives of the analysis."
   ]
  },
  {
   "cell_type": "code",
   "execution_count": 45,
   "id": "115aa9cb",
   "metadata": {},
   "outputs": [],
   "source": [
    "new_df = df[df['MRP'] < upper_limit]"
   ]
  },
  {
   "cell_type": "code",
   "execution_count": 46,
   "id": "395952d2",
   "metadata": {},
   "outputs": [
    {
     "data": {
      "text/plain": [
       "(718, 4)"
      ]
     },
     "execution_count": 46,
     "metadata": {},
     "output_type": "execute_result"
    }
   ],
   "source": [
    "new_df.shape"
   ]
  },
  {
   "cell_type": "code",
   "execution_count": 47,
   "id": "e36004c9",
   "metadata": {},
   "outputs": [
    {
     "data": {
      "image/png": "[encoded data removed]",
      "text/plain": [
       "<Figure size 1600x800 with 4 Axes>"
      ]
     },
     "metadata": {},
     "output_type": "display_data"
    }
   ],
   "source": [
    "# Comparing\n",
    "\n",
    "plt.figure(figsize=(16,8))\n",
    "plt.subplot(2,2,1)\n",
    "sns.distplot(df['MRP'])\n",
    "\n",
    "plt.subplot(2,2,2)\n",
    "sns.boxplot(df['MRP'])\n",
    "\n",
    "plt.subplot(2,2,3)\n",
    "sns.distplot(new_df['MRP'])\n",
    "\n",
    "plt.subplot(2,2,4)\n",
    "sns.boxplot(new_df['MRP'])\n",
    "\n",
    "plt.show()"
   ]
  },
  {
   "cell_type": "markdown",
   "id": "40f8078a",
   "metadata": {},
   "source": [
    "**Finding**\n",
    "\n",
    "Since Trying both Capping and Trimming Technique but didn't effect on distribtion so I decided so use capping instead trimming because of less data."
   ]
  },
  {
   "cell_type": "markdown",
   "id": "ad24a8dd",
   "metadata": {},
   "source": [
    "**Applying Capping**"
   ]
  },
  {
   "cell_type": "code",
   "execution_count": 48,
   "id": "374f8bec",
   "metadata": {},
   "outputs": [],
   "source": [
    "df['MRP'] = np.where(\n",
    "    df['MRP'] > upper_limit,\n",
    "    upper_limit,\n",
    "    np.where(\n",
    "        df['MRP'] < lower_limit,\n",
    "        lower_limit,\n",
    "        df['MRP']\n",
    "    )\n",
    ")"
   ]
  },
  {
   "cell_type": "code",
   "execution_count": 49,
   "id": "23c54780",
   "metadata": {},
   "outputs": [
    {
     "data": {
      "image/png": "[encoded data removed]",
      "text/plain": [
       "<Figure size 640x480 with 1 Axes>"
      ]
     },
     "metadata": {},
     "output_type": "display_data"
    }
   ],
   "source": [
    "df.MRP.plot(kind='box')\n",
    "plt.show()"
   ]
  },
  {
   "cell_type": "markdown",
   "id": "6c0ccbb0",
   "metadata": {},
   "source": [
    "# Feature Engineering\n",
    "\n",
    "Feature engineering is the process of transforming raw data into useful features that can be used to train machine learning models. It involves selecting and extracting relevant data features, as well as transforming and scaling them to improve model performance. Feature engineering requires domain knowledge, creativity, and analytical skills and involves techniques such as one-hot encoding, scaling, feature selection, and feature extraction. The goal is to identify and select relevant features while avoiding overfitting the model to the training data. It is a critical component of the machine learning pipeline to develop accurate and robust predictive models.\n"
   ]
  },
  {
   "cell_type": "code",
   "execution_count": 50,
   "id": "4faa5df1",
   "metadata": {},
   "outputs": [
    {
     "data": {
      "text/html": [
       "<div>\n",
       "<style scoped>\n",
       "    .dataframe tbody tr th:only-of-type {\n",
       "        vertical-align: middle;\n",
       "    }\n",
       "\n",
       "    .dataframe tbody tr th {\n",
       "        vertical-align: top;\n",
       "    }\n",
       "\n",
       "    .dataframe thead th {\n",
       "        text-align: right;\n",
       "    }\n",
       "</style>\n",
       "<table border=\"1\" class=\"dataframe\">\n",
       "  <thead>\n",
       "    <tr style=\"text-align: right;\">\n",
       "      <th></th>\n",
       "      <th>Product</th>\n",
       "      <th>Rating</th>\n",
       "      <th>MRP</th>\n",
       "      <th>Feature</th>\n",
       "    </tr>\n",
       "  </thead>\n",
       "  <tbody>\n",
       "    <tr>\n",
       "      <th>0</th>\n",
       "      <td>Lenovo IdeaPad 3 Core i3 11th Gen - (8 GB/256 ...</td>\n",
       "      <td>4.2</td>\n",
       "      <td>10.518430</td>\n",
       "      <td>Intel Core i3 Processor (11th Gen)8 GB DDR4 RA...</td>\n",
       "    </tr>\n",
       "    <tr>\n",
       "      <th>1</th>\n",
       "      <td>Lenovo IdeaPad 3 Core i3 11th Gen - (8 GB/512 ...</td>\n",
       "      <td>4.2</td>\n",
       "      <td>10.596410</td>\n",
       "      <td>Intel Core i3 Processor (11th Gen)8 GB DDR4 RA...</td>\n",
       "    </tr>\n",
       "    <tr>\n",
       "      <th>2</th>\n",
       "      <td>ASUS VivoBook 15 (2022) Core i3 10th Gen - (8 ...</td>\n",
       "      <td>4.3</td>\n",
       "      <td>10.403990</td>\n",
       "      <td>Intel Core i3 Processor (10th Gen)8 GB DDR4 RA...</td>\n",
       "    </tr>\n",
       "    <tr>\n",
       "      <th>3</th>\n",
       "      <td>HP Pavilion Ryzen 5 Hexa Core AMD R5-5600H - (...</td>\n",
       "      <td>4.4</td>\n",
       "      <td>10.819598</td>\n",
       "      <td>AMD Ryzen 5 Hexa Core Processor8 GB DDR4 RAM64...</td>\n",
       "    </tr>\n",
       "    <tr>\n",
       "      <th>4</th>\n",
       "      <td>ASUS TUF Gaming F15 Core i5 10th Gen - (8 GB/5...</td>\n",
       "      <td>4.4</td>\n",
       "      <td>10.819598</td>\n",
       "      <td>Intel Core i5 Processor (10th Gen)8 GB DDR4 RA...</td>\n",
       "    </tr>\n",
       "  </tbody>\n",
       "</table>\n",
       "</div>"
      ],
      "text/plain": [
       "                                             Product  Rating        MRP  \\\n",
       "0  Lenovo IdeaPad 3 Core i3 11th Gen - (8 GB/256 ...     4.2  10.518430   \n",
       "1  Lenovo IdeaPad 3 Core i3 11th Gen - (8 GB/512 ...     4.2  10.596410   \n",
       "2  ASUS VivoBook 15 (2022) Core i3 10th Gen - (8 ...     4.3  10.403990   \n",
       "3  HP Pavilion Ryzen 5 Hexa Core AMD R5-5600H - (...     4.4  10.819598   \n",
       "4  ASUS TUF Gaming F15 Core i5 10th Gen - (8 GB/5...     4.4  10.819598   \n",
       "\n",
       "                                             Feature  \n",
       "0  Intel Core i3 Processor (11th Gen)8 GB DDR4 RA...  \n",
       "1  Intel Core i3 Processor (11th Gen)8 GB DDR4 RA...  \n",
       "2  Intel Core i3 Processor (10th Gen)8 GB DDR4 RA...  \n",
       "3  AMD Ryzen 5 Hexa Core Processor8 GB DDR4 RAM64...  \n",
       "4  Intel Core i5 Processor (10th Gen)8 GB DDR4 RA...  "
      ]
     },
     "execution_count": 50,
     "metadata": {},
     "output_type": "execute_result"
    }
   ],
   "source": [
    "df.head()"
   ]
  },
  {
   "cell_type": "code",
   "execution_count": 51,
   "id": "463c8cea",
   "metadata": {},
   "outputs": [
    {
     "data": {
      "text/plain": [
       "'HP 14s Intel Core i3 11th Gen - (8 GB/256 GB SSD/Windows 11 Home) 14s - dy2507TU Thin and Light Laptop'"
      ]
     },
     "execution_count": 51,
     "metadata": {},
     "output_type": "execute_result"
    }
   ],
   "source": [
    "df.Product[5]"
   ]
  },
  {
   "cell_type": "code",
   "execution_count": 52,
   "id": "c6a25929",
   "metadata": {},
   "outputs": [
    {
     "data": {
      "text/plain": [
       "'Intel Core i3 Processor (10th Gen)4 GB DDR4 RAM64 bit Windows 10 Operating System1 TB HDD39.62 cm (15.6 inch) DisplaySplendid, Tru2Life, My Asus1 Year Onsite Warranty'"
      ]
     },
     "execution_count": 52,
     "metadata": {},
     "output_type": "execute_result"
    }
   ],
   "source": [
    "df.Feature[463]"
   ]
  },
  {
   "cell_type": "markdown",
   "id": "82a27c41",
   "metadata": {},
   "source": [
    "**Findings**\n",
    "\n",
    "- In Product Column we can fetch Brand Name and Ram Size \n",
    "- But in Feature we can fetch more Data regarding our project\n",
    " \n",
    " **My Observation I'm thinking to Extract all this data mention below**\n",
    "\n",
    " 1. -  Brand Name  \n",
    " 2. -  RAM Type    \n",
    " 3. -  RAM Size    \n",
    " 4. -  OS\n",
    " 5. -  Disk Type   \n",
    " 6. -  Disk Size   \n",
    " 7. - Processor\n",
    " 8. -  GPU \n",
    " 9. -  Warranty\n",
    " 10. - Screen Size"
   ]
  },
  {
   "cell_type": "markdown",
   "id": "58693d4d",
   "metadata": {},
   "source": [
    "**Brand Name**\n",
    "\n",
    "A laptop brand name refers to the name of the company that manufactures and sells laptops. There are numerous laptop brands in the market, each with its unique features, design, and price range. Popular laptop brands include Apple, Dell, HP, Lenovo, Acer, ASUS, MSI, Razer, Samsung, and LG. Each of these brands has its strengths and weaknesses, and consumers often choose a laptop brand based on their specific needs and preferences."
   ]
  },
  {
   "cell_type": "code",
   "execution_count": 53,
   "id": "ab530b84",
   "metadata": {},
   "outputs": [],
   "source": [
    "# Splitting data into Three parts to that i can fetch brand name and others \n",
    "\n",
    "temp1 = df['Product'].str.split('GB', n=3, expand=True)"
   ]
  },
  {
   "cell_type": "code",
   "execution_count": 54,
   "id": "7f789b08",
   "metadata": {},
   "outputs": [
    {
     "data": {
      "text/html": [
       "<div>\n",
       "<style scoped>\n",
       "    .dataframe tbody tr th:only-of-type {\n",
       "        vertical-align: middle;\n",
       "    }\n",
       "\n",
       "    .dataframe tbody tr th {\n",
       "        vertical-align: top;\n",
       "    }\n",
       "\n",
       "    .dataframe thead th {\n",
       "        text-align: right;\n",
       "    }\n",
       "</style>\n",
       "<table border=\"1\" class=\"dataframe\">\n",
       "  <thead>\n",
       "    <tr style=\"text-align: right;\">\n",
       "      <th></th>\n",
       "      <th>0</th>\n",
       "      <th>1</th>\n",
       "      <th>2</th>\n",
       "      <th>3</th>\n",
       "    </tr>\n",
       "  </thead>\n",
       "  <tbody>\n",
       "    <tr>\n",
       "      <th>0</th>\n",
       "      <td>Lenovo IdeaPad 3 Core i3 11th Gen - (8</td>\n",
       "      <td>/256</td>\n",
       "      <td>SSD/Windows 11 Home) 14ITL05 Thin and Light L...</td>\n",
       "      <td>None</td>\n",
       "    </tr>\n",
       "    <tr>\n",
       "      <th>1</th>\n",
       "      <td>Lenovo IdeaPad 3 Core i3 11th Gen - (8</td>\n",
       "      <td>/512</td>\n",
       "      <td>SSD/Windows 11 Home) 82H801L7IN | 82H802FJIN ...</td>\n",
       "      <td>None</td>\n",
       "    </tr>\n",
       "    <tr>\n",
       "      <th>2</th>\n",
       "      <td>ASUS VivoBook 15 (2022) Core i3 10th Gen - (8</td>\n",
       "      <td>/512</td>\n",
       "      <td>SSD/Windows 11 Home) X515JA-EJ362WS | X515JA-...</td>\n",
       "      <td>None</td>\n",
       "    </tr>\n",
       "    <tr>\n",
       "      <th>3</th>\n",
       "      <td>HP Pavilion Ryzen 5 Hexa Core AMD R5-5600H - (8</td>\n",
       "      <td>/512</td>\n",
       "      <td>SSD/Windows 10/4</td>\n",
       "      <td>Graphics/NVIDIA GeForce ...</td>\n",
       "    </tr>\n",
       "    <tr>\n",
       "      <th>4</th>\n",
       "      <td>ASUS TUF Gaming F15 Core i5 10th Gen - (8</td>\n",
       "      <td>/512</td>\n",
       "      <td>SSD/Windows 11 Home/4</td>\n",
       "      <td>Graphics/NVIDIA GeForce G...</td>\n",
       "    </tr>\n",
       "    <tr>\n",
       "      <th>...</th>\n",
       "      <td>...</td>\n",
       "      <td>...</td>\n",
       "      <td>...</td>\n",
       "      <td>...</td>\n",
       "    </tr>\n",
       "    <tr>\n",
       "      <th>715</th>\n",
       "      <td>ASUS Chromebook Flip Touch Celeron Dual Core -...</td>\n",
       "      <td>/64</td>\n",
       "      <td>EMMC Storage/Chrome OS) C214MA-BU0452 Chrom...</td>\n",
       "      <td>None</td>\n",
       "    </tr>\n",
       "    <tr>\n",
       "      <th>716</th>\n",
       "      <td>Lenovo IdeaPad Gaming 3 Ryzen 7 Octa Core AMD ...</td>\n",
       "      <td>/512</td>\n",
       "      <td>SSD/Windows 11 Home/4</td>\n",
       "      <td>Graphic...</td>\n",
       "    </tr>\n",
       "    <tr>\n",
       "      <th>717</th>\n",
       "      <td>ASUS ROG Zephyrus G15 Ryzen 9 Octa Core 6900HS...</td>\n",
       "      <td>/1 TB SSD/Windows 11 Home/8</td>\n",
       "      <td>Graphics/NVIDIA ...</td>\n",
       "      <td>None</td>\n",
       "    </tr>\n",
       "    <tr>\n",
       "      <th>718</th>\n",
       "      <td>ASUS Zenbook Flip 14 OLED (2022) Touch Panel C...</td>\n",
       "      <td>/512</td>\n",
       "      <td>SSD/Windows 11 Home) UP5...</td>\n",
       "      <td>None</td>\n",
       "    </tr>\n",
       "    <tr>\n",
       "      <th>719</th>\n",
       "      <td>Lenovo Ideapad Slim 3i Core i5 10th Gen - (8</td>\n",
       "      <td>/1 TB HDD/256</td>\n",
       "      <td>SSD/Windows 10 Home) 15IIL05 Laptop</td>\n",
       "      <td>None</td>\n",
       "    </tr>\n",
       "  </tbody>\n",
       "</table>\n",
       "<p>720 rows × 4 columns</p>\n",
       "</div>"
      ],
      "text/plain": [
       "                                                     0  \\\n",
       "0              Lenovo IdeaPad 3 Core i3 11th Gen - (8    \n",
       "1              Lenovo IdeaPad 3 Core i3 11th Gen - (8    \n",
       "2       ASUS VivoBook 15 (2022) Core i3 10th Gen - (8    \n",
       "3     HP Pavilion Ryzen 5 Hexa Core AMD R5-5600H - (8    \n",
       "4           ASUS TUF Gaming F15 Core i5 10th Gen - (8    \n",
       "..                                                 ...   \n",
       "715  ASUS Chromebook Flip Touch Celeron Dual Core -...   \n",
       "716  Lenovo IdeaPad Gaming 3 Ryzen 7 Octa Core AMD ...   \n",
       "717  ASUS ROG Zephyrus G15 Ryzen 9 Octa Core 6900HS...   \n",
       "718  ASUS Zenbook Flip 14 OLED (2022) Touch Panel C...   \n",
       "719      Lenovo Ideapad Slim 3i Core i5 10th Gen - (8    \n",
       "\n",
       "                                1  \\\n",
       "0                           /256    \n",
       "1                           /512    \n",
       "2                           /512    \n",
       "3                           /512    \n",
       "4                           /512    \n",
       "..                            ...   \n",
       "715                          /64    \n",
       "716                         /512    \n",
       "717  /1 TB SSD/Windows 11 Home/8    \n",
       "718                         /512    \n",
       "719                /1 TB HDD/256    \n",
       "\n",
       "                                                     2  \\\n",
       "0     SSD/Windows 11 Home) 14ITL05 Thin and Light L...   \n",
       "1     SSD/Windows 11 Home) 82H801L7IN | 82H802FJIN ...   \n",
       "2     SSD/Windows 11 Home) X515JA-EJ362WS | X515JA-...   \n",
       "3                                    SSD/Windows 10/4    \n",
       "4                               SSD/Windows 11 Home/4    \n",
       "..                                                 ...   \n",
       "715     EMMC Storage/Chrome OS) C214MA-BU0452 Chrom...   \n",
       "716                             SSD/Windows 11 Home/4    \n",
       "717                                Graphics/NVIDIA ...   \n",
       "718                        SSD/Windows 11 Home) UP5...   \n",
       "719                SSD/Windows 10 Home) 15IIL05 Laptop   \n",
       "\n",
       "                                 3  \n",
       "0                             None  \n",
       "1                             None  \n",
       "2                             None  \n",
       "3      Graphics/NVIDIA GeForce ...  \n",
       "4     Graphics/NVIDIA GeForce G...  \n",
       "..                             ...  \n",
       "715                           None  \n",
       "716                     Graphic...  \n",
       "717                           None  \n",
       "718                           None  \n",
       "719                           None  \n",
       "\n",
       "[720 rows x 4 columns]"
      ]
     },
     "execution_count": 54,
     "metadata": {},
     "output_type": "execute_result"
    }
   ],
   "source": [
    "# Printing temp1 dataframe\n",
    "\n",
    "temp1"
   ]
  },
  {
   "cell_type": "code",
   "execution_count": 55,
   "id": "a1148a30",
   "metadata": {},
   "outputs": [
    {
     "data": {
      "text/plain": [
       "'Lenovo IdeaPad 3 Core i3 11th Gen - (8 '"
      ]
     },
     "execution_count": 55,
     "metadata": {},
     "output_type": "execute_result"
    }
   ],
   "source": [
    "temp1[0][0]"
   ]
  },
  {
   "cell_type": "code",
   "execution_count": 56,
   "id": "476559a9",
   "metadata": {},
   "outputs": [
    {
     "data": {
      "text/plain": [
       "0                Lenovo IdeaPad 3 Core i3 11th Gen - (8 \n",
       "1                Lenovo IdeaPad 3 Core i3 11th Gen - (8 \n",
       "2         ASUS VivoBook 15 (2022) Core i3 10th Gen - (8 \n",
       "3       HP Pavilion Ryzen 5 Hexa Core AMD R5-5600H - (8 \n",
       "4             ASUS TUF Gaming F15 Core i5 10th Gen - (8 \n",
       "                             ...                        \n",
       "715    ASUS Chromebook Flip Touch Celeron Dual Core -...\n",
       "716    Lenovo IdeaPad Gaming 3 Ryzen 7 Octa Core AMD ...\n",
       "717    ASUS ROG Zephyrus G15 Ryzen 9 Octa Core 6900HS...\n",
       "718    ASUS Zenbook Flip 14 OLED (2022) Touch Panel C...\n",
       "719        Lenovo Ideapad Slim 3i Core i5 10th Gen - (8 \n",
       "Name: 0, Length: 720, dtype: object"
      ]
     },
     "execution_count": 56,
     "metadata": {},
     "output_type": "execute_result"
    }
   ],
   "source": [
    "# Printing temp1 first column\n",
    "\n",
    "temp1[0]"
   ]
  },
  {
   "cell_type": "code",
   "execution_count": 57,
   "id": "f34c4928",
   "metadata": {},
   "outputs": [
    {
     "data": {
      "text/plain": [
       "0                             /256 \n",
       "1                             /512 \n",
       "2                             /512 \n",
       "3                             /512 \n",
       "4                             /512 \n",
       "                   ...             \n",
       "715                            /64 \n",
       "716                           /512 \n",
       "717    /1 TB SSD/Windows 11 Home/8 \n",
       "718                           /512 \n",
       "719                  /1 TB HDD/256 \n",
       "Name: 1, Length: 720, dtype: object"
      ]
     },
     "execution_count": 57,
     "metadata": {},
     "output_type": "execute_result"
    }
   ],
   "source": [
    "# Printing temp1 second column\n",
    "\n",
    "temp1[1]"
   ]
  },
  {
   "cell_type": "code",
   "execution_count": 58,
   "id": "3bb3ad17",
   "metadata": {},
   "outputs": [
    {
     "data": {
      "text/plain": [
       "0       SSD/Windows 11 Home) 14ITL05 Thin and Light L...\n",
       "1       SSD/Windows 11 Home) 82H801L7IN | 82H802FJIN ...\n",
       "2       SSD/Windows 11 Home) X515JA-EJ362WS | X515JA-...\n",
       "3                                      SSD/Windows 10/4 \n",
       "4                                 SSD/Windows 11 Home/4 \n",
       "                             ...                        \n",
       "715       EMMC Storage/Chrome OS) C214MA-BU0452 Chrom...\n",
       "716                               SSD/Windows 11 Home/4 \n",
       "717                                  Graphics/NVIDIA ...\n",
       "718                          SSD/Windows 11 Home) UP5...\n",
       "719                  SSD/Windows 10 Home) 15IIL05 Laptop\n",
       "Name: 2, Length: 720, dtype: object"
      ]
     },
     "execution_count": 58,
     "metadata": {},
     "output_type": "execute_result"
    }
   ],
   "source": [
    "# Printing temp1 third column\n",
    "\n",
    "temp1[2]"
   ]
  },
  {
   "cell_type": "markdown",
   "id": "6b4bb82e",
   "metadata": {},
   "source": [
    "**Findings**\n",
    "\n",
    "- I think temp1 first column well help me to extact Laptop Brand Name\n",
    "- And Fetching Hard Disk size into temp second column"
   ]
  },
  {
   "cell_type": "code",
   "execution_count": 59,
   "id": "eb3353c4",
   "metadata": {},
   "outputs": [],
   "source": [
    "# temp1 first column into temp1s variable\n",
    "\n",
    "temp1s = temp1[0]"
   ]
  },
  {
   "cell_type": "code",
   "execution_count": 60,
   "id": "bb3e067a",
   "metadata": {},
   "outputs": [
    {
     "data": {
      "text/html": [
       "<div>\n",
       "<style scoped>\n",
       "    .dataframe tbody tr th:only-of-type {\n",
       "        vertical-align: middle;\n",
       "    }\n",
       "\n",
       "    .dataframe tbody tr th {\n",
       "        vertical-align: top;\n",
       "    }\n",
       "\n",
       "    .dataframe thead th {\n",
       "        text-align: right;\n",
       "    }\n",
       "</style>\n",
       "<table border=\"1\" class=\"dataframe\">\n",
       "  <thead>\n",
       "    <tr style=\"text-align: right;\">\n",
       "      <th></th>\n",
       "      <th>0</th>\n",
       "    </tr>\n",
       "  </thead>\n",
       "  <tbody>\n",
       "    <tr>\n",
       "      <th>0</th>\n",
       "      <td>Lenovo IdeaPad 3 Core i3 11th Gen - (8</td>\n",
       "    </tr>\n",
       "    <tr>\n",
       "      <th>1</th>\n",
       "      <td>Lenovo IdeaPad 3 Core i3 11th Gen - (8</td>\n",
       "    </tr>\n",
       "    <tr>\n",
       "      <th>2</th>\n",
       "      <td>ASUS VivoBook 15 (2022) Core i3 10th Gen - (8</td>\n",
       "    </tr>\n",
       "    <tr>\n",
       "      <th>3</th>\n",
       "      <td>HP Pavilion Ryzen 5 Hexa Core AMD R5-5600H - (8</td>\n",
       "    </tr>\n",
       "    <tr>\n",
       "      <th>4</th>\n",
       "      <td>ASUS TUF Gaming F15 Core i5 10th Gen - (8</td>\n",
       "    </tr>\n",
       "    <tr>\n",
       "      <th>...</th>\n",
       "      <td>...</td>\n",
       "    </tr>\n",
       "    <tr>\n",
       "      <th>715</th>\n",
       "      <td>ASUS Chromebook Flip Touch Celeron Dual Core -...</td>\n",
       "    </tr>\n",
       "    <tr>\n",
       "      <th>716</th>\n",
       "      <td>Lenovo IdeaPad Gaming 3 Ryzen 7 Octa Core AMD ...</td>\n",
       "    </tr>\n",
       "    <tr>\n",
       "      <th>717</th>\n",
       "      <td>ASUS ROG Zephyrus G15 Ryzen 9 Octa Core 6900HS...</td>\n",
       "    </tr>\n",
       "    <tr>\n",
       "      <th>718</th>\n",
       "      <td>ASUS Zenbook Flip 14 OLED (2022) Touch Panel C...</td>\n",
       "    </tr>\n",
       "    <tr>\n",
       "      <th>719</th>\n",
       "      <td>Lenovo Ideapad Slim 3i Core i5 10th Gen - (8</td>\n",
       "    </tr>\n",
       "  </tbody>\n",
       "</table>\n",
       "<p>720 rows × 1 columns</p>\n",
       "</div>"
      ],
      "text/plain": [
       "                                                     0\n",
       "0              Lenovo IdeaPad 3 Core i3 11th Gen - (8 \n",
       "1              Lenovo IdeaPad 3 Core i3 11th Gen - (8 \n",
       "2       ASUS VivoBook 15 (2022) Core i3 10th Gen - (8 \n",
       "3     HP Pavilion Ryzen 5 Hexa Core AMD R5-5600H - (8 \n",
       "4           ASUS TUF Gaming F15 Core i5 10th Gen - (8 \n",
       "..                                                 ...\n",
       "715  ASUS Chromebook Flip Touch Celeron Dual Core -...\n",
       "716  Lenovo IdeaPad Gaming 3 Ryzen 7 Octa Core AMD ...\n",
       "717  ASUS ROG Zephyrus G15 Ryzen 9 Octa Core 6900HS...\n",
       "718  ASUS Zenbook Flip 14 OLED (2022) Touch Panel C...\n",
       "719      Lenovo Ideapad Slim 3i Core i5 10th Gen - (8 \n",
       "\n",
       "[720 rows x 1 columns]"
      ]
     },
     "execution_count": 60,
     "metadata": {},
     "output_type": "execute_result"
    }
   ],
   "source": [
    " # Converting Series into Dataframe\n",
    "\n",
    "temp1s = pd.DataFrame(temp1s)\n",
    "temp1s"
   ]
  },
  {
   "cell_type": "code",
   "execution_count": 61,
   "id": "6c057b19",
   "metadata": {},
   "outputs": [
    {
     "data": {
      "text/plain": [
       "ASUS         251\n",
       "Lenovo       196\n",
       "HP            61\n",
       "DELL          61\n",
       "acer          35\n",
       "RedmiBook     31\n",
       "MSI           30\n",
       "Infinix       20\n",
       "APPLE         19\n",
       "realme         6\n",
       "ALIENWARE      3\n",
       "SAMSUNG        2\n",
       "Ultimus        2\n",
       "Vaio           1\n",
       "GIGABYTE       1\n",
       "Nokia          1\n",
       "Name: 0, dtype: int64"
      ]
     },
     "execution_count": 61,
     "metadata": {},
     "output_type": "execute_result"
    }
   ],
   "source": [
    "# Fetching Laptop Brand Name Using Split function and Indexing \n",
    "\n",
    "brand = temp1s[0].str.split().str[0]\n",
    "brand.value_counts()"
   ]
  },
  {
   "cell_type": "code",
   "execution_count": 62,
   "id": "dd416b33",
   "metadata": {},
   "outputs": [
    {
     "data": {
      "text/html": [
       "<div>\n",
       "<style scoped>\n",
       "    .dataframe tbody tr th:only-of-type {\n",
       "        vertical-align: middle;\n",
       "    }\n",
       "\n",
       "    .dataframe tbody tr th {\n",
       "        vertical-align: top;\n",
       "    }\n",
       "\n",
       "    .dataframe thead th {\n",
       "        text-align: right;\n",
       "    }\n",
       "</style>\n",
       "<table border=\"1\" class=\"dataframe\">\n",
       "  <thead>\n",
       "    <tr style=\"text-align: right;\">\n",
       "      <th></th>\n",
       "      <th>Product</th>\n",
       "      <th>Rating</th>\n",
       "      <th>MRP</th>\n",
       "      <th>Feature</th>\n",
       "      <th>Brand Name</th>\n",
       "    </tr>\n",
       "  </thead>\n",
       "  <tbody>\n",
       "    <tr>\n",
       "      <th>0</th>\n",
       "      <td>Lenovo IdeaPad 3 Core i3 11th Gen - (8 GB/256 ...</td>\n",
       "      <td>4.2</td>\n",
       "      <td>10.518430</td>\n",
       "      <td>Intel Core i3 Processor (11th Gen)8 GB DDR4 RA...</td>\n",
       "      <td>Lenovo</td>\n",
       "    </tr>\n",
       "    <tr>\n",
       "      <th>1</th>\n",
       "      <td>Lenovo IdeaPad 3 Core i3 11th Gen - (8 GB/512 ...</td>\n",
       "      <td>4.2</td>\n",
       "      <td>10.596410</td>\n",
       "      <td>Intel Core i3 Processor (11th Gen)8 GB DDR4 RA...</td>\n",
       "      <td>Lenovo</td>\n",
       "    </tr>\n",
       "    <tr>\n",
       "      <th>2</th>\n",
       "      <td>ASUS VivoBook 15 (2022) Core i3 10th Gen - (8 ...</td>\n",
       "      <td>4.3</td>\n",
       "      <td>10.403990</td>\n",
       "      <td>Intel Core i3 Processor (10th Gen)8 GB DDR4 RA...</td>\n",
       "      <td>ASUS</td>\n",
       "    </tr>\n",
       "    <tr>\n",
       "      <th>3</th>\n",
       "      <td>HP Pavilion Ryzen 5 Hexa Core AMD R5-5600H - (...</td>\n",
       "      <td>4.4</td>\n",
       "      <td>10.819598</td>\n",
       "      <td>AMD Ryzen 5 Hexa Core Processor8 GB DDR4 RAM64...</td>\n",
       "      <td>HP</td>\n",
       "    </tr>\n",
       "    <tr>\n",
       "      <th>4</th>\n",
       "      <td>ASUS TUF Gaming F15 Core i5 10th Gen - (8 GB/5...</td>\n",
       "      <td>4.4</td>\n",
       "      <td>10.819598</td>\n",
       "      <td>Intel Core i5 Processor (10th Gen)8 GB DDR4 RA...</td>\n",
       "      <td>ASUS</td>\n",
       "    </tr>\n",
       "  </tbody>\n",
       "</table>\n",
       "</div>"
      ],
      "text/plain": [
       "                                             Product  Rating        MRP  \\\n",
       "0  Lenovo IdeaPad 3 Core i3 11th Gen - (8 GB/256 ...     4.2  10.518430   \n",
       "1  Lenovo IdeaPad 3 Core i3 11th Gen - (8 GB/512 ...     4.2  10.596410   \n",
       "2  ASUS VivoBook 15 (2022) Core i3 10th Gen - (8 ...     4.3  10.403990   \n",
       "3  HP Pavilion Ryzen 5 Hexa Core AMD R5-5600H - (...     4.4  10.819598   \n",
       "4  ASUS TUF Gaming F15 Core i5 10th Gen - (8 GB/5...     4.4  10.819598   \n",
       "\n",
       "                                             Feature Brand Name  \n",
       "0  Intel Core i3 Processor (11th Gen)8 GB DDR4 RA...     Lenovo  \n",
       "1  Intel Core i3 Processor (11th Gen)8 GB DDR4 RA...     Lenovo  \n",
       "2  Intel Core i3 Processor (10th Gen)8 GB DDR4 RA...       ASUS  \n",
       "3  AMD Ryzen 5 Hexa Core Processor8 GB DDR4 RAM64...         HP  \n",
       "4  Intel Core i5 Processor (10th Gen)8 GB DDR4 RA...       ASUS  "
      ]
     },
     "execution_count": 62,
     "metadata": {},
     "output_type": "execute_result"
    }
   ],
   "source": [
    "# Adding brand column into main DataFrame\n",
    "\n",
    "df['Brand Name'] = brand\n",
    "df.head()"
   ]
  },
  {
   "cell_type": "code",
   "execution_count": 63,
   "id": "a1e6a29b",
   "metadata": {},
   "outputs": [
    {
     "data": {
      "text/plain": [
       "ASUS         251\n",
       "Lenovo       196\n",
       "HP            61\n",
       "DELL          61\n",
       "acer          35\n",
       "RedmiBook     31\n",
       "MSI           30\n",
       "Infinix       20\n",
       "APPLE         19\n",
       "realme         6\n",
       "ALIENWARE      3\n",
       "SAMSUNG        2\n",
       "Ultimus        2\n",
       "Vaio           1\n",
       "GIGABYTE       1\n",
       "Nokia          1\n",
       "Name: Brand Name, dtype: int64"
      ]
     },
     "execution_count": 63,
     "metadata": {},
     "output_type": "execute_result"
    }
   ],
   "source": [
    "df['Brand Name'].value_counts()"
   ]
  },
  {
   "cell_type": "code",
   "execution_count": 64,
   "id": "0e42bf37",
   "metadata": {},
   "outputs": [],
   "source": [
    "# To prevent overfitting less brand values store into Others Variable\n",
    "\n",
    "df['Brand Name'] = df['Brand Name'].str.replace('realme','Others')\n",
    "df['Brand Name'] = df['Brand Name'].str.replace('SAMSUNG','Others')\n",
    "df['Brand Name'] = df['Brand Name'].str.replace('Ultimus','Others')\n",
    "df['Brand Name'] = df['Brand Name'].str.replace('Vaio','Others')\n",
    "df['Brand Name'] = df['Brand Name'].str.replace('GIGABYTE','Others')\n",
    "df['Brand Name'] = df['Brand Name'].str.replace('Nokia','Others')\n",
    "df['Brand Name'] = df['Brand Name'].str.replace('ALIENWARE','DELL')"
   ]
  },
  {
   "cell_type": "code",
   "execution_count": 65,
   "id": "1a38e5d1",
   "metadata": {},
   "outputs": [
    {
     "data": {
      "text/plain": [
       "ASUS         251\n",
       "Lenovo       196\n",
       "DELL          64\n",
       "HP            61\n",
       "acer          35\n",
       "RedmiBook     31\n",
       "MSI           30\n",
       "Infinix       20\n",
       "APPLE         19\n",
       "Others        13\n",
       "Name: Brand Name, dtype: int64"
      ]
     },
     "execution_count": 65,
     "metadata": {},
     "output_type": "execute_result"
    }
   ],
   "source": [
    "df['Brand Name'].value_counts()"
   ]
  },
  {
   "cell_type": "markdown",
   "id": "199eea58",
   "metadata": {},
   "source": [
    "**Finding**\n",
    "\n",
    "- To prevent outlier less brand values store into Others Variable"
   ]
  },
  {
   "cell_type": "markdown",
   "id": "cf8b8477",
   "metadata": {},
   "source": [
    "**Operating System (OS)**\n",
    "\n",
    "An operating system (OS) is a software that manages a computer's hardware and provides services for running applications. It serves as a bridge between the hardware and the software, enabling users to interact with the computer and its resources. Examples of popular operating systems for laptops include Windows, macOS, and Linux. Each operating system has its unique interface, features, and compatibility with applications. The operating system manages tasks such as memory allocation, process management, file systems, and security. It also provides a platform for developers to create and run applications that work seamlessly with the hardware and other software components. The choice of operating system can significantly impact a laptop's performance, usability, and security, and it's essential to choose the one that best fits your needs and preferences."
   ]
  },
  {
   "cell_type": "code",
   "execution_count": 66,
   "id": "500d006e",
   "metadata": {},
   "outputs": [
    {
     "data": {
      "text/plain": [
       "Windows    690\n",
       "Mac         19\n",
       "Others      11\n",
       "Name: OS, dtype: int64"
      ]
     },
     "execution_count": 66,
     "metadata": {},
     "output_type": "execute_result"
    }
   ],
   "source": [
    "# Regular expression to extract the Operating System (OS) from the \"Feature\" column\n",
    "regex_os = r'(Windows|MAC)'\n",
    "\n",
    "# Function to extract the OS information from a string using regex\n",
    "def extract_os(text):\n",
    "    match = re.search(regex_os, text, re.IGNORECASE)\n",
    "    if match:\n",
    "        return match.group(1)\n",
    "    else:\n",
    "        return \"Others\"\n",
    "\n",
    "# Apply the function to the \"Feature\" column and create a new column with the OS information\n",
    "df['OS'] = df['Feature'].apply(extract_os)\n",
    "df['OS'].value_counts()"
   ]
  },
  {
   "cell_type": "markdown",
   "id": "99e53f8e",
   "metadata": {},
   "source": [
    "**Finding**\n",
    "\n",
    "- Windows Laptops are more in compare to others \n",
    "- Apple Laptops is less because of expensive\n",
    "- Others maybe linux or andriod OS"
   ]
  },
  {
   "cell_type": "code",
   "execution_count": 67,
   "id": "f85682a0",
   "metadata": {},
   "outputs": [
    {
     "data": {
      "text/html": [
       "<div>\n",
       "<style scoped>\n",
       "    .dataframe tbody tr th:only-of-type {\n",
       "        vertical-align: middle;\n",
       "    }\n",
       "\n",
       "    .dataframe tbody tr th {\n",
       "        vertical-align: top;\n",
       "    }\n",
       "\n",
       "    .dataframe thead th {\n",
       "        text-align: right;\n",
       "    }\n",
       "</style>\n",
       "<table border=\"1\" class=\"dataframe\">\n",
       "  <thead>\n",
       "    <tr style=\"text-align: right;\">\n",
       "      <th></th>\n",
       "      <th>Product</th>\n",
       "      <th>Rating</th>\n",
       "      <th>MRP</th>\n",
       "      <th>Feature</th>\n",
       "      <th>Brand Name</th>\n",
       "      <th>OS</th>\n",
       "    </tr>\n",
       "  </thead>\n",
       "  <tbody>\n",
       "    <tr>\n",
       "      <th>0</th>\n",
       "      <td>Lenovo IdeaPad 3 Core i3 11th Gen - (8 GB/256 ...</td>\n",
       "      <td>4.2</td>\n",
       "      <td>10.518430</td>\n",
       "      <td>Intel Core i3 Processor (11th Gen)8 GB DDR4 RA...</td>\n",
       "      <td>Lenovo</td>\n",
       "      <td>Windows</td>\n",
       "    </tr>\n",
       "    <tr>\n",
       "      <th>1</th>\n",
       "      <td>Lenovo IdeaPad 3 Core i3 11th Gen - (8 GB/512 ...</td>\n",
       "      <td>4.2</td>\n",
       "      <td>10.596410</td>\n",
       "      <td>Intel Core i3 Processor (11th Gen)8 GB DDR4 RA...</td>\n",
       "      <td>Lenovo</td>\n",
       "      <td>Windows</td>\n",
       "    </tr>\n",
       "    <tr>\n",
       "      <th>2</th>\n",
       "      <td>ASUS VivoBook 15 (2022) Core i3 10th Gen - (8 ...</td>\n",
       "      <td>4.3</td>\n",
       "      <td>10.403990</td>\n",
       "      <td>Intel Core i3 Processor (10th Gen)8 GB DDR4 RA...</td>\n",
       "      <td>ASUS</td>\n",
       "      <td>Windows</td>\n",
       "    </tr>\n",
       "    <tr>\n",
       "      <th>3</th>\n",
       "      <td>HP Pavilion Ryzen 5 Hexa Core AMD R5-5600H - (...</td>\n",
       "      <td>4.4</td>\n",
       "      <td>10.819598</td>\n",
       "      <td>AMD Ryzen 5 Hexa Core Processor8 GB DDR4 RAM64...</td>\n",
       "      <td>HP</td>\n",
       "      <td>Windows</td>\n",
       "    </tr>\n",
       "    <tr>\n",
       "      <th>4</th>\n",
       "      <td>ASUS TUF Gaming F15 Core i5 10th Gen - (8 GB/5...</td>\n",
       "      <td>4.4</td>\n",
       "      <td>10.819598</td>\n",
       "      <td>Intel Core i5 Processor (10th Gen)8 GB DDR4 RA...</td>\n",
       "      <td>ASUS</td>\n",
       "      <td>Windows</td>\n",
       "    </tr>\n",
       "  </tbody>\n",
       "</table>\n",
       "</div>"
      ],
      "text/plain": [
       "                                             Product  Rating        MRP  \\\n",
       "0  Lenovo IdeaPad 3 Core i3 11th Gen - (8 GB/256 ...     4.2  10.518430   \n",
       "1  Lenovo IdeaPad 3 Core i3 11th Gen - (8 GB/512 ...     4.2  10.596410   \n",
       "2  ASUS VivoBook 15 (2022) Core i3 10th Gen - (8 ...     4.3  10.403990   \n",
       "3  HP Pavilion Ryzen 5 Hexa Core AMD R5-5600H - (...     4.4  10.819598   \n",
       "4  ASUS TUF Gaming F15 Core i5 10th Gen - (8 GB/5...     4.4  10.819598   \n",
       "\n",
       "                                             Feature Brand Name       OS  \n",
       "0  Intel Core i3 Processor (11th Gen)8 GB DDR4 RA...     Lenovo  Windows  \n",
       "1  Intel Core i3 Processor (11th Gen)8 GB DDR4 RA...     Lenovo  Windows  \n",
       "2  Intel Core i3 Processor (10th Gen)8 GB DDR4 RA...       ASUS  Windows  \n",
       "3  AMD Ryzen 5 Hexa Core Processor8 GB DDR4 RAM64...         HP  Windows  \n",
       "4  Intel Core i5 Processor (10th Gen)8 GB DDR4 RA...       ASUS  Windows  "
      ]
     },
     "execution_count": 67,
     "metadata": {},
     "output_type": "execute_result"
    }
   ],
   "source": [
    "df.head()"
   ]
  },
  {
   "cell_type": "markdown",
   "id": "44c6ac15",
   "metadata": {},
   "source": [
    "**RAM Type**\n",
    "\n",
    "Laptop RAM (Random Access Memory) type refers to the type of memory technology used in a laptop to temporarily store data that the CPU (Central Processing Unit) needs to access quickly. There are several types of laptop RAM available in the market, including DDR (Double Data Rate) SDRAM (Synchronous Dynamic Random Access Memory), DDR2 SDRAM, DDR3 SDRAM, DDR4 SDRAM, and DDR5 SDRAM. Each type of RAM offers different levels of speed, power consumption, and capacity. DDR4 SDRAM is currently the most commonly used type of RAM in laptops, offering a good balance of speed, power efficiency, and capacity. When buying a laptop, it's essential to consider the type and amount of RAM the laptop has, as it can significantly impact its performance and multitasking capabilities."
   ]
  },
  {
   "cell_type": "code",
   "execution_count": 68,
   "id": "e0c65040",
   "metadata": {},
   "outputs": [
    {
     "data": {
      "text/plain": [
       "DDR4       561\n",
       "DDR5        92\n",
       "LPDDR4X     37\n",
       "LPDDR5       9\n",
       "LPDDR4       8\n",
       "LPDDR3       1\n",
       "Name: Ram Type, dtype: int64"
      ]
     },
     "execution_count": 68,
     "metadata": {},
     "output_type": "execute_result"
    }
   ],
   "source": [
    "regex_ram_type = r'(DDR[0-9L]*|LPDDR[0-9X]*)'\n",
    "\n",
    "def extract_ram_type(text):\n",
    "    match = re.search(regex_ram_type, text, re.IGNORECASE)\n",
    "    if match:\n",
    "        return match.group(0)\n",
    "    else:\n",
    "        return None\n",
    "\n",
    "df['Ram Type'] = df['Feature'].apply(extract_ram_type)\n",
    "\n",
    "df['Ram Type'].value_counts()"
   ]
  },
  {
   "cell_type": "code",
   "execution_count": 69,
   "id": "cf808e50",
   "metadata": {},
   "outputs": [
    {
     "data": {
      "text/plain": [
       "DDR4       561\n",
       "DDR5        92\n",
       "OthersX     37\n",
       "Others      18\n",
       "Name: Ram Type, dtype: int64"
      ]
     },
     "execution_count": 69,
     "metadata": {},
     "output_type": "execute_result"
    }
   ],
   "source": [
    "df['Ram Type'] = df['Ram Type'].str.replace('LPDDR5','Others')\n",
    "df['Ram Type'] = df['Ram Type'].str.replace('LPDDR4','Others')\n",
    "df['Ram Type'] = df['Ram Type'].str.replace('LPDDR3','Others')\n",
    "df['Ram Type'].value_counts()"
   ]
  },
  {
   "cell_type": "code",
   "execution_count": 70,
   "id": "cda9ca54",
   "metadata": {},
   "outputs": [
    {
     "data": {
      "text/plain": [
       "DDR4      561\n",
       "DDR5       92\n",
       "Others     55\n",
       "Name: Ram Type, dtype: int64"
      ]
     },
     "execution_count": 70,
     "metadata": {},
     "output_type": "execute_result"
    }
   ],
   "source": [
    "df['Ram Type'] = df['Ram Type'].str.replace('OthersX','Others')\n",
    "df['Ram Type'].value_counts()"
   ]
  },
  {
   "cell_type": "code",
   "execution_count": 71,
   "id": "12fff794",
   "metadata": {},
   "outputs": [
    {
     "data": {
      "text/plain": [
       "array(['DDR4', 'DDR5', 'Others', None], dtype=object)"
      ]
     },
     "execution_count": 71,
     "metadata": {},
     "output_type": "execute_result"
    }
   ],
   "source": [
    "df['Ram Type'].unique()"
   ]
  },
  {
   "cell_type": "code",
   "execution_count": 72,
   "id": "af9e1acf",
   "metadata": {},
   "outputs": [],
   "source": [
    "df['Ram Type'].fillna('Others', inplace=True)"
   ]
  },
  {
   "cell_type": "code",
   "execution_count": 73,
   "id": "c673ee90",
   "metadata": {},
   "outputs": [
    {
     "data": {
      "text/plain": [
       "array(['DDR4', 'DDR5', 'Others'], dtype=object)"
      ]
     },
     "execution_count": 73,
     "metadata": {},
     "output_type": "execute_result"
    }
   ],
   "source": [
    "df['Ram Type'].unique()"
   ]
  },
  {
   "cell_type": "code",
   "execution_count": 74,
   "id": "cf829d18",
   "metadata": {},
   "outputs": [
    {
     "data": {
      "text/plain": [
       "DDR4      561\n",
       "DDR5       92\n",
       "Others     67\n",
       "Name: Ram Type, dtype: int64"
      ]
     },
     "execution_count": 74,
     "metadata": {},
     "output_type": "execute_result"
    }
   ],
   "source": [
    "df['Ram Type'].value_counts()"
   ]
  },
  {
   "cell_type": "markdown",
   "id": "f2caff3a",
   "metadata": {},
   "source": [
    "**Findings**\n",
    "\n",
    "- To prevent overfitting less ram type values store into Others Variable"
   ]
  },
  {
   "cell_type": "code",
   "execution_count": 75,
   "id": "3123ac51",
   "metadata": {},
   "outputs": [
    {
     "data": {
      "text/html": [
       "<div>\n",
       "<style scoped>\n",
       "    .dataframe tbody tr th:only-of-type {\n",
       "        vertical-align: middle;\n",
       "    }\n",
       "\n",
       "    .dataframe tbody tr th {\n",
       "        vertical-align: top;\n",
       "    }\n",
       "\n",
       "    .dataframe thead th {\n",
       "        text-align: right;\n",
       "    }\n",
       "</style>\n",
       "<table border=\"1\" class=\"dataframe\">\n",
       "  <thead>\n",
       "    <tr style=\"text-align: right;\">\n",
       "      <th></th>\n",
       "      <th>Product</th>\n",
       "      <th>Rating</th>\n",
       "      <th>MRP</th>\n",
       "      <th>Feature</th>\n",
       "      <th>Brand Name</th>\n",
       "      <th>OS</th>\n",
       "      <th>Ram Type</th>\n",
       "    </tr>\n",
       "  </thead>\n",
       "  <tbody>\n",
       "    <tr>\n",
       "      <th>0</th>\n",
       "      <td>Lenovo IdeaPad 3 Core i3 11th Gen - (8 GB/256 ...</td>\n",
       "      <td>4.2</td>\n",
       "      <td>10.518430</td>\n",
       "      <td>Intel Core i3 Processor (11th Gen)8 GB DDR4 RA...</td>\n",
       "      <td>Lenovo</td>\n",
       "      <td>Windows</td>\n",
       "      <td>DDR4</td>\n",
       "    </tr>\n",
       "    <tr>\n",
       "      <th>1</th>\n",
       "      <td>Lenovo IdeaPad 3 Core i3 11th Gen - (8 GB/512 ...</td>\n",
       "      <td>4.2</td>\n",
       "      <td>10.596410</td>\n",
       "      <td>Intel Core i3 Processor (11th Gen)8 GB DDR4 RA...</td>\n",
       "      <td>Lenovo</td>\n",
       "      <td>Windows</td>\n",
       "      <td>DDR4</td>\n",
       "    </tr>\n",
       "    <tr>\n",
       "      <th>2</th>\n",
       "      <td>ASUS VivoBook 15 (2022) Core i3 10th Gen - (8 ...</td>\n",
       "      <td>4.3</td>\n",
       "      <td>10.403990</td>\n",
       "      <td>Intel Core i3 Processor (10th Gen)8 GB DDR4 RA...</td>\n",
       "      <td>ASUS</td>\n",
       "      <td>Windows</td>\n",
       "      <td>DDR4</td>\n",
       "    </tr>\n",
       "    <tr>\n",
       "      <th>3</th>\n",
       "      <td>HP Pavilion Ryzen 5 Hexa Core AMD R5-5600H - (...</td>\n",
       "      <td>4.4</td>\n",
       "      <td>10.819598</td>\n",
       "      <td>AMD Ryzen 5 Hexa Core Processor8 GB DDR4 RAM64...</td>\n",
       "      <td>HP</td>\n",
       "      <td>Windows</td>\n",
       "      <td>DDR4</td>\n",
       "    </tr>\n",
       "    <tr>\n",
       "      <th>4</th>\n",
       "      <td>ASUS TUF Gaming F15 Core i5 10th Gen - (8 GB/5...</td>\n",
       "      <td>4.4</td>\n",
       "      <td>10.819598</td>\n",
       "      <td>Intel Core i5 Processor (10th Gen)8 GB DDR4 RA...</td>\n",
       "      <td>ASUS</td>\n",
       "      <td>Windows</td>\n",
       "      <td>DDR4</td>\n",
       "    </tr>\n",
       "  </tbody>\n",
       "</table>\n",
       "</div>"
      ],
      "text/plain": [
       "                                             Product  Rating        MRP  \\\n",
       "0  Lenovo IdeaPad 3 Core i3 11th Gen - (8 GB/256 ...     4.2  10.518430   \n",
       "1  Lenovo IdeaPad 3 Core i3 11th Gen - (8 GB/512 ...     4.2  10.596410   \n",
       "2  ASUS VivoBook 15 (2022) Core i3 10th Gen - (8 ...     4.3  10.403990   \n",
       "3  HP Pavilion Ryzen 5 Hexa Core AMD R5-5600H - (...     4.4  10.819598   \n",
       "4  ASUS TUF Gaming F15 Core i5 10th Gen - (8 GB/5...     4.4  10.819598   \n",
       "\n",
       "                                             Feature Brand Name       OS  \\\n",
       "0  Intel Core i3 Processor (11th Gen)8 GB DDR4 RA...     Lenovo  Windows   \n",
       "1  Intel Core i3 Processor (11th Gen)8 GB DDR4 RA...     Lenovo  Windows   \n",
       "2  Intel Core i3 Processor (10th Gen)8 GB DDR4 RA...       ASUS  Windows   \n",
       "3  AMD Ryzen 5 Hexa Core Processor8 GB DDR4 RAM64...         HP  Windows   \n",
       "4  Intel Core i5 Processor (10th Gen)8 GB DDR4 RA...       ASUS  Windows   \n",
       "\n",
       "  Ram Type  \n",
       "0     DDR4  \n",
       "1     DDR4  \n",
       "2     DDR4  \n",
       "3     DDR4  \n",
       "4     DDR4  "
      ]
     },
     "execution_count": 75,
     "metadata": {},
     "output_type": "execute_result"
    }
   ],
   "source": [
    "df.head()"
   ]
  },
  {
   "cell_type": "markdown",
   "id": "cbb5c0c5",
   "metadata": {},
   "source": [
    "**RAM**\n",
    "\n",
    "Laptop RAM (Random Access Memory) is a type of computer memory that stores data temporarily and allows the CPU (Central Processing Unit) to access it quickly. RAM plays a crucial role in the performance of a laptop, as it helps to determine how many applications and processes the laptop can handle simultaneously. The amount of RAM in a laptop can range from 2GB to 32GB or more, and it can be upgraded in some cases. The speed of the RAM, measured in MHz or GHz, also affects the laptop's performance. Faster RAM allows for quicker data transfer and improves overall system responsiveness. When purchasing a laptop, it's important to consider the amount and speed of the RAM to ensure optimal performance for your specific needs."
   ]
  },
  {
   "cell_type": "code",
   "execution_count": 76,
   "id": "a5b004bb",
   "metadata": {},
   "outputs": [
    {
     "data": {
      "text/plain": [
       "8GB      400\n",
       "16GB     263\n",
       "4GB       38\n",
       "32GB      17\n",
       "128GB      2\n",
       "Name: RAM, dtype: int64"
      ]
     },
     "execution_count": 76,
     "metadata": {},
     "output_type": "execute_result"
    }
   ],
   "source": [
    "regex_ram = r'(\\d+)\\s*(?:GB|MB)(?:\\s*DDR\\d)?'\n",
    "\n",
    "# Function to extract RAM information from a string using regex\n",
    "def extract_ram(text):\n",
    "    match = re.search(regex_ram, text, re.IGNORECASE)\n",
    "    if match:\n",
    "        return f\"{match.group(1)}GB\"\n",
    "    else:\n",
    "        return None\n",
    "\n",
    "# Apply the function to the \"Feature\" column and create a new column with the RAM information\n",
    "df['RAM'] = df['Feature'].apply(extract_ram)\n",
    "\n",
    "# Print the count of each RAM size\n",
    "df['RAM'].value_counts()"
   ]
  },
  {
   "cell_type": "code",
   "execution_count": 77,
   "id": "1214a4f5",
   "metadata": {},
   "outputs": [],
   "source": [
    "df['RAM'] = df['RAM'].str.replace('8GB','8')\n",
    "df['RAM'] = df['RAM'].str.replace('16GB','16')\n",
    "df['RAM'] = df['RAM'].str.replace('4GB','4')\n",
    "df['RAM'] = df['RAM'].str.replace('32GB','32')\n",
    "df['RAM'] = df['RAM'].str.replace('128GB','32')\n",
    "df['RAM'] = df['RAM'].str.replace('128','32')"
   ]
  },
  {
   "cell_type": "code",
   "execution_count": 78,
   "id": "ba8a272d",
   "metadata": {},
   "outputs": [
    {
     "data": {
      "text/plain": [
       "8     400\n",
       "16    263\n",
       "4      38\n",
       "32     19\n",
       "Name: RAM, dtype: int64"
      ]
     },
     "execution_count": 78,
     "metadata": {},
     "output_type": "execute_result"
    }
   ],
   "source": [
    "df['RAM'].value_counts()"
   ]
  },
  {
   "cell_type": "code",
   "execution_count": 79,
   "id": "e49304a7",
   "metadata": {},
   "outputs": [
    {
     "name": "stdout",
     "output_type": "stream",
     "text": [
      "<class 'pandas.core.frame.DataFrame'>\n",
      "RangeIndex: 720 entries, 0 to 719\n",
      "Data columns (total 8 columns):\n",
      " #   Column      Non-Null Count  Dtype  \n",
      "---  ------      --------------  -----  \n",
      " 0   Product     720 non-null    object \n",
      " 1   Rating      581 non-null    float64\n",
      " 2   MRP         720 non-null    float32\n",
      " 3   Feature     720 non-null    object \n",
      " 4   Brand Name  720 non-null    object \n",
      " 5   OS          720 non-null    object \n",
      " 6   Ram Type    720 non-null    object \n",
      " 7   RAM         720 non-null    object \n",
      "dtypes: float32(1), float64(1), object(6)\n",
      "memory usage: 42.3+ KB\n"
     ]
    }
   ],
   "source": [
    "df.info()"
   ]
  },
  {
   "cell_type": "code",
   "execution_count": 80,
   "id": "ed21f437",
   "metadata": {},
   "outputs": [],
   "source": [
    "df['RAM'] = df['RAM'].astype('int32')"
   ]
  },
  {
   "cell_type": "code",
   "execution_count": 81,
   "id": "9848be01",
   "metadata": {},
   "outputs": [
    {
     "name": "stdout",
     "output_type": "stream",
     "text": [
      "<class 'pandas.core.frame.DataFrame'>\n",
      "RangeIndex: 720 entries, 0 to 719\n",
      "Data columns (total 8 columns):\n",
      " #   Column      Non-Null Count  Dtype  \n",
      "---  ------      --------------  -----  \n",
      " 0   Product     720 non-null    object \n",
      " 1   Rating      581 non-null    float64\n",
      " 2   MRP         720 non-null    float32\n",
      " 3   Feature     720 non-null    object \n",
      " 4   Brand Name  720 non-null    object \n",
      " 5   OS          720 non-null    object \n",
      " 6   Ram Type    720 non-null    object \n",
      " 7   RAM         720 non-null    int32  \n",
      "dtypes: float32(1), float64(1), int32(1), object(5)\n",
      "memory usage: 39.5+ KB\n"
     ]
    }
   ],
   "source": [
    "df.info()"
   ]
  },
  {
   "cell_type": "code",
   "execution_count": 82,
   "id": "d317267b",
   "metadata": {},
   "outputs": [
    {
     "data": {
      "text/plain": [
       "8     400\n",
       "16    263\n",
       "4      38\n",
       "32     19\n",
       "Name: RAM, dtype: int64"
      ]
     },
     "execution_count": 82,
     "metadata": {},
     "output_type": "execute_result"
    }
   ],
   "source": [
    "df['RAM'].value_counts()"
   ]
  },
  {
   "cell_type": "code",
   "execution_count": 83,
   "id": "63612253",
   "metadata": {},
   "outputs": [
    {
     "data": {
      "text/plain": [
       "array([ 8, 16,  4, 32])"
      ]
     },
     "execution_count": 83,
     "metadata": {},
     "output_type": "execute_result"
    }
   ],
   "source": [
    "df['RAM'].unique()"
   ]
  },
  {
   "cell_type": "code",
   "execution_count": 84,
   "id": "cb54f42a",
   "metadata": {},
   "outputs": [
    {
     "data": {
      "text/html": [
       "<div>\n",
       "<style scoped>\n",
       "    .dataframe tbody tr th:only-of-type {\n",
       "        vertical-align: middle;\n",
       "    }\n",
       "\n",
       "    .dataframe tbody tr th {\n",
       "        vertical-align: top;\n",
       "    }\n",
       "\n",
       "    .dataframe thead th {\n",
       "        text-align: right;\n",
       "    }\n",
       "</style>\n",
       "<table border=\"1\" class=\"dataframe\">\n",
       "  <thead>\n",
       "    <tr style=\"text-align: right;\">\n",
       "      <th></th>\n",
       "      <th>Product</th>\n",
       "      <th>Rating</th>\n",
       "      <th>MRP</th>\n",
       "      <th>Feature</th>\n",
       "      <th>Brand Name</th>\n",
       "      <th>OS</th>\n",
       "      <th>Ram Type</th>\n",
       "      <th>RAM</th>\n",
       "    </tr>\n",
       "  </thead>\n",
       "  <tbody>\n",
       "    <tr>\n",
       "      <th>0</th>\n",
       "      <td>Lenovo IdeaPad 3 Core i3 11th Gen - (8 GB/256 ...</td>\n",
       "      <td>4.2</td>\n",
       "      <td>10.518430</td>\n",
       "      <td>Intel Core i3 Processor (11th Gen)8 GB DDR4 RA...</td>\n",
       "      <td>Lenovo</td>\n",
       "      <td>Windows</td>\n",
       "      <td>DDR4</td>\n",
       "      <td>8</td>\n",
       "    </tr>\n",
       "    <tr>\n",
       "      <th>1</th>\n",
       "      <td>Lenovo IdeaPad 3 Core i3 11th Gen - (8 GB/512 ...</td>\n",
       "      <td>4.2</td>\n",
       "      <td>10.596410</td>\n",
       "      <td>Intel Core i3 Processor (11th Gen)8 GB DDR4 RA...</td>\n",
       "      <td>Lenovo</td>\n",
       "      <td>Windows</td>\n",
       "      <td>DDR4</td>\n",
       "      <td>8</td>\n",
       "    </tr>\n",
       "    <tr>\n",
       "      <th>2</th>\n",
       "      <td>ASUS VivoBook 15 (2022) Core i3 10th Gen - (8 ...</td>\n",
       "      <td>4.3</td>\n",
       "      <td>10.403990</td>\n",
       "      <td>Intel Core i3 Processor (10th Gen)8 GB DDR4 RA...</td>\n",
       "      <td>ASUS</td>\n",
       "      <td>Windows</td>\n",
       "      <td>DDR4</td>\n",
       "      <td>8</td>\n",
       "    </tr>\n",
       "    <tr>\n",
       "      <th>3</th>\n",
       "      <td>HP Pavilion Ryzen 5 Hexa Core AMD R5-5600H - (...</td>\n",
       "      <td>4.4</td>\n",
       "      <td>10.819598</td>\n",
       "      <td>AMD Ryzen 5 Hexa Core Processor8 GB DDR4 RAM64...</td>\n",
       "      <td>HP</td>\n",
       "      <td>Windows</td>\n",
       "      <td>DDR4</td>\n",
       "      <td>8</td>\n",
       "    </tr>\n",
       "    <tr>\n",
       "      <th>4</th>\n",
       "      <td>ASUS TUF Gaming F15 Core i5 10th Gen - (8 GB/5...</td>\n",
       "      <td>4.4</td>\n",
       "      <td>10.819598</td>\n",
       "      <td>Intel Core i5 Processor (10th Gen)8 GB DDR4 RA...</td>\n",
       "      <td>ASUS</td>\n",
       "      <td>Windows</td>\n",
       "      <td>DDR4</td>\n",
       "      <td>8</td>\n",
       "    </tr>\n",
       "  </tbody>\n",
       "</table>\n",
       "</div>"
      ],
      "text/plain": [
       "                                             Product  Rating        MRP  \\\n",
       "0  Lenovo IdeaPad 3 Core i3 11th Gen - (8 GB/256 ...     4.2  10.518430   \n",
       "1  Lenovo IdeaPad 3 Core i3 11th Gen - (8 GB/512 ...     4.2  10.596410   \n",
       "2  ASUS VivoBook 15 (2022) Core i3 10th Gen - (8 ...     4.3  10.403990   \n",
       "3  HP Pavilion Ryzen 5 Hexa Core AMD R5-5600H - (...     4.4  10.819598   \n",
       "4  ASUS TUF Gaming F15 Core i5 10th Gen - (8 GB/5...     4.4  10.819598   \n",
       "\n",
       "                                             Feature Brand Name       OS  \\\n",
       "0  Intel Core i3 Processor (11th Gen)8 GB DDR4 RA...     Lenovo  Windows   \n",
       "1  Intel Core i3 Processor (11th Gen)8 GB DDR4 RA...     Lenovo  Windows   \n",
       "2  Intel Core i3 Processor (10th Gen)8 GB DDR4 RA...       ASUS  Windows   \n",
       "3  AMD Ryzen 5 Hexa Core Processor8 GB DDR4 RAM64...         HP  Windows   \n",
       "4  Intel Core i5 Processor (10th Gen)8 GB DDR4 RA...       ASUS  Windows   \n",
       "\n",
       "  Ram Type  RAM  \n",
       "0     DDR4    8  \n",
       "1     DDR4    8  \n",
       "2     DDR4    8  \n",
       "3     DDR4    8  \n",
       "4     DDR4    8  "
      ]
     },
     "execution_count": 84,
     "metadata": {},
     "output_type": "execute_result"
    }
   ],
   "source": [
    "df.head()"
   ]
  },
  {
   "cell_type": "markdown",
   "id": "1e457be0",
   "metadata": {},
   "source": [
    "**Findings**\n",
    "\n",
    "- 8 GB RAM Laptops are more in compare to others. \n",
    "- Two laptops RAM size is 128 GB. It will affect the ML Model so I decided so merge into 32 GB RAM size."
   ]
  },
  {
   "cell_type": "markdown",
   "id": "5c0f5f7f",
   "metadata": {},
   "source": [
    "**Disk Type**\n",
    "\n",
    "Disk type refers to the physical storage device used in a laptop or other computing device to store data, programs, and other digital content. There are two main types of disk storage: hard disk drives (HDD) and solid-state drives (SSD).\n",
    "\n",
    "HDDs are the traditional type of disk storage, and they consist of spinning disks that store data on magnetic surfaces. HDDs are generally cheaper and offer larger storage capacities than SSDs, but they are also slower and more prone to failure due to their mechanical components.\n",
    "\n",
    "SSDs are a newer type of disk storage that uses flash memory to store data. SSDs are faster and more reliable than HDDs, and they consume less power, which can result in longer battery life for laptops. However, SSDs are generally more expensive than HDDs, and they offer smaller storage capacities.\n",
    "\n",
    "In recent years, hybrid drives have also become available, which combine the large storage capacity of an HDD with the speed and reliability of an SSD. Hybrid drives use a smaller amount of solid-state memory as a cache to speed up frequently accessed data, while storing less frequently accessed data on the traditional spinning disk.\n",
    "\n",
    "When choosing a laptop, the type of disk storage is an important factor to consider, as it can affect the speed, performance, and cost of the laptop. If the user needs large amounts of storage at a lower cost, an HDD may be a better choice, while if speed and reliability are more important, an SSD may be a better choice."
   ]
  },
  {
   "cell_type": "code",
   "execution_count": 85,
   "id": "f03caf9e",
   "metadata": {},
   "outputs": [
    {
     "data": {
      "text/plain": [
       "SSD    672\n",
       "HDD     48\n",
       "Name: Disk Type, dtype: int64"
      ]
     },
     "execution_count": 85,
     "metadata": {},
     "output_type": "execute_result"
    }
   ],
   "source": [
    "df['Disk Type'] = df['Product'].apply(lambda x:'HDD' if 'HDD' in x else 'SSD' )\n",
    "df['Disk Type'].value_counts()"
   ]
  },
  {
   "cell_type": "code",
   "execution_count": 86,
   "id": "b4324169",
   "metadata": {},
   "outputs": [
    {
     "data": {
      "text/plain": [
       "array(['SSD', 'HDD'], dtype=object)"
      ]
     },
     "execution_count": 86,
     "metadata": {},
     "output_type": "execute_result"
    }
   ],
   "source": [
    "df['Disk Type'].unique()"
   ]
  },
  {
   "cell_type": "code",
   "execution_count": 87,
   "id": "661eddb3",
   "metadata": {},
   "outputs": [
    {
     "data": {
      "text/html": [
       "<div>\n",
       "<style scoped>\n",
       "    .dataframe tbody tr th:only-of-type {\n",
       "        vertical-align: middle;\n",
       "    }\n",
       "\n",
       "    .dataframe tbody tr th {\n",
       "        vertical-align: top;\n",
       "    }\n",
       "\n",
       "    .dataframe thead th {\n",
       "        text-align: right;\n",
       "    }\n",
       "</style>\n",
       "<table border=\"1\" class=\"dataframe\">\n",
       "  <thead>\n",
       "    <tr style=\"text-align: right;\">\n",
       "      <th></th>\n",
       "      <th>Product</th>\n",
       "      <th>Rating</th>\n",
       "      <th>MRP</th>\n",
       "      <th>Feature</th>\n",
       "      <th>Brand Name</th>\n",
       "      <th>OS</th>\n",
       "      <th>Ram Type</th>\n",
       "      <th>RAM</th>\n",
       "      <th>Disk Type</th>\n",
       "    </tr>\n",
       "  </thead>\n",
       "  <tbody>\n",
       "    <tr>\n",
       "      <th>0</th>\n",
       "      <td>Lenovo IdeaPad 3 Core i3 11th Gen - (8 GB/256 ...</td>\n",
       "      <td>4.2</td>\n",
       "      <td>10.518430</td>\n",
       "      <td>Intel Core i3 Processor (11th Gen)8 GB DDR4 RA...</td>\n",
       "      <td>Lenovo</td>\n",
       "      <td>Windows</td>\n",
       "      <td>DDR4</td>\n",
       "      <td>8</td>\n",
       "      <td>SSD</td>\n",
       "    </tr>\n",
       "    <tr>\n",
       "      <th>1</th>\n",
       "      <td>Lenovo IdeaPad 3 Core i3 11th Gen - (8 GB/512 ...</td>\n",
       "      <td>4.2</td>\n",
       "      <td>10.596410</td>\n",
       "      <td>Intel Core i3 Processor (11th Gen)8 GB DDR4 RA...</td>\n",
       "      <td>Lenovo</td>\n",
       "      <td>Windows</td>\n",
       "      <td>DDR4</td>\n",
       "      <td>8</td>\n",
       "      <td>SSD</td>\n",
       "    </tr>\n",
       "    <tr>\n",
       "      <th>2</th>\n",
       "      <td>ASUS VivoBook 15 (2022) Core i3 10th Gen - (8 ...</td>\n",
       "      <td>4.3</td>\n",
       "      <td>10.403990</td>\n",
       "      <td>Intel Core i3 Processor (10th Gen)8 GB DDR4 RA...</td>\n",
       "      <td>ASUS</td>\n",
       "      <td>Windows</td>\n",
       "      <td>DDR4</td>\n",
       "      <td>8</td>\n",
       "      <td>SSD</td>\n",
       "    </tr>\n",
       "    <tr>\n",
       "      <th>3</th>\n",
       "      <td>HP Pavilion Ryzen 5 Hexa Core AMD R5-5600H - (...</td>\n",
       "      <td>4.4</td>\n",
       "      <td>10.819598</td>\n",
       "      <td>AMD Ryzen 5 Hexa Core Processor8 GB DDR4 RAM64...</td>\n",
       "      <td>HP</td>\n",
       "      <td>Windows</td>\n",
       "      <td>DDR4</td>\n",
       "      <td>8</td>\n",
       "      <td>SSD</td>\n",
       "    </tr>\n",
       "    <tr>\n",
       "      <th>4</th>\n",
       "      <td>ASUS TUF Gaming F15 Core i5 10th Gen - (8 GB/5...</td>\n",
       "      <td>4.4</td>\n",
       "      <td>10.819598</td>\n",
       "      <td>Intel Core i5 Processor (10th Gen)8 GB DDR4 RA...</td>\n",
       "      <td>ASUS</td>\n",
       "      <td>Windows</td>\n",
       "      <td>DDR4</td>\n",
       "      <td>8</td>\n",
       "      <td>SSD</td>\n",
       "    </tr>\n",
       "  </tbody>\n",
       "</table>\n",
       "</div>"
      ],
      "text/plain": [
       "                                             Product  Rating        MRP  \\\n",
       "0  Lenovo IdeaPad 3 Core i3 11th Gen - (8 GB/256 ...     4.2  10.518430   \n",
       "1  Lenovo IdeaPad 3 Core i3 11th Gen - (8 GB/512 ...     4.2  10.596410   \n",
       "2  ASUS VivoBook 15 (2022) Core i3 10th Gen - (8 ...     4.3  10.403990   \n",
       "3  HP Pavilion Ryzen 5 Hexa Core AMD R5-5600H - (...     4.4  10.819598   \n",
       "4  ASUS TUF Gaming F15 Core i5 10th Gen - (8 GB/5...     4.4  10.819598   \n",
       "\n",
       "                                             Feature Brand Name       OS  \\\n",
       "0  Intel Core i3 Processor (11th Gen)8 GB DDR4 RA...     Lenovo  Windows   \n",
       "1  Intel Core i3 Processor (11th Gen)8 GB DDR4 RA...     Lenovo  Windows   \n",
       "2  Intel Core i3 Processor (10th Gen)8 GB DDR4 RA...       ASUS  Windows   \n",
       "3  AMD Ryzen 5 Hexa Core Processor8 GB DDR4 RAM64...         HP  Windows   \n",
       "4  Intel Core i5 Processor (10th Gen)8 GB DDR4 RA...       ASUS  Windows   \n",
       "\n",
       "  Ram Type  RAM Disk Type  \n",
       "0     DDR4    8       SSD  \n",
       "1     DDR4    8       SSD  \n",
       "2     DDR4    8       SSD  \n",
       "3     DDR4    8       SSD  \n",
       "4     DDR4    8       SSD  "
      ]
     },
     "execution_count": 87,
     "metadata": {},
     "output_type": "execute_result"
    }
   ],
   "source": [
    "df.head()"
   ]
  },
  {
   "cell_type": "markdown",
   "id": "767e9af3",
   "metadata": {},
   "source": [
    "**Disk Size**\n",
    "\n",
    "Disk size refers to the amount of storage space available on a laptop's hard drive or solid-state drive (SSD). The disk size is typically measured in gigabytes (GB) or terabytes (TB).\n",
    "\n",
    "The disk size is an important consideration when choosing a laptop, as it determines how much data the laptop can store. The amount of storage required will depend on the user's needs, such as whether they will be storing large files, such as photos or videos, or mainly using cloud storage.\n",
    "\n",
    "Laptop disk sizes can vary widely, with smaller laptops typically offering 128GB or 256GB of storage, while larger laptops may offer 1TB or more. In recent years, it has become increasingly common for laptops to offer both a solid-state drive (SSD) and a traditional hard drive (HDD), with the SSD used for the operating system and frequently accessed files, while the HDD is used for storing larger files.\n",
    "\n",
    "It is important to consider the amount of storage required when choosing a laptop, as it can affect the performance and usability of the device. A laptop with insufficient storage space may become slow and sluggish, while a laptop with too much storage space may be more expensive than necessary."
   ]
  },
  {
   "cell_type": "code",
   "execution_count": 88,
   "id": "81a26b1d",
   "metadata": {},
   "outputs": [
    {
     "data": {
      "text/plain": [
       "0                             /256 \n",
       "1                             /512 \n",
       "2                             /512 \n",
       "3                             /512 \n",
       "4                             /512 \n",
       "                   ...             \n",
       "715                            /64 \n",
       "716                           /512 \n",
       "717    /1 TB SSD/Windows 11 Home/8 \n",
       "718                           /512 \n",
       "719                  /1 TB HDD/256 \n",
       "Name: 1, Length: 720, dtype: object"
      ]
     },
     "execution_count": 88,
     "metadata": {},
     "output_type": "execute_result"
    }
   ],
   "source": [
    "temp1[1]"
   ]
  },
  {
   "cell_type": "code",
   "execution_count": 89,
   "id": "b46bdec9",
   "metadata": {},
   "outputs": [
    {
     "data": {
      "text/plain": [
       "0                             /256 \n",
       "1                             /512 \n",
       "2                             /512 \n",
       "3                             /512 \n",
       "4                             /512 \n",
       "                   ...             \n",
       "715                            /64 \n",
       "716                           /512 \n",
       "717    /1 TB SSD/Windows 11 Home/8 \n",
       "718                           /512 \n",
       "719                  /1 TB HDD/256 \n",
       "Name: 1, Length: 720, dtype: object"
      ]
     },
     "execution_count": 89,
     "metadata": {},
     "output_type": "execute_result"
    }
   ],
   "source": [
    "DISKSIZE =  temp1[1]\n",
    "DISKSIZE"
   ]
  },
  {
   "cell_type": "code",
   "execution_count": 90,
   "id": "df39254a",
   "metadata": {},
   "outputs": [
    {
     "data": {
      "text/plain": [
       "/512                                                                375\n",
       "/256                                                                 99\n",
       "/1 TB SSD/Windows 11 Home/4                                          38\n",
       "/1 TB SSD/Windows 11 Hom...                                          31\n",
       "/1 TB SSD/Windows 11 Home/8                                          27\n",
       "/1 TB HDD/256                                                        26\n",
       "/1 TB SSD/Win...                                                     25\n",
       "/1 TB SSD/Windows 11 Home/6                                          11\n",
       "/128                                                                  8\n",
       "/64                                                                   7\n",
       "/1 TB SSD/Windows 10 Home/4                                           6\n",
       "/1 TB SSD/Windows 11 ...                                              6\n",
       "/1 TB SSD/Windows 10 Home/6                                           5\n",
       "/1 TB SSD/Windows 10 Home/8                                           4\n",
       "/1 TB SSD/Windows 10 Home...                                          3\n",
       "/1 TB HDD/128                                                         2\n",
       "/1 TB HDD/512                                                         2\n",
       "/1 TB SSD/Windows 11 Home/16                                          2\n",
       "/2 TB SSD/Windows 1...                                                2\n",
       "/1 TB SSD/Windows ...                                                 2\n",
       "/1 TB HDD/Windows 10 Home) X515JA-EJ322TS Thin and Light Lapt...      2\n",
       "/1 TB SSD/Windows 11 Home...                                          2\n",
       "/1 TB HDD/Windows 10 Home) X515JA-EJ501T Thin and Light Lapto...      2\n",
       "/1 TB HDD/Windows 10 Pro) ExpertBook P1 P1440FA Thin and Li...        2\n",
       "/2 TB SSD/Windows 11 Home/16 ...                                      1\n",
       "/1 TB SSD/Windows 11 Home/4 ...                                       1\n",
       "/2 TB SSD/Windows 11 Home/8                                           1\n",
       "/2 TB SSD/Windows 11 Home/16                                          1\n",
       "/2 TB SSD/Windows ...                                                 1\n",
       "/1 TB HDD/Windows 11 Home) 245 G8 Laptop                              1\n",
       "/1 TB HDD/Windows 10 Home) 15ADA05 Laptop                             1\n",
       "/1 TB SSD/Windows 11 Home) UM5302TA-LX701WS Thi...                    1\n",
       "/1 TB HDD/Windows 10 Home) V15-IIL Laptop                             1\n",
       "/1 TB HDD/Windows 11 Home) 15IML05 Thin and Light Laptop              1\n",
       "/1 TB HDD/Windows 10 Home) X415FA-BV311T Laptop                       1\n",
       "/1 TB HDD/Windows 10 Home/4                                           1\n",
       "/1 TB SSD/Windows 11 Home/6 G...                                      1\n",
       "/1 TB HDD/Windows 10 Pro/2                                            1\n",
       "/1 TB HDD/Windows 10 Home) X515JA-BR381T Thin and Light Lapto...      1\n",
       "/1 TB SSD/Windows 10 Home) U...                                       1\n",
       "/1 TB SSD/Windows 11 Home/...                                         1\n",
       "/1 TB HDD/Windows 11 Home) Vostro 3405 Thin and Light La...           1\n",
       "/1 TB SSD/Mac OS Monterey) MK193HN/A                                  1\n",
       "/1 TB SSD/Mac OS Monterey) MK1A3HN/A                                  1\n",
       "/1 TB SSD/Mac OS Monterey) MKGQ3HN/A                                  1\n",
       "/1 TB SSD/Windows 10/6                                                1\n",
       "/1 TB SSD/Windows 11 Home/AMD Radeon AMD) GV301RA-L...                1\n",
       "/1 TB SSD/Windows 10 Home) Yoga Slim 7 14ITL05b ...                   1\n",
       "/1 TB HDD/Windows 10) Inspiron 3505 Notebook                          1\n",
       "/1 TB SSD/Mac OS Monterey) MK1F3HN/A                                  1\n",
       "/32                                                                   1\n",
       "/1 TB SSD/Mac OS Big Sur) Z11B0008S                                   1\n",
       "/1 TB SSD/Windows 11 Home/AMD Radeon RX 6600M) 16-C0140...            1\n",
       "/1 TB HDD/Windows 10 Home) A515-56 Thin and Light Laptop              1\n",
       "/2 TB SSD/Windows 10 Pro) ExpertBook B9 B9450FA Thin and L...         1\n",
       "Name: 1, dtype: int64"
      ]
     },
     "execution_count": 90,
     "metadata": {},
     "output_type": "execute_result"
    }
   ],
   "source": [
    "DISKSIZE.value_counts()"
   ]
  },
  {
   "cell_type": "code",
   "execution_count": 91,
   "id": "b3a4aec4",
   "metadata": {},
   "outputs": [],
   "source": [
    "DISKSIZE = DISKSIZE.str.replace('/','')"
   ]
  },
  {
   "cell_type": "code",
   "execution_count": 92,
   "id": "b344f9e4",
   "metadata": {},
   "outputs": [
    {
     "data": {
      "text/plain": [
       "512                                                               375\n",
       "256                                                                99\n",
       "1 TB SSDWindows 11 Home4                                           38\n",
       "1 TB SSDWindows 11 Hom...                                          31\n",
       "1 TB SSDWindows 11 Home8                                           27\n",
       "1 TB HDD256                                                        26\n",
       "1 TB SSDWin...                                                     25\n",
       "1 TB SSDWindows 11 Home6                                           11\n",
       "128                                                                 8\n",
       "64                                                                  7\n",
       "1 TB SSDWindows 10 Home4                                            6\n",
       "1 TB SSDWindows 11 ...                                              6\n",
       "1 TB SSDWindows 10 Home6                                            5\n",
       "1 TB SSDWindows 10 Home8                                            4\n",
       "1 TB SSDWindows 11 Home...                                          3\n",
       "1 TB SSDWindows 10 Home...                                          3\n",
       "1 TB HDD128                                                         2\n",
       "1 TB HDD512                                                         2\n",
       "1 TB SSDWindows 11 Home16                                           2\n",
       "2 TB SSDWindows 1...                                                2\n",
       "1 TB SSDWindows ...                                                 2\n",
       "1 TB HDDWindows 10 Home) X515JA-EJ322TS Thin and Light Lapt...      2\n",
       "1 TB HDDWindows 10 Home) X515JA-EJ501T Thin and Light Lapto...      2\n",
       "1 TB HDDWindows 10 Pro) ExpertBook P1 P1440FA Thin and Li...        2\n",
       "2 TB SSDWindows 11 Home16 ...                                       1\n",
       "2 TB SSDWindows 11 Home8                                            1\n",
       "1 TB SSDWindows 11 Home4 ...                                        1\n",
       "2 TB SSDWindows 11 Home16                                           1\n",
       "1 TB HDDWindows 11 Home) 245 G8 Laptop                              1\n",
       "2 TB SSDWindows ...                                                 1\n",
       "1 TB HDDWindows 10 Home) 15ADA05 Laptop                             1\n",
       "1 TB SSDWindows 11 Home) UM5302TA-LX701WS Thi...                    1\n",
       "1 TB HDDWindows 10 Home) V15-IIL Laptop                             1\n",
       "1 TB HDDWindows 11 Home) 15IML05 Thin and Light Laptop              1\n",
       "1 TB HDDWindows 10 Home) X415FA-BV311T Laptop                       1\n",
       "1 TB HDDWindows 10 Home4                                            1\n",
       "1 TB SSDWindows 11 Home6 G...                                       1\n",
       "1 TB HDDWindows 10 Pro2                                             1\n",
       "1 TB HDDWindows 10 Home) X515JA-BR381T Thin and Light Lapto...      1\n",
       "1 TB SSDWindows 10 Home) Yoga Slim 7 14ITL05b ...                   1\n",
       "1 TB HDDWindows 10 Home) A515-56 Thin and Light Laptop              1\n",
       "1 TB SSDWindows 11 HomeAMD Radeon RX 6600M) 16-C0140...             1\n",
       "1 TB SSDMac OS Big Sur) Z11B0008S                                   1\n",
       "32                                                                  1\n",
       "1 TB SSDMac OS Monterey) MK1F3HNA                                   1\n",
       "1 TB HDDWindows 10) Inspiron 3505 Notebook                          1\n",
       "1 TB SSDWindows 11 HomeAMD Radeon AMD) GV301RA-L...                 1\n",
       "1 TB SSDWindows 10 Home) U...                                       1\n",
       "1 TB SSDWindows 106                                                 1\n",
       "1 TB SSDMac OS Monterey) MKGQ3HNA                                   1\n",
       "1 TB SSDMac OS Monterey) MK1A3HNA                                   1\n",
       "1 TB SSDMac OS Monterey) MK193HNA                                   1\n",
       "1 TB HDDWindows 11 Home) Vostro 3405 Thin and Light La...           1\n",
       "2 TB SSDWindows 10 Pro) ExpertBook B9 B9450FA Thin and L...         1\n",
       "Name: 1, dtype: int64"
      ]
     },
     "execution_count": 92,
     "metadata": {},
     "output_type": "execute_result"
    }
   ],
   "source": [
    "DISKSIZE.value_counts()"
   ]
  },
  {
   "cell_type": "code",
   "execution_count": 93,
   "id": "52f23efa",
   "metadata": {},
   "outputs": [
    {
     "data": {
      "text/plain": [
       "0      256\n",
       "1      512\n",
       "2      512\n",
       "3      512\n",
       "4      512\n",
       "      ... \n",
       "715     64\n",
       "716    512\n",
       "717      1\n",
       "718    512\n",
       "719      1\n",
       "Name: 1, Length: 720, dtype: int32"
      ]
     },
     "execution_count": 93,
     "metadata": {},
     "output_type": "execute_result"
    }
   ],
   "source": [
    "DISKSIZE = DISKSIZE.str.split().str[0]\n",
    "DISKSIZE = DISKSIZE.astype('int')\n",
    "DISKSIZE"
   ]
  },
  {
   "cell_type": "code",
   "execution_count": 94,
   "id": "78ea2f27",
   "metadata": {},
   "outputs": [
    {
     "data": {
      "text/plain": [
       "512    375\n",
       "1      223\n",
       "256     99\n",
       "128      8\n",
       "64       7\n",
       "2        7\n",
       "32       1\n",
       "Name: 1, dtype: int64"
      ]
     },
     "execution_count": 94,
     "metadata": {},
     "output_type": "execute_result"
    }
   ],
   "source": [
    "DISKSIZE.value_counts()"
   ]
  },
  {
   "cell_type": "code",
   "execution_count": 95,
   "id": "b83aec9a",
   "metadata": {},
   "outputs": [],
   "source": [
    "df['DISK SIZE'] = DISKSIZE"
   ]
  },
  {
   "cell_type": "code",
   "execution_count": 96,
   "id": "89236a36",
   "metadata": {},
   "outputs": [],
   "source": [
    "df['DISK SIZE'] = df['DISK SIZE'].replace(1,1024)\n",
    "df['DISK SIZE'] = df['DISK SIZE'].replace(2,2048)"
   ]
  },
  {
   "cell_type": "code",
   "execution_count": 97,
   "id": "e2c86257",
   "metadata": {},
   "outputs": [
    {
     "data": {
      "text/plain": [
       "512     375\n",
       "1024    223\n",
       "256      99\n",
       "128       8\n",
       "64        7\n",
       "2048      7\n",
       "32        1\n",
       "Name: DISK SIZE, dtype: int64"
      ]
     },
     "execution_count": 97,
     "metadata": {},
     "output_type": "execute_result"
    }
   ],
   "source": [
    "df['DISK SIZE'].value_counts()"
   ]
  },
  {
   "cell_type": "code",
   "execution_count": 98,
   "id": "e3f08850",
   "metadata": {},
   "outputs": [
    {
     "data": {
      "text/plain": [
       "512     375\n",
       "1024    230\n",
       "256      99\n",
       "128      16\n",
       "Name: DISK SIZE, dtype: int64"
      ]
     },
     "execution_count": 98,
     "metadata": {},
     "output_type": "execute_result"
    }
   ],
   "source": [
    "df['DISK SIZE'] = df['DISK SIZE'].replace(32,128)\n",
    "df['DISK SIZE'] = df['DISK SIZE'].replace(64,128)\n",
    "df['DISK SIZE'] = df['DISK SIZE'].replace(2048,1024)\n",
    "df['DISK SIZE'].value_counts()"
   ]
  },
  {
   "cell_type": "code",
   "execution_count": 99,
   "id": "b9dc1880",
   "metadata": {},
   "outputs": [
    {
     "name": "stdout",
     "output_type": "stream",
     "text": [
      "<class 'pandas.core.frame.DataFrame'>\n",
      "RangeIndex: 720 entries, 0 to 719\n",
      "Data columns (total 10 columns):\n",
      " #   Column      Non-Null Count  Dtype  \n",
      "---  ------      --------------  -----  \n",
      " 0   Product     720 non-null    object \n",
      " 1   Rating      581 non-null    float64\n",
      " 2   MRP         720 non-null    float32\n",
      " 3   Feature     720 non-null    object \n",
      " 4   Brand Name  720 non-null    object \n",
      " 5   OS          720 non-null    object \n",
      " 6   Ram Type    720 non-null    object \n",
      " 7   RAM         720 non-null    int32  \n",
      " 8   Disk Type   720 non-null    object \n",
      " 9   DISK SIZE   720 non-null    int32  \n",
      "dtypes: float32(1), float64(1), int32(2), object(6)\n",
      "memory usage: 47.9+ KB\n"
     ]
    }
   ],
   "source": [
    "df.info()"
   ]
  },
  {
   "cell_type": "code",
   "execution_count": 100,
   "id": "155daac7",
   "metadata": {},
   "outputs": [
    {
     "data": {
      "text/plain": [
       "array([ 256,  512, 1024,  128])"
      ]
     },
     "execution_count": 100,
     "metadata": {},
     "output_type": "execute_result"
    }
   ],
   "source": [
    "df['DISK SIZE'].unique()"
   ]
  },
  {
   "cell_type": "code",
   "execution_count": 101,
   "id": "89aadd12",
   "metadata": {},
   "outputs": [
    {
     "data": {
      "text/html": [
       "<div>\n",
       "<style scoped>\n",
       "    .dataframe tbody tr th:only-of-type {\n",
       "        vertical-align: middle;\n",
       "    }\n",
       "\n",
       "    .dataframe tbody tr th {\n",
       "        vertical-align: top;\n",
       "    }\n",
       "\n",
       "    .dataframe thead th {\n",
       "        text-align: right;\n",
       "    }\n",
       "</style>\n",
       "<table border=\"1\" class=\"dataframe\">\n",
       "  <thead>\n",
       "    <tr style=\"text-align: right;\">\n",
       "      <th></th>\n",
       "      <th>Product</th>\n",
       "      <th>Rating</th>\n",
       "      <th>MRP</th>\n",
       "      <th>Feature</th>\n",
       "      <th>Brand Name</th>\n",
       "      <th>OS</th>\n",
       "      <th>Ram Type</th>\n",
       "      <th>RAM</th>\n",
       "      <th>Disk Type</th>\n",
       "      <th>DISK SIZE</th>\n",
       "    </tr>\n",
       "  </thead>\n",
       "  <tbody>\n",
       "    <tr>\n",
       "      <th>0</th>\n",
       "      <td>Lenovo IdeaPad 3 Core i3 11th Gen - (8 GB/256 ...</td>\n",
       "      <td>4.2</td>\n",
       "      <td>10.518430</td>\n",
       "      <td>Intel Core i3 Processor (11th Gen)8 GB DDR4 RA...</td>\n",
       "      <td>Lenovo</td>\n",
       "      <td>Windows</td>\n",
       "      <td>DDR4</td>\n",
       "      <td>8</td>\n",
       "      <td>SSD</td>\n",
       "      <td>256</td>\n",
       "    </tr>\n",
       "    <tr>\n",
       "      <th>1</th>\n",
       "      <td>Lenovo IdeaPad 3 Core i3 11th Gen - (8 GB/512 ...</td>\n",
       "      <td>4.2</td>\n",
       "      <td>10.596410</td>\n",
       "      <td>Intel Core i3 Processor (11th Gen)8 GB DDR4 RA...</td>\n",
       "      <td>Lenovo</td>\n",
       "      <td>Windows</td>\n",
       "      <td>DDR4</td>\n",
       "      <td>8</td>\n",
       "      <td>SSD</td>\n",
       "      <td>512</td>\n",
       "    </tr>\n",
       "    <tr>\n",
       "      <th>2</th>\n",
       "      <td>ASUS VivoBook 15 (2022) Core i3 10th Gen - (8 ...</td>\n",
       "      <td>4.3</td>\n",
       "      <td>10.403990</td>\n",
       "      <td>Intel Core i3 Processor (10th Gen)8 GB DDR4 RA...</td>\n",
       "      <td>ASUS</td>\n",
       "      <td>Windows</td>\n",
       "      <td>DDR4</td>\n",
       "      <td>8</td>\n",
       "      <td>SSD</td>\n",
       "      <td>512</td>\n",
       "    </tr>\n",
       "    <tr>\n",
       "      <th>3</th>\n",
       "      <td>HP Pavilion Ryzen 5 Hexa Core AMD R5-5600H - (...</td>\n",
       "      <td>4.4</td>\n",
       "      <td>10.819598</td>\n",
       "      <td>AMD Ryzen 5 Hexa Core Processor8 GB DDR4 RAM64...</td>\n",
       "      <td>HP</td>\n",
       "      <td>Windows</td>\n",
       "      <td>DDR4</td>\n",
       "      <td>8</td>\n",
       "      <td>SSD</td>\n",
       "      <td>512</td>\n",
       "    </tr>\n",
       "    <tr>\n",
       "      <th>4</th>\n",
       "      <td>ASUS TUF Gaming F15 Core i5 10th Gen - (8 GB/5...</td>\n",
       "      <td>4.4</td>\n",
       "      <td>10.819598</td>\n",
       "      <td>Intel Core i5 Processor (10th Gen)8 GB DDR4 RA...</td>\n",
       "      <td>ASUS</td>\n",
       "      <td>Windows</td>\n",
       "      <td>DDR4</td>\n",
       "      <td>8</td>\n",
       "      <td>SSD</td>\n",
       "      <td>512</td>\n",
       "    </tr>\n",
       "  </tbody>\n",
       "</table>\n",
       "</div>"
      ],
      "text/plain": [
       "                                             Product  Rating        MRP  \\\n",
       "0  Lenovo IdeaPad 3 Core i3 11th Gen - (8 GB/256 ...     4.2  10.518430   \n",
       "1  Lenovo IdeaPad 3 Core i3 11th Gen - (8 GB/512 ...     4.2  10.596410   \n",
       "2  ASUS VivoBook 15 (2022) Core i3 10th Gen - (8 ...     4.3  10.403990   \n",
       "3  HP Pavilion Ryzen 5 Hexa Core AMD R5-5600H - (...     4.4  10.819598   \n",
       "4  ASUS TUF Gaming F15 Core i5 10th Gen - (8 GB/5...     4.4  10.819598   \n",
       "\n",
       "                                             Feature Brand Name       OS  \\\n",
       "0  Intel Core i3 Processor (11th Gen)8 GB DDR4 RA...     Lenovo  Windows   \n",
       "1  Intel Core i3 Processor (11th Gen)8 GB DDR4 RA...     Lenovo  Windows   \n",
       "2  Intel Core i3 Processor (10th Gen)8 GB DDR4 RA...       ASUS  Windows   \n",
       "3  AMD Ryzen 5 Hexa Core Processor8 GB DDR4 RAM64...         HP  Windows   \n",
       "4  Intel Core i5 Processor (10th Gen)8 GB DDR4 RA...       ASUS  Windows   \n",
       "\n",
       "  Ram Type  RAM Disk Type  DISK SIZE  \n",
       "0     DDR4    8       SSD        256  \n",
       "1     DDR4    8       SSD        512  \n",
       "2     DDR4    8       SSD        512  \n",
       "3     DDR4    8       SSD        512  \n",
       "4     DDR4    8       SSD        512  "
      ]
     },
     "execution_count": 101,
     "metadata": {},
     "output_type": "execute_result"
    }
   ],
   "source": [
    "df.head()"
   ]
  },
  {
   "cell_type": "markdown",
   "id": "6868dead",
   "metadata": {},
   "source": [
    "**Findings**\n",
    "\n",
    "- 512 GB Storage Size are more in compare to others.\n",
    "- To prevent Outlier I merge extreme values to thers values."
   ]
  },
  {
   "cell_type": "markdown",
   "id": "3e73c76d",
   "metadata": {},
   "source": [
    "**Processor**\n",
    "\n",
    "A laptop processor is the main component of a computer that carries out instructions and performs calculations necessary for various tasks. The processor is also known as the Central Processing Unit (CPU), and it is responsible for executing programs and running the operating system.\n",
    "\n",
    "There are two major manufacturers of laptop processors, Intel and AMD. Intel's processors are generally considered to be the industry standard and are used in many laptops. AMD's processors are less common but are becoming increasingly popular.\n",
    "\n",
    "Processors are characterized by several key features, including clock speed (measured in GHz), number of cores (which affects multitasking performance), cache size (which affects data transfer speeds), and power consumption. The higher the clock speed and number of cores, the more powerful the processor, but this also tends to result in higher power consumption and heat output.\n",
    "\n",
    "In recent years, laptop processors have become more efficient and powerful, making it possible to perform demanding tasks such as gaming and video editing on a laptop. However, desktop processors still tend to be more powerful due to their larger size and better cooling capabilities."
   ]
  },
  {
   "cell_type": "code",
   "execution_count": 102,
   "id": "10153096",
   "metadata": {},
   "outputs": [
    {
     "data": {
      "text/plain": [
       "Intel Core       355\n",
       "AMD Ryzen        307\n",
       "Intel Celeron     23\n",
       "Intel Pentium      5\n",
       "Intel i3           3\n",
       "AMD Athlon         2\n",
       "Intel Evo          2\n",
       "Intel PQC          1\n",
       "AMD Dual           1\n",
       "Intel i7           1\n",
       "Name: Processor, dtype: int64"
      ]
     },
     "execution_count": 102,
     "metadata": {},
     "output_type": "execute_result"
    }
   ],
   "source": [
    "# Define regular expression pattern for processor name\n",
    "regex_processor = r'(?:Intel|AMD)\\s+[A-Za-z\\d]+'\n",
    "\n",
    "# Function to extract processor name from a string using regex\n",
    "def extract_processor(text):\n",
    "    match = re.search(regex_processor, text, re.IGNORECASE)\n",
    "    if match:\n",
    "        return match.group()\n",
    "    else:\n",
    "        return None\n",
    "\n",
    "# Apply the function to the \"Feature\" column and create a new column with the processor information\n",
    "df['Processor'] = df['Feature'].apply(extract_processor)\n",
    "df['Processor'].value_counts()"
   ]
  },
  {
   "cell_type": "code",
   "execution_count": 103,
   "id": "55844297",
   "metadata": {},
   "outputs": [
    {
     "data": {
      "text/plain": [
       "Intel     390\n",
       "AMD       310\n",
       "Others     20\n",
       "Name: Processor, dtype: int64"
      ]
     },
     "execution_count": 103,
     "metadata": {},
     "output_type": "execute_result"
    }
   ],
   "source": [
    "# Function to extract processor brand information from a string using regex\n",
    "def extract_processor_brand(text):\n",
    "    if re.search(r\"intel\", text, re.IGNORECASE):\n",
    "        return \"Intel\"\n",
    "    elif re.search(r\"amd\", text, re.IGNORECASE):\n",
    "        return \"AMD\"\n",
    "    else:\n",
    "        return \"Others\"\n",
    "\n",
    "# Apply the function to the \"Feature\" column and create a new column with the processor brand information\n",
    "df['Processor'] = df['Feature'].apply(extract_processor_brand)\n",
    "df['Processor'].value_counts()"
   ]
  },
  {
   "cell_type": "code",
   "execution_count": 104,
   "id": "ec3f5417",
   "metadata": {},
   "outputs": [
    {
     "data": {
      "text/plain": [
       "array(['Intel', 'AMD', 'Others'], dtype=object)"
      ]
     },
     "execution_count": 104,
     "metadata": {},
     "output_type": "execute_result"
    }
   ],
   "source": [
    "df['Processor'].unique()"
   ]
  },
  {
   "cell_type": "code",
   "execution_count": 105,
   "id": "4b368134",
   "metadata": {},
   "outputs": [
    {
     "data": {
      "text/html": [
       "<div>\n",
       "<style scoped>\n",
       "    .dataframe tbody tr th:only-of-type {\n",
       "        vertical-align: middle;\n",
       "    }\n",
       "\n",
       "    .dataframe tbody tr th {\n",
       "        vertical-align: top;\n",
       "    }\n",
       "\n",
       "    .dataframe thead th {\n",
       "        text-align: right;\n",
       "    }\n",
       "</style>\n",
       "<table border=\"1\" class=\"dataframe\">\n",
       "  <thead>\n",
       "    <tr style=\"text-align: right;\">\n",
       "      <th></th>\n",
       "      <th>Product</th>\n",
       "      <th>Rating</th>\n",
       "      <th>MRP</th>\n",
       "      <th>Feature</th>\n",
       "      <th>Brand Name</th>\n",
       "      <th>OS</th>\n",
       "      <th>Ram Type</th>\n",
       "      <th>RAM</th>\n",
       "      <th>Disk Type</th>\n",
       "      <th>DISK SIZE</th>\n",
       "      <th>Processor</th>\n",
       "    </tr>\n",
       "  </thead>\n",
       "  <tbody>\n",
       "    <tr>\n",
       "      <th>0</th>\n",
       "      <td>Lenovo IdeaPad 3 Core i3 11th Gen - (8 GB/256 ...</td>\n",
       "      <td>4.2</td>\n",
       "      <td>10.518430</td>\n",
       "      <td>Intel Core i3 Processor (11th Gen)8 GB DDR4 RA...</td>\n",
       "      <td>Lenovo</td>\n",
       "      <td>Windows</td>\n",
       "      <td>DDR4</td>\n",
       "      <td>8</td>\n",
       "      <td>SSD</td>\n",
       "      <td>256</td>\n",
       "      <td>Intel</td>\n",
       "    </tr>\n",
       "    <tr>\n",
       "      <th>1</th>\n",
       "      <td>Lenovo IdeaPad 3 Core i3 11th Gen - (8 GB/512 ...</td>\n",
       "      <td>4.2</td>\n",
       "      <td>10.596410</td>\n",
       "      <td>Intel Core i3 Processor (11th Gen)8 GB DDR4 RA...</td>\n",
       "      <td>Lenovo</td>\n",
       "      <td>Windows</td>\n",
       "      <td>DDR4</td>\n",
       "      <td>8</td>\n",
       "      <td>SSD</td>\n",
       "      <td>512</td>\n",
       "      <td>Intel</td>\n",
       "    </tr>\n",
       "    <tr>\n",
       "      <th>2</th>\n",
       "      <td>ASUS VivoBook 15 (2022) Core i3 10th Gen - (8 ...</td>\n",
       "      <td>4.3</td>\n",
       "      <td>10.403990</td>\n",
       "      <td>Intel Core i3 Processor (10th Gen)8 GB DDR4 RA...</td>\n",
       "      <td>ASUS</td>\n",
       "      <td>Windows</td>\n",
       "      <td>DDR4</td>\n",
       "      <td>8</td>\n",
       "      <td>SSD</td>\n",
       "      <td>512</td>\n",
       "      <td>Intel</td>\n",
       "    </tr>\n",
       "    <tr>\n",
       "      <th>3</th>\n",
       "      <td>HP Pavilion Ryzen 5 Hexa Core AMD R5-5600H - (...</td>\n",
       "      <td>4.4</td>\n",
       "      <td>10.819598</td>\n",
       "      <td>AMD Ryzen 5 Hexa Core Processor8 GB DDR4 RAM64...</td>\n",
       "      <td>HP</td>\n",
       "      <td>Windows</td>\n",
       "      <td>DDR4</td>\n",
       "      <td>8</td>\n",
       "      <td>SSD</td>\n",
       "      <td>512</td>\n",
       "      <td>AMD</td>\n",
       "    </tr>\n",
       "    <tr>\n",
       "      <th>4</th>\n",
       "      <td>ASUS TUF Gaming F15 Core i5 10th Gen - (8 GB/5...</td>\n",
       "      <td>4.4</td>\n",
       "      <td>10.819598</td>\n",
       "      <td>Intel Core i5 Processor (10th Gen)8 GB DDR4 RA...</td>\n",
       "      <td>ASUS</td>\n",
       "      <td>Windows</td>\n",
       "      <td>DDR4</td>\n",
       "      <td>8</td>\n",
       "      <td>SSD</td>\n",
       "      <td>512</td>\n",
       "      <td>Intel</td>\n",
       "    </tr>\n",
       "  </tbody>\n",
       "</table>\n",
       "</div>"
      ],
      "text/plain": [
       "                                             Product  Rating        MRP  \\\n",
       "0  Lenovo IdeaPad 3 Core i3 11th Gen - (8 GB/256 ...     4.2  10.518430   \n",
       "1  Lenovo IdeaPad 3 Core i3 11th Gen - (8 GB/512 ...     4.2  10.596410   \n",
       "2  ASUS VivoBook 15 (2022) Core i3 10th Gen - (8 ...     4.3  10.403990   \n",
       "3  HP Pavilion Ryzen 5 Hexa Core AMD R5-5600H - (...     4.4  10.819598   \n",
       "4  ASUS TUF Gaming F15 Core i5 10th Gen - (8 GB/5...     4.4  10.819598   \n",
       "\n",
       "                                             Feature Brand Name       OS  \\\n",
       "0  Intel Core i3 Processor (11th Gen)8 GB DDR4 RA...     Lenovo  Windows   \n",
       "1  Intel Core i3 Processor (11th Gen)8 GB DDR4 RA...     Lenovo  Windows   \n",
       "2  Intel Core i3 Processor (10th Gen)8 GB DDR4 RA...       ASUS  Windows   \n",
       "3  AMD Ryzen 5 Hexa Core Processor8 GB DDR4 RAM64...         HP  Windows   \n",
       "4  Intel Core i5 Processor (10th Gen)8 GB DDR4 RA...       ASUS  Windows   \n",
       "\n",
       "  Ram Type  RAM Disk Type  DISK SIZE Processor  \n",
       "0     DDR4    8       SSD        256     Intel  \n",
       "1     DDR4    8       SSD        512     Intel  \n",
       "2     DDR4    8       SSD        512     Intel  \n",
       "3     DDR4    8       SSD        512       AMD  \n",
       "4     DDR4    8       SSD        512     Intel  "
      ]
     },
     "execution_count": 105,
     "metadata": {},
     "output_type": "execute_result"
    }
   ],
   "source": [
    "df.head()"
   ]
  },
  {
   "cell_type": "markdown",
   "id": "8bec093a",
   "metadata": {},
   "source": [
    "**Findings**\n",
    "\n",
    "- Majorly Two categories of Processor so i decided to categorize then. "
   ]
  },
  {
   "cell_type": "markdown",
   "id": "17e105bf",
   "metadata": {},
   "source": [
    "**Graphical Processing Unit (GPU)**\n",
    "\n",
    "A laptop GPU (Graphics Processing Unit) is a specialized processor that is responsible for rendering graphics and images on a laptop. The GPU is designed to work in conjunction with the CPU to provide the necessary processing power for various visual applications.\n",
    "\n",
    "There are two main manufacturers of laptop GPUs, NVIDIA and AMD. NVIDIA is the industry leader and its GPUs are used in a wide range of laptops, while AMD's GPUs are less common but are becoming more popular.\n",
    "\n",
    "The performance of a laptop GPU is measured in terms of its clock speed, memory size, memory speed, and number of CUDA cores or stream processors. The clock speed is the frequency at which the GPU operates, while the memory size and speed determine the amount and speed of data that can be processed by the GPU. The number of CUDA cores or stream processors determines the number of parallel processing units within the GPU.\n",
    "\n",
    "A powerful laptop GPU is essential for tasks such as gaming, video editing, and 3D modeling, as these applications require a lot of graphical processing power. However, a powerful GPU also tends to consume more power and generate more heat, which can affect battery life and laptop performance.\n",
    "\n",
    "In recent years, laptop GPUs have become more efficient and powerful, making it possible to perform demanding visual tasks on a laptop. However, for the most demanding tasks, a desktop GPU still tends to be more powerful due to its larger size and better cooling capabilities."
   ]
  },
  {
   "cell_type": "code",
   "execution_count": 106,
   "id": "12029f70",
   "metadata": {},
   "outputs": [
    {
     "data": {
      "text/plain": [
       "AMD 16 GB        155\n",
       "AMD 8 GB         146\n",
       "AMD 32 GB          4\n",
       "NVIDIA 16 GB       3\n",
       "NVIDIA 8 GB        2\n",
       "NVIDIA 2 GB        1\n",
       "AMD 4 GB           1\n",
       "NVIDIA 4 GB        1\n",
       "NVIDIA 32 GB       1\n",
       "NVIDIA 128 GB      1\n",
       "Name: GPU, dtype: int64"
      ]
     },
     "execution_count": 106,
     "metadata": {},
     "output_type": "execute_result"
    }
   ],
   "source": [
    "# Regular expression pattern to match GPU name and memory size\n",
    "regex_gpu = r'(\\bNVIDIA\\b|\\bAMD\\b).*?(\\d+)\\s*GB'\n",
    "\n",
    "# Function to extract GPU information from a string using regex\n",
    "def extract_gpu(text):\n",
    "    match = re.search(regex_gpu, text, re.IGNORECASE)\n",
    "    if match:\n",
    "        return f\"{match.group(1)} {match.group(2)} GB\"\n",
    "    else:\n",
    "        return None\n",
    "\n",
    "# Apply the function to the \"Feature\" column and create a new column with the GPU information\n",
    "df['GPU'] = df['Feature'].apply(extract_gpu)\n",
    "df['GPU'].value_counts()"
   ]
  },
  {
   "cell_type": "code",
   "execution_count": 107,
   "id": "8c1a9fcd",
   "metadata": {},
   "outputs": [
    {
     "data": {
      "text/plain": [
       "Others    533\n",
       "AMD       156\n",
       "Intel      20\n",
       "NVIDIA     11\n",
       "Name: GPU, dtype: int64"
      ]
     },
     "execution_count": 107,
     "metadata": {},
     "output_type": "execute_result"
    }
   ],
   "source": [
    "regex_gpu = r'(NVIDIA|AMD|Intel)\\s[\\w\\s]+\\d{3,4}'\n",
    "\n",
    "# Function to extract GPU information from a string using regex\n",
    "def extract_gpu(text):\n",
    "    match = re.search(regex_gpu, text, re.IGNORECASE)\n",
    "    if match:\n",
    "        return match.group(1)\n",
    "    else:\n",
    "        return 'Others'\n",
    "\n",
    "# Apply the function to the \"Feature\" column and create a new column with the GPU information\n",
    "df['GPU'] = df['Feature'].apply(extract_gpu)\n",
    "df['GPU'].value_counts()"
   ]
  },
  {
   "cell_type": "code",
   "execution_count": 108,
   "id": "f3f0d51b",
   "metadata": {},
   "outputs": [
    {
     "data": {
      "text/plain": [
       "array(['Others', 'AMD', 'Intel', 'NVIDIA'], dtype=object)"
      ]
     },
     "execution_count": 108,
     "metadata": {},
     "output_type": "execute_result"
    }
   ],
   "source": [
    "df['GPU'].unique()"
   ]
  },
  {
   "cell_type": "code",
   "execution_count": 109,
   "id": "3df538ea",
   "metadata": {},
   "outputs": [
    {
     "data": {
      "text/html": [
       "<div>\n",
       "<style scoped>\n",
       "    .dataframe tbody tr th:only-of-type {\n",
       "        vertical-align: middle;\n",
       "    }\n",
       "\n",
       "    .dataframe tbody tr th {\n",
       "        vertical-align: top;\n",
       "    }\n",
       "\n",
       "    .dataframe thead th {\n",
       "        text-align: right;\n",
       "    }\n",
       "</style>\n",
       "<table border=\"1\" class=\"dataframe\">\n",
       "  <thead>\n",
       "    <tr style=\"text-align: right;\">\n",
       "      <th></th>\n",
       "      <th>Product</th>\n",
       "      <th>Rating</th>\n",
       "      <th>MRP</th>\n",
       "      <th>Feature</th>\n",
       "      <th>Brand Name</th>\n",
       "      <th>OS</th>\n",
       "      <th>Ram Type</th>\n",
       "      <th>RAM</th>\n",
       "      <th>Disk Type</th>\n",
       "      <th>DISK SIZE</th>\n",
       "      <th>Processor</th>\n",
       "      <th>GPU</th>\n",
       "    </tr>\n",
       "  </thead>\n",
       "  <tbody>\n",
       "    <tr>\n",
       "      <th>0</th>\n",
       "      <td>Lenovo IdeaPad 3 Core i3 11th Gen - (8 GB/256 ...</td>\n",
       "      <td>4.2</td>\n",
       "      <td>10.518430</td>\n",
       "      <td>Intel Core i3 Processor (11th Gen)8 GB DDR4 RA...</td>\n",
       "      <td>Lenovo</td>\n",
       "      <td>Windows</td>\n",
       "      <td>DDR4</td>\n",
       "      <td>8</td>\n",
       "      <td>SSD</td>\n",
       "      <td>256</td>\n",
       "      <td>Intel</td>\n",
       "      <td>Others</td>\n",
       "    </tr>\n",
       "    <tr>\n",
       "      <th>1</th>\n",
       "      <td>Lenovo IdeaPad 3 Core i3 11th Gen - (8 GB/512 ...</td>\n",
       "      <td>4.2</td>\n",
       "      <td>10.596410</td>\n",
       "      <td>Intel Core i3 Processor (11th Gen)8 GB DDR4 RA...</td>\n",
       "      <td>Lenovo</td>\n",
       "      <td>Windows</td>\n",
       "      <td>DDR4</td>\n",
       "      <td>8</td>\n",
       "      <td>SSD</td>\n",
       "      <td>512</td>\n",
       "      <td>Intel</td>\n",
       "      <td>Others</td>\n",
       "    </tr>\n",
       "    <tr>\n",
       "      <th>2</th>\n",
       "      <td>ASUS VivoBook 15 (2022) Core i3 10th Gen - (8 ...</td>\n",
       "      <td>4.3</td>\n",
       "      <td>10.403990</td>\n",
       "      <td>Intel Core i3 Processor (10th Gen)8 GB DDR4 RA...</td>\n",
       "      <td>ASUS</td>\n",
       "      <td>Windows</td>\n",
       "      <td>DDR4</td>\n",
       "      <td>8</td>\n",
       "      <td>SSD</td>\n",
       "      <td>512</td>\n",
       "      <td>Intel</td>\n",
       "      <td>Others</td>\n",
       "    </tr>\n",
       "    <tr>\n",
       "      <th>3</th>\n",
       "      <td>HP Pavilion Ryzen 5 Hexa Core AMD R5-5600H - (...</td>\n",
       "      <td>4.4</td>\n",
       "      <td>10.819598</td>\n",
       "      <td>AMD Ryzen 5 Hexa Core Processor8 GB DDR4 RAM64...</td>\n",
       "      <td>HP</td>\n",
       "      <td>Windows</td>\n",
       "      <td>DDR4</td>\n",
       "      <td>8</td>\n",
       "      <td>SSD</td>\n",
       "      <td>512</td>\n",
       "      <td>AMD</td>\n",
       "      <td>AMD</td>\n",
       "    </tr>\n",
       "    <tr>\n",
       "      <th>4</th>\n",
       "      <td>ASUS TUF Gaming F15 Core i5 10th Gen - (8 GB/5...</td>\n",
       "      <td>4.4</td>\n",
       "      <td>10.819598</td>\n",
       "      <td>Intel Core i5 Processor (10th Gen)8 GB DDR4 RA...</td>\n",
       "      <td>ASUS</td>\n",
       "      <td>Windows</td>\n",
       "      <td>DDR4</td>\n",
       "      <td>8</td>\n",
       "      <td>SSD</td>\n",
       "      <td>512</td>\n",
       "      <td>Intel</td>\n",
       "      <td>Others</td>\n",
       "    </tr>\n",
       "  </tbody>\n",
       "</table>\n",
       "</div>"
      ],
      "text/plain": [
       "                                             Product  Rating        MRP  \\\n",
       "0  Lenovo IdeaPad 3 Core i3 11th Gen - (8 GB/256 ...     4.2  10.518430   \n",
       "1  Lenovo IdeaPad 3 Core i3 11th Gen - (8 GB/512 ...     4.2  10.596410   \n",
       "2  ASUS VivoBook 15 (2022) Core i3 10th Gen - (8 ...     4.3  10.403990   \n",
       "3  HP Pavilion Ryzen 5 Hexa Core AMD R5-5600H - (...     4.4  10.819598   \n",
       "4  ASUS TUF Gaming F15 Core i5 10th Gen - (8 GB/5...     4.4  10.819598   \n",
       "\n",
       "                                             Feature Brand Name       OS  \\\n",
       "0  Intel Core i3 Processor (11th Gen)8 GB DDR4 RA...     Lenovo  Windows   \n",
       "1  Intel Core i3 Processor (11th Gen)8 GB DDR4 RA...     Lenovo  Windows   \n",
       "2  Intel Core i3 Processor (10th Gen)8 GB DDR4 RA...       ASUS  Windows   \n",
       "3  AMD Ryzen 5 Hexa Core Processor8 GB DDR4 RAM64...         HP  Windows   \n",
       "4  Intel Core i5 Processor (10th Gen)8 GB DDR4 RA...       ASUS  Windows   \n",
       "\n",
       "  Ram Type  RAM Disk Type  DISK SIZE Processor     GPU  \n",
       "0     DDR4    8       SSD        256     Intel  Others  \n",
       "1     DDR4    8       SSD        512     Intel  Others  \n",
       "2     DDR4    8       SSD        512     Intel  Others  \n",
       "3     DDR4    8       SSD        512       AMD     AMD  \n",
       "4     DDR4    8       SSD        512     Intel  Others  "
      ]
     },
     "execution_count": 109,
     "metadata": {},
     "output_type": "execute_result"
    }
   ],
   "source": [
    "df.head()"
   ]
  },
  {
   "cell_type": "markdown",
   "id": "301f5f38",
   "metadata": {},
   "source": [
    "**Findings**\n",
    "\n",
    "- Majorly Laptops and Integrated Graphics. \n",
    "- AMD GPU is more as compare to others.\n",
    "- NVIDIA GPU is less just because of expensive.\n",
    "- Intel are play majorly Integrated Graphics."
   ]
  },
  {
   "cell_type": "markdown",
   "id": "33554221",
   "metadata": {},
   "source": [
    "**Warranty**\n",
    "\n",
    "A laptop warranty is a guarantee that the manufacturer provides to cover defects in materials and workmanship for a specific period of time. The warranty period varies by manufacturer, but it typically ranges from one to three years.\n",
    "\n",
    "The warranty covers the cost of repairing or replacing parts that fail due to defects in materials or workmanship. However, it does not cover damage caused by accidents, misuse, or normal wear and tear. Some warranties may also exclude certain types of components, such as batteries or accessories.\n",
    "\n",
    "To make a claim under the warranty, the owner of the laptop must contact the manufacturer or its authorized service provider. The manufacturer will then diagnose the problem and either repair or replace the defective part.\n",
    "\n",
    "It is important to note that warranties may vary in terms of what they cover and the extent of the coverage. Some warranties may include additional services, such as technical support or on-site repairs, while others may have limitations or exclusions.\n",
    "\n",
    "It is recommended to read the terms and conditions of the warranty carefully before purchasing a laptop, and to consider purchasing an extended warranty if one is available, especially if the laptop is used for critical work or if it is an expensive model."
   ]
  },
  {
   "cell_type": "code",
   "execution_count": 110,
   "id": "a08bbafa",
   "metadata": {},
   "outputs": [
    {
     "data": {
      "text/plain": [
       "1 year warranty         479\n",
       "2 years warranty         85\n",
       "20212 years warranty     68\n",
       "20211 years warranty     41\n",
       "20191 years warranty     31\n",
       "20193 years warranty      4\n",
       "3 years warranty          4\n",
       "32 years warranty         3\n",
       "20192 years warranty      3\n",
       "3652 years warranty       1\n",
       "Name: Warranty, dtype: int64"
      ]
     },
     "execution_count": 110,
     "metadata": {},
     "output_type": "execute_result"
    }
   ],
   "source": [
    "# Regular expression to match warranty duration\n",
    "regex_warranty = r'(\\d+)\\s*(?:year|yr|y)(?:s)?'\n",
    "\n",
    "# Function to extract warranty information from a string using regex\n",
    "def extract_warranty(text):\n",
    "    match = re.search(regex_warranty, text, re.IGNORECASE)\n",
    "    if match:\n",
    "        years = int(match.group(1))\n",
    "        if years == 1:\n",
    "            return f\"{years} year warranty\"\n",
    "        elif years > 1:\n",
    "            return f\"{years} years warranty\"\n",
    "    else:\n",
    "        return None\n",
    "\n",
    "# Apply the function to the \"Feature\" column and create a new column with the warranty information\n",
    "df['Warranty'] = df['Feature'].apply(extract_warranty)\n",
    "df['Warranty'].value_counts()"
   ]
  },
  {
   "cell_type": "code",
   "execution_count": 111,
   "id": "9c64c051",
   "metadata": {},
   "outputs": [],
   "source": [
    "df['Warranty'] = df['Warranty'].str.replace('1 year warranty','1')\n",
    "df['Warranty'] = df['Warranty'].str.replace('2 years warranty','2')\n",
    "df['Warranty'] = df['Warranty'].str.replace('20212 years warranty','2')\n",
    "df['Warranty'] = df['Warranty'].str.replace('20211 years warranty','1')\n",
    "df['Warranty'] = df['Warranty'].str.replace('20191 years warranty','1')\n",
    "df['Warranty'] = df['Warranty'].str.replace('20193 years warranty','3')\n",
    "df['Warranty'] = df['Warranty'].str.replace('3 years warranty','3')\n",
    "df['Warranty'] = df['Warranty'].str.replace('32 years warranty','2')\n",
    "df['Warranty'] = df['Warranty'].str.replace('20192 years warranty','2')\n",
    "df['Warranty'] = df['Warranty'].str.replace('3652 years warranty','2')"
   ]
  },
  {
   "cell_type": "code",
   "execution_count": 112,
   "id": "c5a530d6",
   "metadata": {},
   "outputs": [
    {
     "data": {
      "text/plain": [
       "1        551\n",
       "2         85\n",
       "20212     68\n",
       "3          8\n",
       "32         3\n",
       "20192      3\n",
       "3652       1\n",
       "Name: Warranty, dtype: int64"
      ]
     },
     "execution_count": 112,
     "metadata": {},
     "output_type": "execute_result"
    }
   ],
   "source": [
    "df.Warranty.value_counts()"
   ]
  },
  {
   "cell_type": "code",
   "execution_count": 113,
   "id": "842b7c63",
   "metadata": {},
   "outputs": [],
   "source": [
    "df['Warranty'] = df['Warranty'].str.replace('20212','2')\n",
    "df['Warranty'] = df['Warranty'].str.replace('32','2')\n",
    "df['Warranty'] = df['Warranty'].str.replace('20192','2')\n",
    "df['Warranty'] = df['Warranty'].str.replace('20212','2')\n",
    "df['Warranty'] = df['Warranty'].str.replace('3652','2')"
   ]
  },
  {
   "cell_type": "code",
   "execution_count": 114,
   "id": "0f715315",
   "metadata": {},
   "outputs": [
    {
     "data": {
      "text/plain": [
       "1    551\n",
       "2    160\n",
       "3      8\n",
       "Name: Warranty, dtype: int64"
      ]
     },
     "execution_count": 114,
     "metadata": {},
     "output_type": "execute_result"
    }
   ],
   "source": [
    "df.Warranty.value_counts()"
   ]
  },
  {
   "cell_type": "code",
   "execution_count": 115,
   "id": "2254f473",
   "metadata": {},
   "outputs": [
    {
     "data": {
      "text/plain": [
       "1    551\n",
       "2    168\n",
       "Name: Warranty, dtype: int64"
      ]
     },
     "execution_count": 115,
     "metadata": {},
     "output_type": "execute_result"
    }
   ],
   "source": [
    "df['Warranty'] = df['Warranty'].str.replace('3','2')\n",
    "df.Warranty.value_counts()"
   ]
  },
  {
   "cell_type": "code",
   "execution_count": 116,
   "id": "8bc2a0a1",
   "metadata": {},
   "outputs": [
    {
     "data": {
      "text/plain": [
       "array(['2', '1', None], dtype=object)"
      ]
     },
     "execution_count": 116,
     "metadata": {},
     "output_type": "execute_result"
    }
   ],
   "source": [
    "df.Warranty.unique()"
   ]
  },
  {
   "cell_type": "code",
   "execution_count": 117,
   "id": "c9616786",
   "metadata": {},
   "outputs": [],
   "source": [
    "df.Warranty.fillna('2',inplace=True)"
   ]
  },
  {
   "cell_type": "code",
   "execution_count": 118,
   "id": "c951ddb2",
   "metadata": {},
   "outputs": [
    {
     "data": {
      "text/plain": [
       "1    551\n",
       "2    169\n",
       "Name: Warranty, dtype: int64"
      ]
     },
     "execution_count": 118,
     "metadata": {},
     "output_type": "execute_result"
    }
   ],
   "source": [
    "df.Warranty.value_counts()"
   ]
  },
  {
   "cell_type": "code",
   "execution_count": 119,
   "id": "a8d53751",
   "metadata": {},
   "outputs": [
    {
     "data": {
      "text/plain": [
       "array(['2', '1'], dtype=object)"
      ]
     },
     "execution_count": 119,
     "metadata": {},
     "output_type": "execute_result"
    }
   ],
   "source": [
    "df.Warranty.unique()"
   ]
  },
  {
   "cell_type": "code",
   "execution_count": 120,
   "id": "2afdc27b",
   "metadata": {},
   "outputs": [],
   "source": [
    "df['Warranty'] = df['Warranty'].astype('int32')"
   ]
  },
  {
   "cell_type": "code",
   "execution_count": 121,
   "id": "c738b66f",
   "metadata": {},
   "outputs": [
    {
     "data": {
      "text/plain": [
       "1    551\n",
       "2    169\n",
       "Name: Warranty, dtype: int64"
      ]
     },
     "execution_count": 121,
     "metadata": {},
     "output_type": "execute_result"
    }
   ],
   "source": [
    "df.Warranty.value_counts()"
   ]
  },
  {
   "cell_type": "code",
   "execution_count": 122,
   "id": "19c7d388",
   "metadata": {},
   "outputs": [
    {
     "data": {
      "text/plain": [
       "array([2, 1])"
      ]
     },
     "execution_count": 122,
     "metadata": {},
     "output_type": "execute_result"
    }
   ],
   "source": [
    "df.Warranty.unique()"
   ]
  },
  {
   "cell_type": "code",
   "execution_count": 123,
   "id": "16bdba6e",
   "metadata": {},
   "outputs": [
    {
     "name": "stdout",
     "output_type": "stream",
     "text": [
      "<class 'pandas.core.frame.DataFrame'>\n",
      "RangeIndex: 720 entries, 0 to 719\n",
      "Data columns (total 13 columns):\n",
      " #   Column      Non-Null Count  Dtype  \n",
      "---  ------      --------------  -----  \n",
      " 0   Product     720 non-null    object \n",
      " 1   Rating      581 non-null    float64\n",
      " 2   MRP         720 non-null    float32\n",
      " 3   Feature     720 non-null    object \n",
      " 4   Brand Name  720 non-null    object \n",
      " 5   OS          720 non-null    object \n",
      " 6   Ram Type    720 non-null    object \n",
      " 7   RAM         720 non-null    int32  \n",
      " 8   Disk Type   720 non-null    object \n",
      " 9   DISK SIZE   720 non-null    int32  \n",
      " 10  Processor   720 non-null    object \n",
      " 11  GPU         720 non-null    object \n",
      " 12  Warranty    720 non-null    int32  \n",
      "dtypes: float32(1), float64(1), int32(3), object(8)\n",
      "memory usage: 62.0+ KB\n"
     ]
    }
   ],
   "source": [
    "df.info()"
   ]
  },
  {
   "cell_type": "code",
   "execution_count": 124,
   "id": "12cb8772",
   "metadata": {},
   "outputs": [
    {
     "data": {
      "text/html": [
       "<div>\n",
       "<style scoped>\n",
       "    .dataframe tbody tr th:only-of-type {\n",
       "        vertical-align: middle;\n",
       "    }\n",
       "\n",
       "    .dataframe tbody tr th {\n",
       "        vertical-align: top;\n",
       "    }\n",
       "\n",
       "    .dataframe thead th {\n",
       "        text-align: right;\n",
       "    }\n",
       "</style>\n",
       "<table border=\"1\" class=\"dataframe\">\n",
       "  <thead>\n",
       "    <tr style=\"text-align: right;\">\n",
       "      <th></th>\n",
       "      <th>Product</th>\n",
       "      <th>Rating</th>\n",
       "      <th>MRP</th>\n",
       "      <th>Feature</th>\n",
       "      <th>Brand Name</th>\n",
       "      <th>OS</th>\n",
       "      <th>Ram Type</th>\n",
       "      <th>RAM</th>\n",
       "      <th>Disk Type</th>\n",
       "      <th>DISK SIZE</th>\n",
       "      <th>Processor</th>\n",
       "      <th>GPU</th>\n",
       "      <th>Warranty</th>\n",
       "    </tr>\n",
       "  </thead>\n",
       "  <tbody>\n",
       "    <tr>\n",
       "      <th>0</th>\n",
       "      <td>Lenovo IdeaPad 3 Core i3 11th Gen - (8 GB/256 ...</td>\n",
       "      <td>4.2</td>\n",
       "      <td>10.518430</td>\n",
       "      <td>Intel Core i3 Processor (11th Gen)8 GB DDR4 RA...</td>\n",
       "      <td>Lenovo</td>\n",
       "      <td>Windows</td>\n",
       "      <td>DDR4</td>\n",
       "      <td>8</td>\n",
       "      <td>SSD</td>\n",
       "      <td>256</td>\n",
       "      <td>Intel</td>\n",
       "      <td>Others</td>\n",
       "      <td>2</td>\n",
       "    </tr>\n",
       "    <tr>\n",
       "      <th>1</th>\n",
       "      <td>Lenovo IdeaPad 3 Core i3 11th Gen - (8 GB/512 ...</td>\n",
       "      <td>4.2</td>\n",
       "      <td>10.596410</td>\n",
       "      <td>Intel Core i3 Processor (11th Gen)8 GB DDR4 RA...</td>\n",
       "      <td>Lenovo</td>\n",
       "      <td>Windows</td>\n",
       "      <td>DDR4</td>\n",
       "      <td>8</td>\n",
       "      <td>SSD</td>\n",
       "      <td>512</td>\n",
       "      <td>Intel</td>\n",
       "      <td>Others</td>\n",
       "      <td>2</td>\n",
       "    </tr>\n",
       "    <tr>\n",
       "      <th>2</th>\n",
       "      <td>ASUS VivoBook 15 (2022) Core i3 10th Gen - (8 ...</td>\n",
       "      <td>4.3</td>\n",
       "      <td>10.403990</td>\n",
       "      <td>Intel Core i3 Processor (10th Gen)8 GB DDR4 RA...</td>\n",
       "      <td>ASUS</td>\n",
       "      <td>Windows</td>\n",
       "      <td>DDR4</td>\n",
       "      <td>8</td>\n",
       "      <td>SSD</td>\n",
       "      <td>512</td>\n",
       "      <td>Intel</td>\n",
       "      <td>Others</td>\n",
       "      <td>1</td>\n",
       "    </tr>\n",
       "    <tr>\n",
       "      <th>3</th>\n",
       "      <td>HP Pavilion Ryzen 5 Hexa Core AMD R5-5600H - (...</td>\n",
       "      <td>4.4</td>\n",
       "      <td>10.819598</td>\n",
       "      <td>AMD Ryzen 5 Hexa Core Processor8 GB DDR4 RAM64...</td>\n",
       "      <td>HP</td>\n",
       "      <td>Windows</td>\n",
       "      <td>DDR4</td>\n",
       "      <td>8</td>\n",
       "      <td>SSD</td>\n",
       "      <td>512</td>\n",
       "      <td>AMD</td>\n",
       "      <td>AMD</td>\n",
       "      <td>1</td>\n",
       "    </tr>\n",
       "    <tr>\n",
       "      <th>4</th>\n",
       "      <td>ASUS TUF Gaming F15 Core i5 10th Gen - (8 GB/5...</td>\n",
       "      <td>4.4</td>\n",
       "      <td>10.819598</td>\n",
       "      <td>Intel Core i5 Processor (10th Gen)8 GB DDR4 RA...</td>\n",
       "      <td>ASUS</td>\n",
       "      <td>Windows</td>\n",
       "      <td>DDR4</td>\n",
       "      <td>8</td>\n",
       "      <td>SSD</td>\n",
       "      <td>512</td>\n",
       "      <td>Intel</td>\n",
       "      <td>Others</td>\n",
       "      <td>1</td>\n",
       "    </tr>\n",
       "  </tbody>\n",
       "</table>\n",
       "</div>"
      ],
      "text/plain": [
       "                                             Product  Rating        MRP  \\\n",
       "0  Lenovo IdeaPad 3 Core i3 11th Gen - (8 GB/256 ...     4.2  10.518430   \n",
       "1  Lenovo IdeaPad 3 Core i3 11th Gen - (8 GB/512 ...     4.2  10.596410   \n",
       "2  ASUS VivoBook 15 (2022) Core i3 10th Gen - (8 ...     4.3  10.403990   \n",
       "3  HP Pavilion Ryzen 5 Hexa Core AMD R5-5600H - (...     4.4  10.819598   \n",
       "4  ASUS TUF Gaming F15 Core i5 10th Gen - (8 GB/5...     4.4  10.819598   \n",
       "\n",
       "                                             Feature Brand Name       OS  \\\n",
       "0  Intel Core i3 Processor (11th Gen)8 GB DDR4 RA...     Lenovo  Windows   \n",
       "1  Intel Core i3 Processor (11th Gen)8 GB DDR4 RA...     Lenovo  Windows   \n",
       "2  Intel Core i3 Processor (10th Gen)8 GB DDR4 RA...       ASUS  Windows   \n",
       "3  AMD Ryzen 5 Hexa Core Processor8 GB DDR4 RAM64...         HP  Windows   \n",
       "4  Intel Core i5 Processor (10th Gen)8 GB DDR4 RA...       ASUS  Windows   \n",
       "\n",
       "  Ram Type  RAM Disk Type  DISK SIZE Processor     GPU  Warranty  \n",
       "0     DDR4    8       SSD        256     Intel  Others         2  \n",
       "1     DDR4    8       SSD        512     Intel  Others         2  \n",
       "2     DDR4    8       SSD        512     Intel  Others         1  \n",
       "3     DDR4    8       SSD        512       AMD     AMD         1  \n",
       "4     DDR4    8       SSD        512     Intel  Others         1  "
      ]
     },
     "execution_count": 124,
     "metadata": {},
     "output_type": "execute_result"
    }
   ],
   "source": [
    "df.head()"
   ]
  },
  {
   "cell_type": "markdown",
   "id": "ef907ec8",
   "metadata": {},
   "source": [
    "**Findings**\n",
    "\n",
    "- Majorly Laptops comes 1 Year of warranty\n",
    "- 3 Year Warranty Laptops are only 8 so I decided to marge into 2 Year Warranty Laptops just because of preventy Outlier."
   ]
  },
  {
   "cell_type": "markdown",
   "id": "21373b96",
   "metadata": {},
   "source": [
    "**Screen Size**\n",
    "\n",
    "Laptop screen size refers to the diagonal measurement of the display screen, usually measured in inches. Screen size is an important factor to consider when choosing a laptop, as it can affect the user's comfort and the laptop's portability.\n",
    "\n",
    "Laptop screen sizes typically range from 11 inches to 17 inches, with the most common sizes being 13 inches, 14 inches, and 15 inches. Smaller screens are generally more portable and lightweight, while larger screens offer more screen real estate and are better suited for tasks such as video editing or gaming.\n",
    "\n",
    "Screen resolution is another important factor to consider, as it affects the clarity and sharpness of the displayed images. Higher resolutions result in sharper and more detailed images, but they also tend to be more demanding on the laptop's processing power and battery life.\n",
    "\n",
    "In recent years, laptop screens have become more advanced and innovative, with features such as touchscreens, high refresh rates, and HDR support. These features can enhance the user's experience and productivity, but they also tend to increase the cost of the laptop.\n",
    "\n",
    "When choosing a laptop, it is important to consider the user's needs and preferences, as well as their budget. A larger screen may be more comfortable for some users, while others may prioritize portability and opt for a smaller screen."
   ]
  },
  {
   "cell_type": "code",
   "execution_count": 125,
   "id": "be4c8e3c",
   "metadata": {},
   "outputs": [],
   "source": [
    "# Regular expression to match screen sizes\n",
    "\n",
    "regex = r'(\\d+(?:\\.\\d+)?)(?:\\s*inch|\"|\\'\\')'\n",
    "\n",
    "# Function to extract screen sizes from a string using regex\n",
    "\n",
    "def extract_screen_size(text):\n",
    "    match = re.search(regex, text)\n",
    "    if match:\n",
    "        return float(match.group(1))\n",
    "    else:\n",
    "        return None\n",
    "\n",
    "# Apply the function to the \"Feature\" column and create a new column with the screen sizes\n",
    "\n",
    "df['ScreenSize'] = df['Feature'].apply(extract_screen_size)"
   ]
  },
  {
   "cell_type": "code",
   "execution_count": 126,
   "id": "cb72dae0",
   "metadata": {},
   "outputs": [
    {
     "data": {
      "text/plain": [
       "15.6        362\n",
       "14.0        103\n",
       "13.3          9\n",
       "16.0          6\n",
       "16.1          5\n",
       "16.2          5\n",
       "17.3          5\n",
       "14.1          4\n",
       "11.6          4\n",
       "15.0          4\n",
       "14.2          2\n",
       "13.0          1\n",
       "13.5          1\n",
       "16.6          1\n",
       "206015.6      1\n",
       "Name: ScreenSize, dtype: int64"
      ]
     },
     "execution_count": 126,
     "metadata": {},
     "output_type": "execute_result"
    }
   ],
   "source": [
    "df.ScreenSize.value_counts()"
   ]
  },
  {
   "cell_type": "code",
   "execution_count": 127,
   "id": "751a5b07",
   "metadata": {},
   "outputs": [],
   "source": [
    "df['ScreenSize'] = df['ScreenSize'].astype('float64')"
   ]
  },
  {
   "cell_type": "code",
   "execution_count": 128,
   "id": "24e27ac6",
   "metadata": {},
   "outputs": [
    {
     "name": "stdout",
     "output_type": "stream",
     "text": [
      "<class 'pandas.core.frame.DataFrame'>\n",
      "RangeIndex: 720 entries, 0 to 719\n",
      "Data columns (total 14 columns):\n",
      " #   Column      Non-Null Count  Dtype  \n",
      "---  ------      --------------  -----  \n",
      " 0   Product     720 non-null    object \n",
      " 1   Rating      581 non-null    float64\n",
      " 2   MRP         720 non-null    float32\n",
      " 3   Feature     720 non-null    object \n",
      " 4   Brand Name  720 non-null    object \n",
      " 5   OS          720 non-null    object \n",
      " 6   Ram Type    720 non-null    object \n",
      " 7   RAM         720 non-null    int32  \n",
      " 8   Disk Type   720 non-null    object \n",
      " 9   DISK SIZE   720 non-null    int32  \n",
      " 10  Processor   720 non-null    object \n",
      " 11  GPU         720 non-null    object \n",
      " 12  Warranty    720 non-null    int32  \n",
      " 13  ScreenSize  513 non-null    float64\n",
      "dtypes: float32(1), float64(2), int32(3), object(8)\n",
      "memory usage: 67.6+ KB\n"
     ]
    }
   ],
   "source": [
    "df.info()"
   ]
  },
  {
   "cell_type": "code",
   "execution_count": 129,
   "id": "84916216",
   "metadata": {},
   "outputs": [],
   "source": [
    "df['ScreenSize'] = df['ScreenSize'].replace(16.0, 15.6)\n",
    "df['ScreenSize'] = df['ScreenSize'].replace(13.3, 14.0)\n",
    "df['ScreenSize'] = df['ScreenSize'].replace(16.1, 15.6)\n",
    "df['ScreenSize'] = df['ScreenSize'].replace(16.2, 15.6)\n",
    "df['ScreenSize'] = df['ScreenSize'].replace(17.3, 15.6)\n",
    "df['ScreenSize'] = df['ScreenSize'].replace(14.1, 14.0)\n",
    "df['ScreenSize'] = df['ScreenSize'].replace(11.6, 14.0)\n",
    "df['ScreenSize'] = df['ScreenSize'].replace(15.0, 15.6)\n",
    "df['ScreenSize'] = df['ScreenSize'].replace(14.2, 14.0)\n",
    "df['ScreenSize'] = df['ScreenSize'].replace(13.0, 14.0)\n",
    "df['ScreenSize'] = df['ScreenSize'].replace(16.6, 15.6)\n",
    "df['ScreenSize'] = df['ScreenSize'].replace(206015.6, 15.6)\n",
    "df['ScreenSize'] = df['ScreenSize'].replace(13.5, 14.0)"
   ]
  },
  {
   "cell_type": "code",
   "execution_count": 130,
   "id": "1be989c8",
   "metadata": {},
   "outputs": [
    {
     "data": {
      "text/plain": [
       "15.6    389\n",
       "14.0    124\n",
       "Name: ScreenSize, dtype: int64"
      ]
     },
     "execution_count": 130,
     "metadata": {},
     "output_type": "execute_result"
    }
   ],
   "source": [
    "df['ScreenSize'].value_counts()"
   ]
  },
  {
   "cell_type": "code",
   "execution_count": 131,
   "id": "a91b398a",
   "metadata": {},
   "outputs": [
    {
     "data": {
      "text/plain": [
       "288    14.0\n",
       "686    15.6\n",
       "340    15.6\n",
       "661    15.6\n",
       "393    15.6\n",
       "Name: ScreenSize, dtype: float64"
      ]
     },
     "execution_count": 131,
     "metadata": {},
     "output_type": "execute_result"
    }
   ],
   "source": [
    "df['ScreenSize'].sample(5)"
   ]
  },
  {
   "cell_type": "code",
   "execution_count": 132,
   "id": "90cdf7c6",
   "metadata": {},
   "outputs": [
    {
     "data": {
      "text/plain": [
       "array([14. , 15.6,  nan])"
      ]
     },
     "execution_count": 132,
     "metadata": {},
     "output_type": "execute_result"
    }
   ],
   "source": [
    "df['ScreenSize'].unique()"
   ]
  },
  {
   "cell_type": "code",
   "execution_count": 133,
   "id": "8378373d",
   "metadata": {},
   "outputs": [
    {
     "data": {
      "text/plain": [
       "15.213255360623782"
      ]
     },
     "execution_count": 133,
     "metadata": {},
     "output_type": "execute_result"
    }
   ],
   "source": [
    "df['ScreenSize'].mean()"
   ]
  },
  {
   "cell_type": "code",
   "execution_count": 134,
   "id": "7fb5e4ab",
   "metadata": {},
   "outputs": [],
   "source": [
    "df['ScreenSize'].fillna(15.6, inplace=True)"
   ]
  },
  {
   "cell_type": "code",
   "execution_count": 135,
   "id": "8b1d49ff",
   "metadata": {},
   "outputs": [
    {
     "data": {
      "text/plain": [
       "array([14. , 15.6])"
      ]
     },
     "execution_count": 135,
     "metadata": {},
     "output_type": "execute_result"
    }
   ],
   "source": [
    "df['ScreenSize'].unique()"
   ]
  },
  {
   "cell_type": "code",
   "execution_count": 136,
   "id": "ffad6215",
   "metadata": {},
   "outputs": [
    {
     "data": {
      "text/plain": [
       "15.6    596\n",
       "14.0    124\n",
       "Name: ScreenSize, dtype: int64"
      ]
     },
     "execution_count": 136,
     "metadata": {},
     "output_type": "execute_result"
    }
   ],
   "source": [
    "df['ScreenSize'].value_counts()"
   ]
  },
  {
   "cell_type": "code",
   "execution_count": 137,
   "id": "89aac0d1",
   "metadata": {},
   "outputs": [
    {
     "data": {
      "text/html": [
       "<div>\n",
       "<style scoped>\n",
       "    .dataframe tbody tr th:only-of-type {\n",
       "        vertical-align: middle;\n",
       "    }\n",
       "\n",
       "    .dataframe tbody tr th {\n",
       "        vertical-align: top;\n",
       "    }\n",
       "\n",
       "    .dataframe thead th {\n",
       "        text-align: right;\n",
       "    }\n",
       "</style>\n",
       "<table border=\"1\" class=\"dataframe\">\n",
       "  <thead>\n",
       "    <tr style=\"text-align: right;\">\n",
       "      <th></th>\n",
       "      <th>Product</th>\n",
       "      <th>Rating</th>\n",
       "      <th>MRP</th>\n",
       "      <th>Feature</th>\n",
       "      <th>Brand Name</th>\n",
       "      <th>OS</th>\n",
       "      <th>Ram Type</th>\n",
       "      <th>RAM</th>\n",
       "      <th>Disk Type</th>\n",
       "      <th>DISK SIZE</th>\n",
       "      <th>Processor</th>\n",
       "      <th>GPU</th>\n",
       "      <th>Warranty</th>\n",
       "      <th>ScreenSize</th>\n",
       "    </tr>\n",
       "  </thead>\n",
       "  <tbody>\n",
       "    <tr>\n",
       "      <th>0</th>\n",
       "      <td>Lenovo IdeaPad 3 Core i3 11th Gen - (8 GB/256 ...</td>\n",
       "      <td>4.2</td>\n",
       "      <td>10.518430</td>\n",
       "      <td>Intel Core i3 Processor (11th Gen)8 GB DDR4 RA...</td>\n",
       "      <td>Lenovo</td>\n",
       "      <td>Windows</td>\n",
       "      <td>DDR4</td>\n",
       "      <td>8</td>\n",
       "      <td>SSD</td>\n",
       "      <td>256</td>\n",
       "      <td>Intel</td>\n",
       "      <td>Others</td>\n",
       "      <td>2</td>\n",
       "      <td>14.0</td>\n",
       "    </tr>\n",
       "    <tr>\n",
       "      <th>1</th>\n",
       "      <td>Lenovo IdeaPad 3 Core i3 11th Gen - (8 GB/512 ...</td>\n",
       "      <td>4.2</td>\n",
       "      <td>10.596410</td>\n",
       "      <td>Intel Core i3 Processor (11th Gen)8 GB DDR4 RA...</td>\n",
       "      <td>Lenovo</td>\n",
       "      <td>Windows</td>\n",
       "      <td>DDR4</td>\n",
       "      <td>8</td>\n",
       "      <td>SSD</td>\n",
       "      <td>512</td>\n",
       "      <td>Intel</td>\n",
       "      <td>Others</td>\n",
       "      <td>2</td>\n",
       "      <td>15.6</td>\n",
       "    </tr>\n",
       "    <tr>\n",
       "      <th>2</th>\n",
       "      <td>ASUS VivoBook 15 (2022) Core i3 10th Gen - (8 ...</td>\n",
       "      <td>4.3</td>\n",
       "      <td>10.403990</td>\n",
       "      <td>Intel Core i3 Processor (10th Gen)8 GB DDR4 RA...</td>\n",
       "      <td>ASUS</td>\n",
       "      <td>Windows</td>\n",
       "      <td>DDR4</td>\n",
       "      <td>8</td>\n",
       "      <td>SSD</td>\n",
       "      <td>512</td>\n",
       "      <td>Intel</td>\n",
       "      <td>Others</td>\n",
       "      <td>1</td>\n",
       "      <td>15.6</td>\n",
       "    </tr>\n",
       "    <tr>\n",
       "      <th>3</th>\n",
       "      <td>HP Pavilion Ryzen 5 Hexa Core AMD R5-5600H - (...</td>\n",
       "      <td>4.4</td>\n",
       "      <td>10.819598</td>\n",
       "      <td>AMD Ryzen 5 Hexa Core Processor8 GB DDR4 RAM64...</td>\n",
       "      <td>HP</td>\n",
       "      <td>Windows</td>\n",
       "      <td>DDR4</td>\n",
       "      <td>8</td>\n",
       "      <td>SSD</td>\n",
       "      <td>512</td>\n",
       "      <td>AMD</td>\n",
       "      <td>AMD</td>\n",
       "      <td>1</td>\n",
       "      <td>15.6</td>\n",
       "    </tr>\n",
       "    <tr>\n",
       "      <th>4</th>\n",
       "      <td>ASUS TUF Gaming F15 Core i5 10th Gen - (8 GB/5...</td>\n",
       "      <td>4.4</td>\n",
       "      <td>10.819598</td>\n",
       "      <td>Intel Core i5 Processor (10th Gen)8 GB DDR4 RA...</td>\n",
       "      <td>ASUS</td>\n",
       "      <td>Windows</td>\n",
       "      <td>DDR4</td>\n",
       "      <td>8</td>\n",
       "      <td>SSD</td>\n",
       "      <td>512</td>\n",
       "      <td>Intel</td>\n",
       "      <td>Others</td>\n",
       "      <td>1</td>\n",
       "      <td>15.6</td>\n",
       "    </tr>\n",
       "  </tbody>\n",
       "</table>\n",
       "</div>"
      ],
      "text/plain": [
       "                                             Product  Rating        MRP  \\\n",
       "0  Lenovo IdeaPad 3 Core i3 11th Gen - (8 GB/256 ...     4.2  10.518430   \n",
       "1  Lenovo IdeaPad 3 Core i3 11th Gen - (8 GB/512 ...     4.2  10.596410   \n",
       "2  ASUS VivoBook 15 (2022) Core i3 10th Gen - (8 ...     4.3  10.403990   \n",
       "3  HP Pavilion Ryzen 5 Hexa Core AMD R5-5600H - (...     4.4  10.819598   \n",
       "4  ASUS TUF Gaming F15 Core i5 10th Gen - (8 GB/5...     4.4  10.819598   \n",
       "\n",
       "                                             Feature Brand Name       OS  \\\n",
       "0  Intel Core i3 Processor (11th Gen)8 GB DDR4 RA...     Lenovo  Windows   \n",
       "1  Intel Core i3 Processor (11th Gen)8 GB DDR4 RA...     Lenovo  Windows   \n",
       "2  Intel Core i3 Processor (10th Gen)8 GB DDR4 RA...       ASUS  Windows   \n",
       "3  AMD Ryzen 5 Hexa Core Processor8 GB DDR4 RAM64...         HP  Windows   \n",
       "4  Intel Core i5 Processor (10th Gen)8 GB DDR4 RA...       ASUS  Windows   \n",
       "\n",
       "  Ram Type  RAM Disk Type  DISK SIZE Processor     GPU  Warranty  ScreenSize  \n",
       "0     DDR4    8       SSD        256     Intel  Others         2        14.0  \n",
       "1     DDR4    8       SSD        512     Intel  Others         2        15.6  \n",
       "2     DDR4    8       SSD        512     Intel  Others         1        15.6  \n",
       "3     DDR4    8       SSD        512       AMD     AMD         1        15.6  \n",
       "4     DDR4    8       SSD        512     Intel  Others         1        15.6  "
      ]
     },
     "execution_count": 137,
     "metadata": {},
     "output_type": "execute_result"
    }
   ],
   "source": [
    "df.head()"
   ]
  },
  {
   "cell_type": "markdown",
   "id": "f9c76a35",
   "metadata": {},
   "source": [
    "**Findings**\n",
    "\n",
    "- 15.6 Inches laptops are more in compare to others\n",
    "- In Screensize Column are they too many extreme value so I decided to cap into 14.0 and 15.6 Inches"
   ]
  },
  {
   "cell_type": "code",
   "execution_count": 138,
   "id": "63b9d198",
   "metadata": {},
   "outputs": [
    {
     "data": {
      "text/plain": [
       "Others    533\n",
       "AMD       156\n",
       "Intel      20\n",
       "NVIDIA     11\n",
       "Name: GPU, dtype: int64"
      ]
     },
     "execution_count": 138,
     "metadata": {},
     "output_type": "execute_result"
    }
   ],
   "source": [
    "df['GPU'].value_counts()"
   ]
  },
  {
   "cell_type": "code",
   "execution_count": 139,
   "id": "3c1b699d",
   "metadata": {},
   "outputs": [
    {
     "data": {
      "text/plain": [
       "array(['Others', 'AMD', 'Intel', 'NVIDIA'], dtype=object)"
      ]
     },
     "execution_count": 139,
     "metadata": {},
     "output_type": "execute_result"
    }
   ],
   "source": [
    "df['GPU'].unique()"
   ]
  },
  {
   "cell_type": "code",
   "execution_count": 140,
   "id": "1403e705",
   "metadata": {},
   "outputs": [
    {
     "data": {
      "text/html": [
       "<div>\n",
       "<style scoped>\n",
       "    .dataframe tbody tr th:only-of-type {\n",
       "        vertical-align: middle;\n",
       "    }\n",
       "\n",
       "    .dataframe tbody tr th {\n",
       "        vertical-align: top;\n",
       "    }\n",
       "\n",
       "    .dataframe thead th {\n",
       "        text-align: right;\n",
       "    }\n",
       "</style>\n",
       "<table border=\"1\" class=\"dataframe\">\n",
       "  <thead>\n",
       "    <tr style=\"text-align: right;\">\n",
       "      <th></th>\n",
       "      <th>Product</th>\n",
       "      <th>Rating</th>\n",
       "      <th>MRP</th>\n",
       "      <th>Feature</th>\n",
       "      <th>Brand Name</th>\n",
       "      <th>OS</th>\n",
       "      <th>Ram Type</th>\n",
       "      <th>RAM</th>\n",
       "      <th>Disk Type</th>\n",
       "      <th>DISK SIZE</th>\n",
       "      <th>Processor</th>\n",
       "      <th>GPU</th>\n",
       "      <th>Warranty</th>\n",
       "      <th>ScreenSize</th>\n",
       "    </tr>\n",
       "  </thead>\n",
       "  <tbody>\n",
       "    <tr>\n",
       "      <th>0</th>\n",
       "      <td>Lenovo IdeaPad 3 Core i3 11th Gen - (8 GB/256 ...</td>\n",
       "      <td>4.2</td>\n",
       "      <td>10.518430</td>\n",
       "      <td>Intel Core i3 Processor (11th Gen)8 GB DDR4 RA...</td>\n",
       "      <td>Lenovo</td>\n",
       "      <td>Windows</td>\n",
       "      <td>DDR4</td>\n",
       "      <td>8</td>\n",
       "      <td>SSD</td>\n",
       "      <td>256</td>\n",
       "      <td>Intel</td>\n",
       "      <td>Others</td>\n",
       "      <td>2</td>\n",
       "      <td>14.0</td>\n",
       "    </tr>\n",
       "    <tr>\n",
       "      <th>1</th>\n",
       "      <td>Lenovo IdeaPad 3 Core i3 11th Gen - (8 GB/512 ...</td>\n",
       "      <td>4.2</td>\n",
       "      <td>10.596410</td>\n",
       "      <td>Intel Core i3 Processor (11th Gen)8 GB DDR4 RA...</td>\n",
       "      <td>Lenovo</td>\n",
       "      <td>Windows</td>\n",
       "      <td>DDR4</td>\n",
       "      <td>8</td>\n",
       "      <td>SSD</td>\n",
       "      <td>512</td>\n",
       "      <td>Intel</td>\n",
       "      <td>Others</td>\n",
       "      <td>2</td>\n",
       "      <td>15.6</td>\n",
       "    </tr>\n",
       "    <tr>\n",
       "      <th>2</th>\n",
       "      <td>ASUS VivoBook 15 (2022) Core i3 10th Gen - (8 ...</td>\n",
       "      <td>4.3</td>\n",
       "      <td>10.403990</td>\n",
       "      <td>Intel Core i3 Processor (10th Gen)8 GB DDR4 RA...</td>\n",
       "      <td>ASUS</td>\n",
       "      <td>Windows</td>\n",
       "      <td>DDR4</td>\n",
       "      <td>8</td>\n",
       "      <td>SSD</td>\n",
       "      <td>512</td>\n",
       "      <td>Intel</td>\n",
       "      <td>Others</td>\n",
       "      <td>1</td>\n",
       "      <td>15.6</td>\n",
       "    </tr>\n",
       "    <tr>\n",
       "      <th>3</th>\n",
       "      <td>HP Pavilion Ryzen 5 Hexa Core AMD R5-5600H - (...</td>\n",
       "      <td>4.4</td>\n",
       "      <td>10.819598</td>\n",
       "      <td>AMD Ryzen 5 Hexa Core Processor8 GB DDR4 RAM64...</td>\n",
       "      <td>HP</td>\n",
       "      <td>Windows</td>\n",
       "      <td>DDR4</td>\n",
       "      <td>8</td>\n",
       "      <td>SSD</td>\n",
       "      <td>512</td>\n",
       "      <td>AMD</td>\n",
       "      <td>AMD</td>\n",
       "      <td>1</td>\n",
       "      <td>15.6</td>\n",
       "    </tr>\n",
       "    <tr>\n",
       "      <th>4</th>\n",
       "      <td>ASUS TUF Gaming F15 Core i5 10th Gen - (8 GB/5...</td>\n",
       "      <td>4.4</td>\n",
       "      <td>10.819598</td>\n",
       "      <td>Intel Core i5 Processor (10th Gen)8 GB DDR4 RA...</td>\n",
       "      <td>ASUS</td>\n",
       "      <td>Windows</td>\n",
       "      <td>DDR4</td>\n",
       "      <td>8</td>\n",
       "      <td>SSD</td>\n",
       "      <td>512</td>\n",
       "      <td>Intel</td>\n",
       "      <td>Others</td>\n",
       "      <td>1</td>\n",
       "      <td>15.6</td>\n",
       "    </tr>\n",
       "  </tbody>\n",
       "</table>\n",
       "</div>"
      ],
      "text/plain": [
       "                                             Product  Rating        MRP  \\\n",
       "0  Lenovo IdeaPad 3 Core i3 11th Gen - (8 GB/256 ...     4.2  10.518430   \n",
       "1  Lenovo IdeaPad 3 Core i3 11th Gen - (8 GB/512 ...     4.2  10.596410   \n",
       "2  ASUS VivoBook 15 (2022) Core i3 10th Gen - (8 ...     4.3  10.403990   \n",
       "3  HP Pavilion Ryzen 5 Hexa Core AMD R5-5600H - (...     4.4  10.819598   \n",
       "4  ASUS TUF Gaming F15 Core i5 10th Gen - (8 GB/5...     4.4  10.819598   \n",
       "\n",
       "                                             Feature Brand Name       OS  \\\n",
       "0  Intel Core i3 Processor (11th Gen)8 GB DDR4 RA...     Lenovo  Windows   \n",
       "1  Intel Core i3 Processor (11th Gen)8 GB DDR4 RA...     Lenovo  Windows   \n",
       "2  Intel Core i3 Processor (10th Gen)8 GB DDR4 RA...       ASUS  Windows   \n",
       "3  AMD Ryzen 5 Hexa Core Processor8 GB DDR4 RAM64...         HP  Windows   \n",
       "4  Intel Core i5 Processor (10th Gen)8 GB DDR4 RA...       ASUS  Windows   \n",
       "\n",
       "  Ram Type  RAM Disk Type  DISK SIZE Processor     GPU  Warranty  ScreenSize  \n",
       "0     DDR4    8       SSD        256     Intel  Others         2        14.0  \n",
       "1     DDR4    8       SSD        512     Intel  Others         2        15.6  \n",
       "2     DDR4    8       SSD        512     Intel  Others         1        15.6  \n",
       "3     DDR4    8       SSD        512       AMD     AMD         1        15.6  \n",
       "4     DDR4    8       SSD        512     Intel  Others         1        15.6  "
      ]
     },
     "execution_count": 140,
     "metadata": {},
     "output_type": "execute_result"
    }
   ],
   "source": [
    "df.head()"
   ]
  },
  {
   "cell_type": "code",
   "execution_count": 141,
   "id": "141974e8",
   "metadata": {},
   "outputs": [],
   "source": [
    "df = df.rename(columns={'MRP': 'Price'})"
   ]
  },
  {
   "cell_type": "code",
   "execution_count": 142,
   "id": "716a1c7d",
   "metadata": {},
   "outputs": [
    {
     "data": {
      "text/html": [
       "<div>\n",
       "<style scoped>\n",
       "    .dataframe tbody tr th:only-of-type {\n",
       "        vertical-align: middle;\n",
       "    }\n",
       "\n",
       "    .dataframe tbody tr th {\n",
       "        vertical-align: top;\n",
       "    }\n",
       "\n",
       "    .dataframe thead th {\n",
       "        text-align: right;\n",
       "    }\n",
       "</style>\n",
       "<table border=\"1\" class=\"dataframe\">\n",
       "  <thead>\n",
       "    <tr style=\"text-align: right;\">\n",
       "      <th></th>\n",
       "      <th>Product</th>\n",
       "      <th>Rating</th>\n",
       "      <th>Price</th>\n",
       "      <th>Feature</th>\n",
       "      <th>Brand Name</th>\n",
       "      <th>OS</th>\n",
       "      <th>Ram Type</th>\n",
       "      <th>RAM</th>\n",
       "      <th>Disk Type</th>\n",
       "      <th>DISK SIZE</th>\n",
       "      <th>Processor</th>\n",
       "      <th>GPU</th>\n",
       "      <th>Warranty</th>\n",
       "      <th>ScreenSize</th>\n",
       "    </tr>\n",
       "  </thead>\n",
       "  <tbody>\n",
       "    <tr>\n",
       "      <th>0</th>\n",
       "      <td>Lenovo IdeaPad 3 Core i3 11th Gen - (8 GB/256 ...</td>\n",
       "      <td>4.2</td>\n",
       "      <td>10.518430</td>\n",
       "      <td>Intel Core i3 Processor (11th Gen)8 GB DDR4 RA...</td>\n",
       "      <td>Lenovo</td>\n",
       "      <td>Windows</td>\n",
       "      <td>DDR4</td>\n",
       "      <td>8</td>\n",
       "      <td>SSD</td>\n",
       "      <td>256</td>\n",
       "      <td>Intel</td>\n",
       "      <td>Others</td>\n",
       "      <td>2</td>\n",
       "      <td>14.0</td>\n",
       "    </tr>\n",
       "    <tr>\n",
       "      <th>1</th>\n",
       "      <td>Lenovo IdeaPad 3 Core i3 11th Gen - (8 GB/512 ...</td>\n",
       "      <td>4.2</td>\n",
       "      <td>10.596410</td>\n",
       "      <td>Intel Core i3 Processor (11th Gen)8 GB DDR4 RA...</td>\n",
       "      <td>Lenovo</td>\n",
       "      <td>Windows</td>\n",
       "      <td>DDR4</td>\n",
       "      <td>8</td>\n",
       "      <td>SSD</td>\n",
       "      <td>512</td>\n",
       "      <td>Intel</td>\n",
       "      <td>Others</td>\n",
       "      <td>2</td>\n",
       "      <td>15.6</td>\n",
       "    </tr>\n",
       "    <tr>\n",
       "      <th>2</th>\n",
       "      <td>ASUS VivoBook 15 (2022) Core i3 10th Gen - (8 ...</td>\n",
       "      <td>4.3</td>\n",
       "      <td>10.403990</td>\n",
       "      <td>Intel Core i3 Processor (10th Gen)8 GB DDR4 RA...</td>\n",
       "      <td>ASUS</td>\n",
       "      <td>Windows</td>\n",
       "      <td>DDR4</td>\n",
       "      <td>8</td>\n",
       "      <td>SSD</td>\n",
       "      <td>512</td>\n",
       "      <td>Intel</td>\n",
       "      <td>Others</td>\n",
       "      <td>1</td>\n",
       "      <td>15.6</td>\n",
       "    </tr>\n",
       "    <tr>\n",
       "      <th>3</th>\n",
       "      <td>HP Pavilion Ryzen 5 Hexa Core AMD R5-5600H - (...</td>\n",
       "      <td>4.4</td>\n",
       "      <td>10.819598</td>\n",
       "      <td>AMD Ryzen 5 Hexa Core Processor8 GB DDR4 RAM64...</td>\n",
       "      <td>HP</td>\n",
       "      <td>Windows</td>\n",
       "      <td>DDR4</td>\n",
       "      <td>8</td>\n",
       "      <td>SSD</td>\n",
       "      <td>512</td>\n",
       "      <td>AMD</td>\n",
       "      <td>AMD</td>\n",
       "      <td>1</td>\n",
       "      <td>15.6</td>\n",
       "    </tr>\n",
       "    <tr>\n",
       "      <th>4</th>\n",
       "      <td>ASUS TUF Gaming F15 Core i5 10th Gen - (8 GB/5...</td>\n",
       "      <td>4.4</td>\n",
       "      <td>10.819598</td>\n",
       "      <td>Intel Core i5 Processor (10th Gen)8 GB DDR4 RA...</td>\n",
       "      <td>ASUS</td>\n",
       "      <td>Windows</td>\n",
       "      <td>DDR4</td>\n",
       "      <td>8</td>\n",
       "      <td>SSD</td>\n",
       "      <td>512</td>\n",
       "      <td>Intel</td>\n",
       "      <td>Others</td>\n",
       "      <td>1</td>\n",
       "      <td>15.6</td>\n",
       "    </tr>\n",
       "  </tbody>\n",
       "</table>\n",
       "</div>"
      ],
      "text/plain": [
       "                                             Product  Rating      Price  \\\n",
       "0  Lenovo IdeaPad 3 Core i3 11th Gen - (8 GB/256 ...     4.2  10.518430   \n",
       "1  Lenovo IdeaPad 3 Core i3 11th Gen - (8 GB/512 ...     4.2  10.596410   \n",
       "2  ASUS VivoBook 15 (2022) Core i3 10th Gen - (8 ...     4.3  10.403990   \n",
       "3  HP Pavilion Ryzen 5 Hexa Core AMD R5-5600H - (...     4.4  10.819598   \n",
       "4  ASUS TUF Gaming F15 Core i5 10th Gen - (8 GB/5...     4.4  10.819598   \n",
       "\n",
       "                                             Feature Brand Name       OS  \\\n",
       "0  Intel Core i3 Processor (11th Gen)8 GB DDR4 RA...     Lenovo  Windows   \n",
       "1  Intel Core i3 Processor (11th Gen)8 GB DDR4 RA...     Lenovo  Windows   \n",
       "2  Intel Core i3 Processor (10th Gen)8 GB DDR4 RA...       ASUS  Windows   \n",
       "3  AMD Ryzen 5 Hexa Core Processor8 GB DDR4 RAM64...         HP  Windows   \n",
       "4  Intel Core i5 Processor (10th Gen)8 GB DDR4 RA...       ASUS  Windows   \n",
       "\n",
       "  Ram Type  RAM Disk Type  DISK SIZE Processor     GPU  Warranty  ScreenSize  \n",
       "0     DDR4    8       SSD        256     Intel  Others         2        14.0  \n",
       "1     DDR4    8       SSD        512     Intel  Others         2        15.6  \n",
       "2     DDR4    8       SSD        512     Intel  Others         1        15.6  \n",
       "3     DDR4    8       SSD        512       AMD     AMD         1        15.6  \n",
       "4     DDR4    8       SSD        512     Intel  Others         1        15.6  "
      ]
     },
     "execution_count": 142,
     "metadata": {},
     "output_type": "execute_result"
    }
   ],
   "source": [
    "df.head()"
   ]
  },
  {
   "cell_type": "code",
   "execution_count": 143,
   "id": "15bfc80b",
   "metadata": {},
   "outputs": [],
   "source": [
    "# Reassigning the columns\n",
    "\n",
    "df = df[['Brand Name','OS','Ram Type','RAM','Processor','GPU','Warranty','ScreenSize','Disk Type','DISK SIZE', 'Price']]"
   ]
  },
  {
   "cell_type": "code",
   "execution_count": 144,
   "id": "9d418c6c",
   "metadata": {},
   "outputs": [
    {
     "data": {
      "text/html": [
       "<div>\n",
       "<style scoped>\n",
       "    .dataframe tbody tr th:only-of-type {\n",
       "        vertical-align: middle;\n",
       "    }\n",
       "\n",
       "    .dataframe tbody tr th {\n",
       "        vertical-align: top;\n",
       "    }\n",
       "\n",
       "    .dataframe thead th {\n",
       "        text-align: right;\n",
       "    }\n",
       "</style>\n",
       "<table border=\"1\" class=\"dataframe\">\n",
       "  <thead>\n",
       "    <tr style=\"text-align: right;\">\n",
       "      <th></th>\n",
       "      <th>Brand Name</th>\n",
       "      <th>OS</th>\n",
       "      <th>Ram Type</th>\n",
       "      <th>RAM</th>\n",
       "      <th>Processor</th>\n",
       "      <th>GPU</th>\n",
       "      <th>Warranty</th>\n",
       "      <th>ScreenSize</th>\n",
       "      <th>Disk Type</th>\n",
       "      <th>DISK SIZE</th>\n",
       "      <th>Price</th>\n",
       "    </tr>\n",
       "  </thead>\n",
       "  <tbody>\n",
       "    <tr>\n",
       "      <th>0</th>\n",
       "      <td>Lenovo</td>\n",
       "      <td>Windows</td>\n",
       "      <td>DDR4</td>\n",
       "      <td>8</td>\n",
       "      <td>Intel</td>\n",
       "      <td>Others</td>\n",
       "      <td>2</td>\n",
       "      <td>14.0</td>\n",
       "      <td>SSD</td>\n",
       "      <td>256</td>\n",
       "      <td>10.518430</td>\n",
       "    </tr>\n",
       "    <tr>\n",
       "      <th>1</th>\n",
       "      <td>Lenovo</td>\n",
       "      <td>Windows</td>\n",
       "      <td>DDR4</td>\n",
       "      <td>8</td>\n",
       "      <td>Intel</td>\n",
       "      <td>Others</td>\n",
       "      <td>2</td>\n",
       "      <td>15.6</td>\n",
       "      <td>SSD</td>\n",
       "      <td>512</td>\n",
       "      <td>10.596410</td>\n",
       "    </tr>\n",
       "    <tr>\n",
       "      <th>2</th>\n",
       "      <td>ASUS</td>\n",
       "      <td>Windows</td>\n",
       "      <td>DDR4</td>\n",
       "      <td>8</td>\n",
       "      <td>Intel</td>\n",
       "      <td>Others</td>\n",
       "      <td>1</td>\n",
       "      <td>15.6</td>\n",
       "      <td>SSD</td>\n",
       "      <td>512</td>\n",
       "      <td>10.403990</td>\n",
       "    </tr>\n",
       "    <tr>\n",
       "      <th>3</th>\n",
       "      <td>HP</td>\n",
       "      <td>Windows</td>\n",
       "      <td>DDR4</td>\n",
       "      <td>8</td>\n",
       "      <td>AMD</td>\n",
       "      <td>AMD</td>\n",
       "      <td>1</td>\n",
       "      <td>15.6</td>\n",
       "      <td>SSD</td>\n",
       "      <td>512</td>\n",
       "      <td>10.819598</td>\n",
       "    </tr>\n",
       "    <tr>\n",
       "      <th>4</th>\n",
       "      <td>ASUS</td>\n",
       "      <td>Windows</td>\n",
       "      <td>DDR4</td>\n",
       "      <td>8</td>\n",
       "      <td>Intel</td>\n",
       "      <td>Others</td>\n",
       "      <td>1</td>\n",
       "      <td>15.6</td>\n",
       "      <td>SSD</td>\n",
       "      <td>512</td>\n",
       "      <td>10.819598</td>\n",
       "    </tr>\n",
       "  </tbody>\n",
       "</table>\n",
       "</div>"
      ],
      "text/plain": [
       "  Brand Name       OS Ram Type  RAM Processor     GPU  Warranty  ScreenSize  \\\n",
       "0     Lenovo  Windows     DDR4    8     Intel  Others         2        14.0   \n",
       "1     Lenovo  Windows     DDR4    8     Intel  Others         2        15.6   \n",
       "2       ASUS  Windows     DDR4    8     Intel  Others         1        15.6   \n",
       "3         HP  Windows     DDR4    8       AMD     AMD         1        15.6   \n",
       "4       ASUS  Windows     DDR4    8     Intel  Others         1        15.6   \n",
       "\n",
       "  Disk Type  DISK SIZE      Price  \n",
       "0       SSD        256  10.518430  \n",
       "1       SSD        512  10.596410  \n",
       "2       SSD        512  10.403990  \n",
       "3       SSD        512  10.819598  \n",
       "4       SSD        512  10.819598  "
      ]
     },
     "execution_count": 144,
     "metadata": {},
     "output_type": "execute_result"
    }
   ],
   "source": [
    "df.head()"
   ]
  },
  {
   "cell_type": "markdown",
   "id": "2f73755b",
   "metadata": {},
   "source": [
    "**Noted :** \n",
    "\n",
    "Price Column are applied by Log Transformation"
   ]
  },
  {
   "cell_type": "code",
   "execution_count": 145,
   "id": "95fc32da",
   "metadata": {},
   "outputs": [],
   "source": [
    "df.to_csv(\"cleaned.csv\")"
   ]
  },
  {
   "cell_type": "markdown",
   "id": "9e2603dd",
   "metadata": {},
   "source": [
    "# Model Building\n",
    "\n",
    "In summary, the steps involved in building a machine learning model include data preparation, splitting the data into training, validation, and test sets, choosing an appropriate model, training the model on the training data, evaluating the model on the validation and test sets, fine-tuning the model based on the evaluation results, and finally deploying the model for making predictions on new data."
   ]
  },
  {
   "cell_type": "code",
   "execution_count": 185,
   "id": "1feff5a3",
   "metadata": {},
   "outputs": [
    {
     "data": {
      "text/html": [
       "<div>\n",
       "<style scoped>\n",
       "    .dataframe tbody tr th:only-of-type {\n",
       "        vertical-align: middle;\n",
       "    }\n",
       "\n",
       "    .dataframe tbody tr th {\n",
       "        vertical-align: top;\n",
       "    }\n",
       "\n",
       "    .dataframe thead th {\n",
       "        text-align: right;\n",
       "    }\n",
       "</style>\n",
       "<table border=\"1\" class=\"dataframe\">\n",
       "  <thead>\n",
       "    <tr style=\"text-align: right;\">\n",
       "      <th></th>\n",
       "      <th>Brand Name</th>\n",
       "      <th>OS</th>\n",
       "      <th>Ram Type</th>\n",
       "      <th>RAM</th>\n",
       "      <th>Processor</th>\n",
       "      <th>GPU</th>\n",
       "      <th>Warranty</th>\n",
       "      <th>ScreenSize</th>\n",
       "      <th>Disk Type</th>\n",
       "      <th>DISK SIZE</th>\n",
       "      <th>Price</th>\n",
       "    </tr>\n",
       "  </thead>\n",
       "  <tbody>\n",
       "    <tr>\n",
       "      <th>0</th>\n",
       "      <td>Lenovo</td>\n",
       "      <td>Windows</td>\n",
       "      <td>DDR4</td>\n",
       "      <td>8</td>\n",
       "      <td>Intel</td>\n",
       "      <td>Others</td>\n",
       "      <td>2</td>\n",
       "      <td>14.0</td>\n",
       "      <td>SSD</td>\n",
       "      <td>256</td>\n",
       "      <td>36990</td>\n",
       "    </tr>\n",
       "    <tr>\n",
       "      <th>1</th>\n",
       "      <td>Lenovo</td>\n",
       "      <td>Windows</td>\n",
       "      <td>DDR4</td>\n",
       "      <td>8</td>\n",
       "      <td>Intel</td>\n",
       "      <td>Others</td>\n",
       "      <td>2</td>\n",
       "      <td>15.6</td>\n",
       "      <td>SSD</td>\n",
       "      <td>512</td>\n",
       "      <td>39991</td>\n",
       "    </tr>\n",
       "    <tr>\n",
       "      <th>2</th>\n",
       "      <td>ASUS</td>\n",
       "      <td>Windows</td>\n",
       "      <td>DDR4</td>\n",
       "      <td>8</td>\n",
       "      <td>Intel</td>\n",
       "      <td>Others</td>\n",
       "      <td>1</td>\n",
       "      <td>15.6</td>\n",
       "      <td>SSD</td>\n",
       "      <td>512</td>\n",
       "      <td>32990</td>\n",
       "    </tr>\n",
       "    <tr>\n",
       "      <th>3</th>\n",
       "      <td>HP</td>\n",
       "      <td>Windows</td>\n",
       "      <td>DDR4</td>\n",
       "      <td>8</td>\n",
       "      <td>AMD</td>\n",
       "      <td>AMD</td>\n",
       "      <td>1</td>\n",
       "      <td>15.6</td>\n",
       "      <td>SSD</td>\n",
       "      <td>512</td>\n",
       "      <td>49990</td>\n",
       "    </tr>\n",
       "    <tr>\n",
       "      <th>4</th>\n",
       "      <td>ASUS</td>\n",
       "      <td>Windows</td>\n",
       "      <td>DDR4</td>\n",
       "      <td>8</td>\n",
       "      <td>Intel</td>\n",
       "      <td>Others</td>\n",
       "      <td>1</td>\n",
       "      <td>15.6</td>\n",
       "      <td>SSD</td>\n",
       "      <td>512</td>\n",
       "      <td>49990</td>\n",
       "    </tr>\n",
       "  </tbody>\n",
       "</table>\n",
       "</div>"
      ],
      "text/plain": [
       "  Brand Name       OS Ram Type  RAM Processor     GPU  Warranty  ScreenSize  \\\n",
       "0     Lenovo  Windows     DDR4    8     Intel  Others         2        14.0   \n",
       "1     Lenovo  Windows     DDR4    8     Intel  Others         2        15.6   \n",
       "2       ASUS  Windows     DDR4    8     Intel  Others         1        15.6   \n",
       "3         HP  Windows     DDR4    8       AMD     AMD         1        15.6   \n",
       "4       ASUS  Windows     DDR4    8     Intel  Others         1        15.6   \n",
       "\n",
       "  Disk Type  DISK SIZE  Price  \n",
       "0       SSD        256  36990  \n",
       "1       SSD        512  39991  \n",
       "2       SSD        512  32990  \n",
       "3       SSD        512  49990  \n",
       "4       SSD        512  49990  "
      ]
     },
     "execution_count": 185,
     "metadata": {},
     "output_type": "execute_result"
    }
   ],
   "source": [
    "df.head()"
   ]
  },
  {
   "cell_type": "code",
   "execution_count": 186,
   "id": "ff0cb45e",
   "metadata": {},
   "outputs": [],
   "source": [
    "X = df.iloc[:,:-1]"
   ]
  },
  {
   "cell_type": "code",
   "execution_count": 187,
   "id": "7708d14e",
   "metadata": {},
   "outputs": [
    {
     "data": {
      "text/html": [
       "<div>\n",
       "<style scoped>\n",
       "    .dataframe tbody tr th:only-of-type {\n",
       "        vertical-align: middle;\n",
       "    }\n",
       "\n",
       "    .dataframe tbody tr th {\n",
       "        vertical-align: top;\n",
       "    }\n",
       "\n",
       "    .dataframe thead th {\n",
       "        text-align: right;\n",
       "    }\n",
       "</style>\n",
       "<table border=\"1\" class=\"dataframe\">\n",
       "  <thead>\n",
       "    <tr style=\"text-align: right;\">\n",
       "      <th></th>\n",
       "      <th>Brand Name</th>\n",
       "      <th>OS</th>\n",
       "      <th>Ram Type</th>\n",
       "      <th>RAM</th>\n",
       "      <th>Processor</th>\n",
       "      <th>GPU</th>\n",
       "      <th>Warranty</th>\n",
       "      <th>ScreenSize</th>\n",
       "      <th>Disk Type</th>\n",
       "      <th>DISK SIZE</th>\n",
       "    </tr>\n",
       "  </thead>\n",
       "  <tbody>\n",
       "    <tr>\n",
       "      <th>0</th>\n",
       "      <td>Lenovo</td>\n",
       "      <td>Windows</td>\n",
       "      <td>DDR4</td>\n",
       "      <td>8</td>\n",
       "      <td>Intel</td>\n",
       "      <td>Others</td>\n",
       "      <td>2</td>\n",
       "      <td>14.0</td>\n",
       "      <td>SSD</td>\n",
       "      <td>256</td>\n",
       "    </tr>\n",
       "    <tr>\n",
       "      <th>1</th>\n",
       "      <td>Lenovo</td>\n",
       "      <td>Windows</td>\n",
       "      <td>DDR4</td>\n",
       "      <td>8</td>\n",
       "      <td>Intel</td>\n",
       "      <td>Others</td>\n",
       "      <td>2</td>\n",
       "      <td>15.6</td>\n",
       "      <td>SSD</td>\n",
       "      <td>512</td>\n",
       "    </tr>\n",
       "    <tr>\n",
       "      <th>2</th>\n",
       "      <td>ASUS</td>\n",
       "      <td>Windows</td>\n",
       "      <td>DDR4</td>\n",
       "      <td>8</td>\n",
       "      <td>Intel</td>\n",
       "      <td>Others</td>\n",
       "      <td>1</td>\n",
       "      <td>15.6</td>\n",
       "      <td>SSD</td>\n",
       "      <td>512</td>\n",
       "    </tr>\n",
       "    <tr>\n",
       "      <th>3</th>\n",
       "      <td>HP</td>\n",
       "      <td>Windows</td>\n",
       "      <td>DDR4</td>\n",
       "      <td>8</td>\n",
       "      <td>AMD</td>\n",
       "      <td>AMD</td>\n",
       "      <td>1</td>\n",
       "      <td>15.6</td>\n",
       "      <td>SSD</td>\n",
       "      <td>512</td>\n",
       "    </tr>\n",
       "    <tr>\n",
       "      <th>4</th>\n",
       "      <td>ASUS</td>\n",
       "      <td>Windows</td>\n",
       "      <td>DDR4</td>\n",
       "      <td>8</td>\n",
       "      <td>Intel</td>\n",
       "      <td>Others</td>\n",
       "      <td>1</td>\n",
       "      <td>15.6</td>\n",
       "      <td>SSD</td>\n",
       "      <td>512</td>\n",
       "    </tr>\n",
       "    <tr>\n",
       "      <th>...</th>\n",
       "      <td>...</td>\n",
       "      <td>...</td>\n",
       "      <td>...</td>\n",
       "      <td>...</td>\n",
       "      <td>...</td>\n",
       "      <td>...</td>\n",
       "      <td>...</td>\n",
       "      <td>...</td>\n",
       "      <td>...</td>\n",
       "      <td>...</td>\n",
       "    </tr>\n",
       "    <tr>\n",
       "      <th>715</th>\n",
       "      <td>ASUS</td>\n",
       "      <td>Others</td>\n",
       "      <td>Others</td>\n",
       "      <td>4</td>\n",
       "      <td>Intel</td>\n",
       "      <td>Others</td>\n",
       "      <td>1</td>\n",
       "      <td>14.0</td>\n",
       "      <td>SSD</td>\n",
       "      <td>128</td>\n",
       "    </tr>\n",
       "    <tr>\n",
       "      <th>716</th>\n",
       "      <td>Lenovo</td>\n",
       "      <td>Windows</td>\n",
       "      <td>DDR4</td>\n",
       "      <td>8</td>\n",
       "      <td>AMD</td>\n",
       "      <td>AMD</td>\n",
       "      <td>1</td>\n",
       "      <td>15.6</td>\n",
       "      <td>SSD</td>\n",
       "      <td>512</td>\n",
       "    </tr>\n",
       "    <tr>\n",
       "      <th>717</th>\n",
       "      <td>ASUS</td>\n",
       "      <td>Windows</td>\n",
       "      <td>DDR5</td>\n",
       "      <td>16</td>\n",
       "      <td>AMD</td>\n",
       "      <td>Others</td>\n",
       "      <td>1</td>\n",
       "      <td>15.6</td>\n",
       "      <td>SSD</td>\n",
       "      <td>1024</td>\n",
       "    </tr>\n",
       "    <tr>\n",
       "      <th>718</th>\n",
       "      <td>ASUS</td>\n",
       "      <td>Windows</td>\n",
       "      <td>Others</td>\n",
       "      <td>16</td>\n",
       "      <td>Intel</td>\n",
       "      <td>Others</td>\n",
       "      <td>1</td>\n",
       "      <td>14.0</td>\n",
       "      <td>SSD</td>\n",
       "      <td>512</td>\n",
       "    </tr>\n",
       "    <tr>\n",
       "      <th>719</th>\n",
       "      <td>Lenovo</td>\n",
       "      <td>Windows</td>\n",
       "      <td>DDR4</td>\n",
       "      <td>8</td>\n",
       "      <td>Intel</td>\n",
       "      <td>Others</td>\n",
       "      <td>1</td>\n",
       "      <td>15.6</td>\n",
       "      <td>HDD</td>\n",
       "      <td>1024</td>\n",
       "    </tr>\n",
       "  </tbody>\n",
       "</table>\n",
       "<p>720 rows × 10 columns</p>\n",
       "</div>"
      ],
      "text/plain": [
       "    Brand Name       OS Ram Type  RAM Processor     GPU  Warranty  ScreenSize  \\\n",
       "0       Lenovo  Windows     DDR4    8     Intel  Others         2        14.0   \n",
       "1       Lenovo  Windows     DDR4    8     Intel  Others         2        15.6   \n",
       "2         ASUS  Windows     DDR4    8     Intel  Others         1        15.6   \n",
       "3           HP  Windows     DDR4    8       AMD     AMD         1        15.6   \n",
       "4         ASUS  Windows     DDR4    8     Intel  Others         1        15.6   \n",
       "..         ...      ...      ...  ...       ...     ...       ...         ...   \n",
       "715       ASUS   Others   Others    4     Intel  Others         1        14.0   \n",
       "716     Lenovo  Windows     DDR4    8       AMD     AMD         1        15.6   \n",
       "717       ASUS  Windows     DDR5   16       AMD  Others         1        15.6   \n",
       "718       ASUS  Windows   Others   16     Intel  Others         1        14.0   \n",
       "719     Lenovo  Windows     DDR4    8     Intel  Others         1        15.6   \n",
       "\n",
       "    Disk Type  DISK SIZE  \n",
       "0         SSD        256  \n",
       "1         SSD        512  \n",
       "2         SSD        512  \n",
       "3         SSD        512  \n",
       "4         SSD        512  \n",
       "..        ...        ...  \n",
       "715       SSD        128  \n",
       "716       SSD        512  \n",
       "717       SSD       1024  \n",
       "718       SSD        512  \n",
       "719       HDD       1024  \n",
       "\n",
       "[720 rows x 10 columns]"
      ]
     },
     "execution_count": 187,
     "metadata": {},
     "output_type": "execute_result"
    }
   ],
   "source": [
    "X"
   ]
  },
  {
   "cell_type": "code",
   "execution_count": 188,
   "id": "71408257",
   "metadata": {},
   "outputs": [],
   "source": [
    "y = df.iloc[:,-1]"
   ]
  },
  {
   "cell_type": "code",
   "execution_count": 189,
   "id": "db07daad",
   "metadata": {},
   "outputs": [
    {
     "data": {
      "text/plain": [
       "0       36990\n",
       "1       39991\n",
       "2       32990\n",
       "3       49990\n",
       "4       49990\n",
       "        ...  \n",
       "715     23491\n",
       "716     73490\n",
       "717    194991\n",
       "718    125991\n",
       "719     50990\n",
       "Name: Price, Length: 720, dtype: int32"
      ]
     },
     "execution_count": 189,
     "metadata": {},
     "output_type": "execute_result"
    }
   ],
   "source": [
    "y"
   ]
  },
  {
   "cell_type": "code",
   "execution_count": 190,
   "id": "78a1194c",
   "metadata": {},
   "outputs": [],
   "source": [
    "y = np.log1p(y)"
   ]
  },
  {
   "cell_type": "code",
   "execution_count": 191,
   "id": "f61e4dfc",
   "metadata": {},
   "outputs": [
    {
     "data": {
      "text/plain": [
       "0      10.518430\n",
       "1      10.596435\n",
       "2      10.403990\n",
       "3      10.819598\n",
       "4      10.819598\n",
       "         ...    \n",
       "715    10.064415\n",
       "716    11.204918\n",
       "717    12.180714\n",
       "718    11.743974\n",
       "719    10.839404\n",
       "Name: Price, Length: 720, dtype: float64"
      ]
     },
     "execution_count": 191,
     "metadata": {},
     "output_type": "execute_result"
    }
   ],
   "source": [
    "y"
   ]
  },
  {
   "cell_type": "markdown",
   "id": "1b2631ba",
   "metadata": {},
   "source": [
    "## Train Test Split\n",
    "\n",
    "Train-test split is a technique used in machine learning to evaluate the performance of a model on new, unseen data. It involves splitting the available data into two subsets - a training set and a test set. The model is trained on the training set and its performance is evaluated on the test set. This allows the model to learn patterns from the training data and be evaluated on how well it can generalize to new data. The goal of train-test split is to ensure that the model is not overfitting the training data and can perform well on new data. Typically, around 70-80% of the data is used for training, and the remaining 20-30% is used for testing. Cross-validation is another technique that can be used in combination with train-test split to further evaluate the model's performance."
   ]
  },
  {
   "cell_type": "code",
   "execution_count": 192,
   "id": "81cad27c",
   "metadata": {},
   "outputs": [],
   "source": [
    "X_train, X_test, y_train, y_test = train_test_split(X, y, test_size=0.2, random_state=51)"
   ]
  },
  {
   "cell_type": "code",
   "execution_count": 193,
   "id": "7d7882cb",
   "metadata": {},
   "outputs": [
    {
     "data": {
      "text/html": [
       "<div>\n",
       "<style scoped>\n",
       "    .dataframe tbody tr th:only-of-type {\n",
       "        vertical-align: middle;\n",
       "    }\n",
       "\n",
       "    .dataframe tbody tr th {\n",
       "        vertical-align: top;\n",
       "    }\n",
       "\n",
       "    .dataframe thead th {\n",
       "        text-align: right;\n",
       "    }\n",
       "</style>\n",
       "<table border=\"1\" class=\"dataframe\">\n",
       "  <thead>\n",
       "    <tr style=\"text-align: right;\">\n",
       "      <th></th>\n",
       "      <th>Brand Name</th>\n",
       "      <th>OS</th>\n",
       "      <th>Ram Type</th>\n",
       "      <th>RAM</th>\n",
       "      <th>Processor</th>\n",
       "      <th>GPU</th>\n",
       "      <th>Warranty</th>\n",
       "      <th>ScreenSize</th>\n",
       "      <th>Disk Type</th>\n",
       "      <th>DISK SIZE</th>\n",
       "    </tr>\n",
       "  </thead>\n",
       "  <tbody>\n",
       "    <tr>\n",
       "      <th>135</th>\n",
       "      <td>Lenovo</td>\n",
       "      <td>Windows</td>\n",
       "      <td>DDR4</td>\n",
       "      <td>8</td>\n",
       "      <td>AMD</td>\n",
       "      <td>AMD</td>\n",
       "      <td>2</td>\n",
       "      <td>15.6</td>\n",
       "      <td>SSD</td>\n",
       "      <td>512</td>\n",
       "    </tr>\n",
       "    <tr>\n",
       "      <th>548</th>\n",
       "      <td>HP</td>\n",
       "      <td>Windows</td>\n",
       "      <td>DDR5</td>\n",
       "      <td>32</td>\n",
       "      <td>Intel</td>\n",
       "      <td>Others</td>\n",
       "      <td>1</td>\n",
       "      <td>15.6</td>\n",
       "      <td>SSD</td>\n",
       "      <td>1024</td>\n",
       "    </tr>\n",
       "    <tr>\n",
       "      <th>235</th>\n",
       "      <td>ASUS</td>\n",
       "      <td>Windows</td>\n",
       "      <td>DDR4</td>\n",
       "      <td>8</td>\n",
       "      <td>Intel</td>\n",
       "      <td>Intel</td>\n",
       "      <td>1</td>\n",
       "      <td>15.6</td>\n",
       "      <td>SSD</td>\n",
       "      <td>256</td>\n",
       "    </tr>\n",
       "    <tr>\n",
       "      <th>39</th>\n",
       "      <td>ASUS</td>\n",
       "      <td>Windows</td>\n",
       "      <td>DDR4</td>\n",
       "      <td>16</td>\n",
       "      <td>Intel</td>\n",
       "      <td>Others</td>\n",
       "      <td>1</td>\n",
       "      <td>15.6</td>\n",
       "      <td>SSD</td>\n",
       "      <td>512</td>\n",
       "    </tr>\n",
       "    <tr>\n",
       "      <th>554</th>\n",
       "      <td>HP</td>\n",
       "      <td>Windows</td>\n",
       "      <td>DDR4</td>\n",
       "      <td>8</td>\n",
       "      <td>Intel</td>\n",
       "      <td>Others</td>\n",
       "      <td>1</td>\n",
       "      <td>15.6</td>\n",
       "      <td>SSD</td>\n",
       "      <td>512</td>\n",
       "    </tr>\n",
       "  </tbody>\n",
       "</table>\n",
       "</div>"
      ],
      "text/plain": [
       "    Brand Name       OS Ram Type  RAM Processor     GPU  Warranty  ScreenSize  \\\n",
       "135     Lenovo  Windows     DDR4    8       AMD     AMD         2        15.6   \n",
       "548         HP  Windows     DDR5   32     Intel  Others         1        15.6   \n",
       "235       ASUS  Windows     DDR4    8     Intel   Intel         1        15.6   \n",
       "39        ASUS  Windows     DDR4   16     Intel  Others         1        15.6   \n",
       "554         HP  Windows     DDR4    8     Intel  Others         1        15.6   \n",
       "\n",
       "    Disk Type  DISK SIZE  \n",
       "135       SSD        512  \n",
       "548       SSD       1024  \n",
       "235       SSD        256  \n",
       "39        SSD        512  \n",
       "554       SSD        512  "
      ]
     },
     "execution_count": 193,
     "metadata": {},
     "output_type": "execute_result"
    }
   ],
   "source": [
    "X_train.head()"
   ]
  },
  {
   "cell_type": "markdown",
   "id": "3e325abc",
   "metadata": {},
   "source": [
    "## Linear Regression\n",
    "\n",
    "\n",
    "Linear regression is a machine learning algorithm used for predicting a continuous outcome variable based on one or more input variables, also called features or predictors. It works by finding the line of best fit that minimizes the distance between the predicted values and the actual values in the training data. This line can then be used to make predictions on new data. Linear regression assumes that the relationship between the input variables and the outcome variable is linear, and it is sensitive to outliers and multicollinearity. It is a popular algorithm in data science and is commonly used in fields such as finance, economics, and social sciences for predicting stock prices, sales, and other continuous outcomes."
   ]
  },
  {
   "cell_type": "code",
   "execution_count": 194,
   "id": "c624cc1e",
   "metadata": {},
   "outputs": [
    {
     "name": "stdout",
     "output_type": "stream",
     "text": [
      "R2 score 0.8611279706900072\n",
      "MAE 0.17065386703977362\n"
     ]
    }
   ],
   "source": [
    "step1 = ColumnTransformer(transformers=[\n",
    "    ('col_tnf',OneHotEncoder(sparse=False,drop='first'),[0,1,2,3,4,5,6,7,8,9])\n",
    "],remainder='passthrough')\n",
    "\n",
    "step2 = LinearRegression()\n",
    "\n",
    "pipe = Pipeline([\n",
    "    ('step1',step1),\n",
    "    ('step2',step2),\n",
    "    \n",
    "])\n",
    "\n",
    "pipe.fit(X_train,y_train)\n",
    "\n",
    "y_pred = pipe.predict(X_test)\n",
    "\n",
    "print('R2 score',r2_score(y_test,y_pred))\n",
    "print('MAE',mean_absolute_error(y_test,y_pred))"
   ]
  },
  {
   "cell_type": "markdown",
   "id": "7f687d0f",
   "metadata": {},
   "source": [
    "## Ridge Regression\n",
    "\n",
    "\n",
    "Ridge Regression is a linear regression technique used to analyze the relationship between a continuous dependent variable and one or more independent variables. It works by adding a penalty term to the least squares equation that minimizes the sum of the squared residuals. The penalty term (also known as L2 regularization) is a function of the coefficients of the regression equation and is proportional to the square of the magnitude of the coefficients. The goal of Ridge Regression is to find the values of the coefficients that minimize the sum of the squared residuals and the penalty term. Ridge Regression is useful when there is multicollinearity between the independent variables, and it can also help to prevent overfitting in cases where the number of independent variables is greater than the number of observations. However, Ridge Regression assumes that the relationship between the dependent variable and the independent variables is linear and can be limited when the number of independent variables is very large."
   ]
  },
  {
   "cell_type": "code",
   "execution_count": 195,
   "id": "6a78f840",
   "metadata": {},
   "outputs": [
    {
     "name": "stdout",
     "output_type": "stream",
     "text": [
      "R2 score 0.8143537965013152\n",
      "MAE 0.19572030512153443\n"
     ]
    }
   ],
   "source": [
    "step1 = ColumnTransformer(transformers=[\n",
    "    ('col_tnf',OneHotEncoder(sparse=False,drop='first'),[0,1,2,3,4,5,6,7,8,9])\n",
    "],remainder='passthrough')\n",
    "\n",
    "step2 = Ridge(alpha=10)\n",
    "\n",
    "pipe = Pipeline([\n",
    "    ('step1',step1),\n",
    "    ('step2',step2)\n",
    "])\n",
    "\n",
    "pipe.fit(X_train,y_train)\n",
    "\n",
    "y_pred = pipe.predict(X_test)\n",
    "\n",
    "print('R2 score',r2_score(y_test,y_pred))\n",
    "print('MAE',mean_absolute_error(y_test,y_pred))"
   ]
  },
  {
   "cell_type": "markdown",
   "id": "cf6beb7c",
   "metadata": {},
   "source": [
    "## Lasso Regression\n",
    "\n",
    "\n",
    "Lasso (Least Absolute Shrinkage and Selection Operator) Regression is a linear regression technique used to analyze the relationship between a continuous dependent variable and one or more independent variables. It works by adding a penalty term to the least squares equation that minimizes the sum of the squared residuals. The penalty term (also known as L1 regularization) is a function of the coefficients of the regression equation and is proportional to the absolute value of the coefficients. The goal of Lasso Regression is to find the values of the coefficients that minimize the sum of the squared residuals and the penalty term. Lasso Regression is useful when there is multicollinearity between the independent variables, and it can also help to prevent overfitting in cases where the number of independent variables is greater than the number of observations. Lasso Regression also performs feature selection by setting some coefficients to zero, thereby eliminating the corresponding independent variables from the model. However, Lasso Regression assumes that the relationship between the dependent variable and the independent variables is linear and can be limited when the number of independent variables is very large."
   ]
  },
  {
   "cell_type": "code",
   "execution_count": 196,
   "id": "5dcc1e1a",
   "metadata": {},
   "outputs": [
    {
     "name": "stdout",
     "output_type": "stream",
     "text": [
      "R2 score 0.8599151023636292\n",
      "MAE 0.17345759739507915\n"
     ]
    }
   ],
   "source": [
    "step1 = ColumnTransformer(transformers=[\n",
    "    ('col_tnf',OneHotEncoder(sparse=False,drop='first'),[0,1,2,3,4,5,6,7,8,9])\n",
    "],remainder='passthrough')\n",
    "\n",
    "step2 = Lasso(alpha=0.001)\n",
    "\n",
    "pipe = Pipeline([\n",
    "    ('step1',step1),\n",
    "    ('step2',step2)\n",
    "])\n",
    "\n",
    "pipe.fit(X_train,y_train)\n",
    "\n",
    "y_pred = pipe.predict(X_test)\n",
    "\n",
    "print('R2 score',r2_score(y_test,y_pred))\n",
    "print('MAE',mean_absolute_error(y_test,y_pred))"
   ]
  },
  {
   "cell_type": "markdown",
   "id": "4b803b5c",
   "metadata": {},
   "source": [
    "## Random Forest\n",
    "\n",
    "\n",
    "Random Forest Regressor is a machine learning algorithm used for predicting a continuous outcome variable based on one or more input variables. It is an ensemble method that combines multiple decision trees to reduce overfitting and improve performance. Random Forest Regressor works by creating a set of decision trees using random subsets of the data and random subsets of the input variables. Each tree in the forest is trained on a different subset of the data and generates a prediction. The final prediction is the average of all the predictions generated by the trees in the forest. Random Forest Regressor is a powerful algorithm that can handle both continuous and categorical variables, can capture nonlinear relationships, and is less sensitive to outliers and overfitting than decision tree regressors. However, it can be computationally expensive and difficult to interpret compared to decision tree regressors."
   ]
  },
  {
   "cell_type": "code",
   "execution_count": 197,
   "id": "1b15961c",
   "metadata": {},
   "outputs": [
    {
     "name": "stdout",
     "output_type": "stream",
     "text": [
      "R2 score 0.8690170509577406\n",
      "MAE 0.15447035232578052\n"
     ]
    }
   ],
   "source": [
    "step1 = ColumnTransformer(transformers=[\n",
    "    ('col_tnf',OneHotEncoder(sparse=False,drop='first', handle_unknown='ignore'),[0,1,2,3,4,5,6,7,8,9])\n",
    "],remainder='passthrough')\n",
    "\n",
    "step2 = RandomForestRegressor(n_estimators=155,\n",
    "                              random_state=3,\n",
    "                              max_samples=0.5,\n",
    "                              max_features=0.75,\n",
    "                              max_depth=15)\n",
    "\n",
    "pipe2 = Pipeline([\n",
    "    ('step1',step1),\n",
    "    ('step2',step2)\n",
    "])\n",
    "\n",
    "pipe2.fit(X_train,y_train)\n",
    "\n",
    "y_pred = pipe2.predict(X_test)\n",
    "\n",
    "print('R2 score',r2_score(y_test,y_pred))\n",
    "print('MAE',mean_absolute_error(y_test,y_pred))"
   ]
  },
  {
   "cell_type": "markdown",
   "id": "857eaa1b",
   "metadata": {},
   "source": [
    "## SVM (Support Vector Machine)\n",
    "\n",
    "\n",
    "SVM (Support Vector Machine) Regressor is a machine learning algorithm used for predicting a continuous outcome variable based on one or more input variables. It works by finding a hyperplane that separates the data into two classes with the largest margin possible. In the case of regression, the hyperplane is adjusted to fit as many data points as possible within a certain distance from the hyperplane. SVM Regressor is a powerful algorithm that can handle both linear and nonlinear relationships between the input variables and the outcome variable. It is also less sensitive to outliers than linear regression. However, SVM Regressor can be computationally expensive and is sensitive to the choice of the kernel function used to transform the data into a higher-dimensional space. The choice of hyperparameters such as the kernel and regularization parameter can also have a significant impact on the performance of the model."
   ]
  },
  {
   "cell_type": "code",
   "execution_count": 198,
   "id": "0c9e5205",
   "metadata": {},
   "outputs": [
    {
     "name": "stdout",
     "output_type": "stream",
     "text": [
      "R2 score 0.8538219058120702\n",
      "MAE 0.1698028228243078\n"
     ]
    }
   ],
   "source": [
    "step1 = ColumnTransformer(transformers=[\n",
    "    ('col_tnf',OneHotEncoder(sparse=False,drop='first',handle_unknown='ignore'),[0,1,2,3,4,5,6,7,8,9])\n",
    "],remainder='passthrough')\n",
    "\n",
    "step2 = SVR(kernel='rbf',C=10000,epsilon=0.1)\n",
    "\n",
    "pipe = Pipeline([\n",
    "    ('step1',step1),\n",
    "    ('step2',step2)\n",
    "])\n",
    "\n",
    "pipe.fit(X_train,y_train)\n",
    "\n",
    "y_pred = pipe.predict(X_test)\n",
    "\n",
    "print('R2 score',r2_score(y_test,y_pred))\n",
    "print('MAE',mean_absolute_error(y_test,y_pred))"
   ]
  },
  {
   "cell_type": "markdown",
   "id": "b5e371f5",
   "metadata": {},
   "source": [
    "## Decision Tree\n",
    "\n",
    "\n",
    "Decision Tree Regression is a machine learning algorithm used for regression tasks. It works by recursively splitting the data into subsets based on the most important features, and then predicting the average of the target variable for each subset. Decision Tree Regression can handle both linear and nonlinear relationships between the input variables and the outcome variable, and it can also handle missing values and categorical variables. Decision Tree Regression is easy to interpret and visualize, and it can capture complex interactions between the input variables. However, Decision Tree Regression can be prone to overfitting and can be sensitive to the choice of hyperparameters, such as the maximum depth of the tree and the minimum number of samples required to split a node."
   ]
  },
  {
   "cell_type": "code",
   "execution_count": 199,
   "id": "33057190",
   "metadata": {},
   "outputs": [
    {
     "name": "stdout",
     "output_type": "stream",
     "text": [
      "R2 score 0.8503649909903646\n",
      "MAE 0.16390598460226743\n"
     ]
    }
   ],
   "source": [
    "step1 = ColumnTransformer(transformers=[\n",
    "    ('col_tnf',OneHotEncoder(sparse=False,drop='first'),[0,1,2,3,4,5,6,7,8,9])\n",
    "],remainder='passthrough')\n",
    "\n",
    "step2 = DecisionTreeRegressor(max_depth=8)\n",
    "\n",
    "pipe = Pipeline([\n",
    "    ('step1',step1),\n",
    "    ('step2',step2)\n",
    "])\n",
    "\n",
    "pipe.fit(X_train,y_train)\n",
    "\n",
    "y_pred = pipe.predict(X_test)\n",
    "\n",
    "print('R2 score',r2_score(y_test,y_pred))\n",
    "print('MAE',mean_absolute_error(y_test,y_pred))"
   ]
  },
  {
   "cell_type": "markdown",
   "id": "f0d21d33",
   "metadata": {},
   "source": [
    "## KNN\n",
    "\n",
    "\n",
    "K-Nearest Neighbors (KNN) is a machine learning algorithm used for classification and regression tasks. It is a non-parametric and lazy learning algorithm, which means it does not make any assumptions about the underlying distribution of the data and it does not perform any training. Instead, KNN stores all the training data points in memory and predicts the class or value of a new data point based on the K closest training data points in the feature space. The number K is a hyperparameter that determines how many nearest neighbors to consider. KNN can handle both linear and nonlinear relationships between the input variables and the outcome variable, and it can also handle multiclass classification tasks. However, KNN can be sensitive to the choice of distance metric and the number of nearest neighbors, and it can also be computationally expensive for large datasets."
   ]
  },
  {
   "cell_type": "code",
   "execution_count": 200,
   "id": "08378fd2",
   "metadata": {},
   "outputs": [
    {
     "name": "stdout",
     "output_type": "stream",
     "text": [
      "R2 score 0.8256941307344817\n",
      "MAE 0.1706175126925319\n"
     ]
    }
   ],
   "source": [
    "step1 = ColumnTransformer(transformers=[\n",
    "    ('col_tnf',OneHotEncoder(sparse=False,drop='first'),[0,1,2,3,4,5,6,7,8,9])\n",
    "],remainder='passthrough')\n",
    "\n",
    "step2 = KNeighborsRegressor(n_neighbors=3)\n",
    "\n",
    "pipe = Pipeline([\n",
    "    ('step1',step1),\n",
    "    ('step2',step2)\n",
    "])\n",
    "\n",
    "pipe.fit(X_train,y_train)\n",
    "\n",
    "y_pred = pipe.predict(X_test)\n",
    "\n",
    "print('R2 score',r2_score(y_test,y_pred))\n",
    "print('MAE',mean_absolute_error(y_test,y_pred))"
   ]
  },
  {
   "cell_type": "markdown",
   "id": "8fd5fbe6",
   "metadata": {},
   "source": [
    "## Gradient Boost\n",
    "\n",
    "\n",
    "Gradient Boosting Regression is a machine learning algorithm used for regression tasks. It is an ensemble method that combines multiple weak models into a strong model. Gradient Boosting Regression works by iteratively training decision trees on the data and adjusting the weights of the misclassified data points to focus on the difficult examples. It uses gradient boosting to optimize the model by minimizing a loss function that measures the difference between the predicted values and the actual values. Unlike traditional Gradient Boosting, Gradient Boosting Regression uses a regression loss function instead of a classification loss function. Gradient Boosting Regression is a powerful algorithm that can handle both linear and nonlinear relationships between the input variables and the outcome variable, and it is less prone to overfitting than other algorithms. However, Gradient Boosting Regression can be computationally expensive and requires careful tuning of the hyperparameters to achieve optimal performance."
   ]
  },
  {
   "cell_type": "code",
   "execution_count": 201,
   "id": "bb2e3ee5",
   "metadata": {},
   "outputs": [
    {
     "name": "stdout",
     "output_type": "stream",
     "text": [
      "R2 score 0.8708143222009221\n",
      "MAE 0.1496866073468099\n"
     ]
    }
   ],
   "source": [
    "step1 = ColumnTransformer(transformers=[\n",
    "    ('col_tnf',OneHotEncoder(sparse=False,drop='first'),[0,1,2,3,4,5,6,7,8,9])\n",
    "],remainder='passthrough')\n",
    "\n",
    "step2 = GradientBoostingRegressor(n_estimators=500)\n",
    "\n",
    "pipe = Pipeline([\n",
    "    ('step1',step1),\n",
    "    ('step2',step2)\n",
    "])\n",
    "\n",
    "pipe.fit(X_train,y_train)\n",
    "\n",
    "y_pred = pipe.predict(X_test)\n",
    "\n",
    "print('R2 score',r2_score(y_test,y_pred))\n",
    "print('MAE',mean_absolute_error(y_test,y_pred))"
   ]
  },
  {
   "cell_type": "markdown",
   "id": "72416afc",
   "metadata": {},
   "source": [
    "# XGBoost\n",
    "\n",
    "\n",
    "XGBoost (Extreme Gradient Boosting) is a machine learning algorithm used for classification and regression tasks. It is an ensemble method that combines multiple weak models into a strong model. XGBoost works by iteratively training decision trees on the data and adjusting the weights of the misclassified data points to focus on the difficult examples. It uses gradient boosting to optimize the model by minimizing a loss function that measures the difference between the predicted values and the actual values. XGBoost is a powerful algorithm that can handle both linear and nonlinear relationships between the input variables and the outcome variable. It is also less prone to overfitting and can improve the performance of weaker models. XGBoost can handle missing values, has built-in regularization to prevent overfitting, and can handle large datasets. However, XGBoost can be computationally expensive and requires careful tuning of the hyperparameters to achieve optimal performance."
   ]
  },
  {
   "cell_type": "code",
   "execution_count": 202,
   "id": "ff9e8f20",
   "metadata": {},
   "outputs": [
    {
     "name": "stdout",
     "output_type": "stream",
     "text": [
      "R2 score 0.8528836671393775\n",
      "MAE 0.1559627410171164\n"
     ]
    }
   ],
   "source": [
    "step1 = ColumnTransformer(transformers=[\n",
    "    ('col_tnf',OneHotEncoder(sparse=False,drop='first', handle_unknown='ignore'),[0,1,2,3,4,5,6,7,8,9])\n",
    "],remainder='passthrough')\n",
    "\n",
    "step2 = XGBRegressor(n_estimators=45,max_depth=5,learning_rate=0.5)\n",
    "\n",
    "pipe1 = Pipeline([\n",
    "    ('step1',step1),\n",
    "    ('step2',step2)\n",
    "])\n",
    "\n",
    "pipe1.fit(X_train,y_train)\n",
    "\n",
    "y_pred = pipe1.predict(X_test)\n",
    "\n",
    "print('R2 score',r2_score(y_test,y_pred))\n",
    "print('MAE',mean_absolute_error(y_test,y_pred))"
   ]
  },
  {
   "cell_type": "markdown",
   "id": "249f41ae",
   "metadata": {},
   "source": [
    "## AdaBoost\n",
    "\n",
    "\n",
    "AdaBoost (Adaptive Boosting) is a machine learning algorithm used for classification and regression tasks. It is an ensemble method that combines multiple weak models into a strong model. AdaBoost works by iteratively training weak models on the data and adjusting the weights of the misclassified data points to focus on the difficult examples. The final model is a weighted sum of the weak models, where the weights are determined by the performance of each model. AdaBoost is a powerful algorithm that can handle both linear and nonlinear relationships between the input variables and the outcome variable. It is also less prone to overfitting and can improve the performance of weaker models. However, AdaBoost can be sensitive to noisy data and outliers. It is also computationally expensive and requires careful tuning of the hyperparameters to achieve optimal performance."
   ]
  },
  {
   "cell_type": "code",
   "execution_count": 203,
   "id": "698b9cf2",
   "metadata": {},
   "outputs": [
    {
     "name": "stdout",
     "output_type": "stream",
     "text": [
      "R2 score 0.7912855684154396\n",
      "MAE 0.22875569664352913\n"
     ]
    }
   ],
   "source": [
    "step1 = ColumnTransformer(transformers=[\n",
    "    ('col_tnf',OneHotEncoder(sparse=False,drop='first'),[0,1,2,3,4,5,6,7,8,9])\n",
    "],remainder='passthrough')\n",
    "\n",
    "step2 = AdaBoostRegressor(n_estimators=15,learning_rate=1.0)\n",
    "\n",
    "pipe = Pipeline([\n",
    "    ('step1',step1),\n",
    "    ('step2',step2)\n",
    "])\n",
    "\n",
    "pipe.fit(X_train,y_train)\n",
    "\n",
    "y_pred = pipe.predict(X_test)\n",
    "\n",
    "print('R2 score',r2_score(y_test,y_pred))\n",
    "print('MAE',mean_absolute_error(y_test,y_pred))"
   ]
  },
  {
   "cell_type": "markdown",
   "id": "23457fd3",
   "metadata": {},
   "source": [
    "## Lazy Predict\n",
    "\n",
    "Lazy Predict is a Python library that provides a quick and easy way to evaluate and compare many different machine learning models on a given dataset. It is designed to save time and reduce the complexity of building and evaluating machine learning models by automating the process of model selection and performance evaluation. With Lazy Predict, you can quickly build and evaluate many different models, including regression and classification models, without having to manually specify each model and its hyperparameters. Lazy Predict generates a report that includes the performance metrics for each model, allowing you to quickly compare and select the best-performing model for your problem. It is a useful tool for quickly exploring and prototyping machine learning models, as well as for identifying promising models that can be further tuned and optimized."
   ]
  },
  {
   "cell_type": "code",
   "execution_count": 204,
   "id": "cc6025b4",
   "metadata": {},
   "outputs": [
    {
     "name": "stderr",
     "output_type": "stream",
     "text": [
      "100%|██████████████████████████████████████████████████████████████████████████████████| 42/42 [00:08<00:00,  4.82it/s]\n"
     ]
    }
   ],
   "source": [
    "from lazypredict.Supervised import LazyRegressor\n",
    "from sklearn.utils import shuffle\n",
    "reg = LazyRegressor(verbose=0,ignore_warnings=False, custom_metric=None )\n",
    "models,predictions = reg.fit(X_train, X_test, y_train, y_test)"
   ]
  },
  {
   "cell_type": "code",
   "execution_count": 205,
   "id": "a9c7ab65",
   "metadata": {},
   "outputs": [
    {
     "name": "stdout",
     "output_type": "stream",
     "text": [
      "                               Adjusted R-Squared  R-Squared  RMSE  Time Taken\n",
      "Model                                                                         \n",
      "GradientBoostingRegressor                    0.87       0.88  0.21        0.10\n",
      "XGBRegressor                                 0.86       0.87  0.21        0.12\n",
      "BaggingRegressor                             0.86       0.87  0.21        0.04\n",
      "LassoCV                                      0.86       0.87  0.21        0.08\n",
      "ElasticNetCV                                 0.86       0.87  0.21        0.07\n",
      "RidgeCV                                      0.86       0.87  0.21        0.02\n",
      "Ridge                                        0.86       0.87  0.21        0.02\n",
      "BayesianRidge                                0.86       0.87  0.21        0.04\n",
      "LinearRegression                             0.85       0.87  0.22        0.02\n",
      "TransformedTargetRegressor                   0.85       0.87  0.22        0.02\n",
      "KernelRidge                                  0.85       0.86  0.22        0.03\n",
      "HuberRegressor                               0.85       0.86  0.22        0.06\n",
      "LinearSVR                                    0.85       0.86  0.22        0.03\n",
      "RandomForestRegressor                        0.85       0.86  0.22        0.22\n",
      "SVR                                          0.85       0.86  0.22        0.04\n",
      "NuSVR                                        0.85       0.86  0.22        0.05\n",
      "ExtraTreesRegressor                          0.84       0.85  0.22        0.19\n",
      "DecisionTreeRegressor                        0.83       0.84  0.23        0.02\n",
      "RANSACRegressor                              0.83       0.84  0.23        0.15\n",
      "KNeighborsRegressor                          0.83       0.84  0.23        0.03\n",
      "ExtraTreeRegressor                           0.82       0.83  0.24        0.02\n",
      "Lars                                         0.82       0.83  0.24        0.02\n",
      "MLPRegressor                                 0.81       0.82  0.25        0.41\n",
      "LassoLarsIC                                  0.80       0.82  0.25        0.02\n",
      "LassoLarsCV                                  0.80       0.82  0.25        0.07\n",
      "PoissonRegressor                             0.80       0.81  0.26        0.04\n",
      "LGBMRegressor                                0.79       0.81  0.26        0.07\n",
      "HistGradientBoostingRegressor                0.79       0.81  0.26        0.45\n",
      "LarsCV                                       0.79       0.80  0.26        0.05\n",
      "AdaBoostRegressor                            0.78       0.80  0.26        0.11\n",
      "PassiveAggressiveRegressor                   0.72       0.74  0.30        0.02\n",
      "OrthogonalMatchingPursuitCV                  0.72       0.74  0.30        0.02\n",
      "SGDRegressor                                 0.71       0.73  0.30        0.02\n",
      "OrthogonalMatchingPursuit                    0.66       0.69  0.33        0.02\n",
      "TweedieRegressor                             0.64       0.67  0.34        0.03\n",
      "GammaRegressor                               0.64       0.66  0.34        0.04\n",
      "QuantileRegressor                           -0.08      -0.00  0.59        5.78\n",
      "ElasticNet                                  -0.08      -0.00  0.59        0.02\n",
      "LassoLars                                   -0.10      -0.02  0.59        0.02\n",
      "Lasso                                       -0.10      -0.02  0.59        0.02\n",
      "DummyRegressor                              -0.10      -0.02  0.59        0.02\n",
      "GaussianProcessRegressor                    -9.54      -8.80  1.83        0.07\n"
     ]
    }
   ],
   "source": [
    "print(models)"
   ]
  },
  {
   "cell_type": "markdown",
   "id": "8feebeca",
   "metadata": {},
   "source": [
    "## Pickle\n",
    "\n",
    "Pickle is a Python module used for serializing and deserializing Python objects. It allows you to convert a Python object into a byte stream, which can be saved to a file or transferred over a network. Pickle can handle almost any Python object, including complex data structures like lists, dictionaries, and classes. The serialized object can be stored as a binary file or as a text file using the JSON format. The process of serializing and deserializing Python objects with Pickle is called pickling and unpickling, respectively. Pickle is a powerful tool for saving and loading models in machine learning, as it allows you to save the state of the model and reuse it later without having to retrain the model. However, it is important to note that Pickle can be unsafe if used improperly, as it can execute arbitrary code from the serialized objects.\n",
    "\n",
    "\n",
    "In the context of machine learning, pickling refers to the process of saving a trained machine learning model to disk so that it can be loaded and reused later without having to retrain the model from scratch. This is particularly useful when dealing with large and complex models that can take a long time to train. The Pickle module in Python is often used for this purpose, as it can serialize most Python objects, including machine learning models. Once the model is pickled, it can be saved as a binary file, and later loaded back into memory using the unpickling process. Pickling machine learning models is a common practice in the industry, as it allows for easy deployment and sharing of models across different systems and platforms. However, it is important to be aware of potential issues with pickling, such as compatibility across different versions of Python, and security risks associated with unpickling untrusted data."
   ]
  },
  {
   "cell_type": "code",
   "execution_count": 206,
   "id": "36fe8f5a",
   "metadata": {},
   "outputs": [],
   "source": [
    "import pickle\n",
    "\n",
    "pickle.dump(df,open('df.pkl','wb'))\n",
    "pickle.dump(pipe2,open('pipe.pkl','wb'))"
   ]
  },
  {
   "cell_type": "code",
   "execution_count": null,
   "id": "16eb9d11",
   "metadata": {},
   "outputs": [],
   "source": []
  }
 ],
 "metadata": {
  "kernelspec": {
   "display_name": "Python 3.11.2 64-bit",
   "language": "python",
   "name": "python3"
  },
  "language_info": {
   "codemirror_mode": {
    "name": "ipython",
    "version": 3
   },
   "file_extension": ".py",
   "mimetype": "text/x-python",
   "name": "python",
   "nbconvert_exporter": "python",
   "pygments_lexer": "ipython3",
   "version": "3.11.2"
  },
  "vscode": {
   "interpreter": {
    "hash": "c261aea317cc0286b3b3261fbba9abdec21eaa57589985bb7a274bf54d6cc0a7"
   }
  }
 },
 "nbformat": 4,
 "nbformat_minor": 5
}
